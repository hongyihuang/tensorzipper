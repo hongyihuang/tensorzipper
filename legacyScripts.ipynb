{
  "cells": [
    {
      "cell_type": "code",
      "execution_count": 1,
      "metadata": {
        "id": "aPxmbqxaSdwW"
      },
      "outputs": [],
      "source": [
        "from tqdm import tqdm\n",
        "import torch\n",
        "from torch import nn, optim\n",
        "import torch.nn.functional as F\n",
        "import math\n",
        "from matplotlib import pyplot\n",
        "import numpy as np\n",
        "from numpy import inf\n",
        "\n",
        "from torch.utils.data import TensorDataset\n",
        "from torch.utils.data import DataLoader"
      ]
    },
    {
      "cell_type": "code",
      "execution_count": 2,
      "metadata": {
        "id": "igYHYwTlSer5"
      },
      "outputs": [],
      "source": [
        "from pathlib import Path\n",
        "import requests\n",
        "import pickle\n",
        "import struct\n",
        "import gzip\n",
        "import io\n",
        "import time"
      ]
    },
    {
      "cell_type": "code",
      "execution_count": 10,
      "metadata": {
        "id": "GBgnfQbjSklR"
      },
      "outputs": [],
      "source": [
        "DATA_PATH = Path(\"data\")\n",
        "PATH = DATA_PATH / \"mnist\"\n",
        "\n",
        "PATH.mkdir(parents=True, exist_ok=True)\n",
        "\n",
        "URL = \"https://github.com/pytorch/tutorials/raw/main/_static/\"\n",
        "FILENAME = \"mnist.pkl.gz\"\n",
        "\n",
        "if not (PATH / FILENAME).exists():\n",
        "        content = requests.get(URL + FILENAME).content\n",
        "        (PATH / FILENAME).open(\"wb\").write(content)\n",
        "\n",
        "with gzip.open((PATH / FILENAME).as_posix(), \"rb\") as f:\n",
        "        ((x_train, y_train), (x_valid, y_valid), _) = pickle.load(f, encoding=\"latin-1\")\n",
        "\n",
        "x_train, y_train, x_valid, y_valid = map(torch.tensor, (x_train, y_train, x_valid, y_valid))\n",
        "\n",
        "m = nn.AvgPool2d(2, stride=2)\n",
        "x_train = m(x_train.reshape((50000, 28, 28))).reshape((50000, 14 * 14))\n",
        "x_valid = m(x_valid.reshape((10000, 28, 28))).reshape((10000, 14 * 14))"
      ]
    },
    {
      "cell_type": "code",
      "execution_count": 11,
      "metadata": {
        "id": "LOgH-gUpSWaX"
      },
      "outputs": [],
      "source": [
        "class STE_Round(torch.autograd.Function):\n",
        "    @staticmethod\n",
        "    def forward(ctx, x):\n",
        "        # Because we are saving one of the inputs use `save_for_backward`\n",
        "        # Save non-tensors and non-inputs/non-outputs directly on ctx\n",
        "        return torch.round(x)\n",
        "\n",
        "    @staticmethod\n",
        "    def backward(ctx, grad_out):\n",
        "        # A function support double backward automatically if autograd\n",
        "        # is able to record the computations performed in backward\n",
        "        return grad_out\n",
        "\n",
        "def Q(x, s, z, alpha_q, beta_q):\n",
        "  # WARNING TORCH.ROUND BACKPROP GIVES 0, SHOULD USE STE\n",
        "  x_q = STE_Round.apply(1/s*x+z)\n",
        "  #x_q = 1/s * x + z\n",
        "  return torch.clamp(x_q, min=alpha_q, max=beta_q)\n",
        "\n",
        "def Q_int8(x, s, z):\n",
        "  x_q = Q(x, s, z, alpha_q = -127, beta_q = 127)\n",
        "  return x_q\n",
        "\n",
        "def Q_uint8(x, s, z):\n",
        "  x_q = Q(x, s, z, alpha_q = 0, beta_q = 255)\n",
        "  return x_q\n",
        "\n",
        "def Q_inv(x_q, s, z):\n",
        "  return s * (x_q - z)\n",
        "\n",
        "def Q_matmul_s_only(x, w, s_x, s_w):\n",
        "  return (x @ w) * s_x * s_w\n",
        "\n",
        "def FQ_int8(x, s, z):\n",
        "  return Q_inv(Q_int8(x, s, z), s, z)\n",
        "\n",
        "def FQ(x, s, z, bins):\n",
        "  return Q_inv(Q(x, s, z, alpha_q = -bins, beta_q = bins), s, z)"
      ]
    },
    {
      "cell_type": "code",
      "execution_count": 12,
      "metadata": {
        "colab": {
          "base_uri": "https://localhost:8080/",
          "height": 621
        },
        "id": "a0dG09wMUX-S",
        "outputId": "4ede0216-2109-4b5a-ca4b-d9a91f23100a"
      },
      "outputs": [
        {
          "name": "stdout",
          "output_type": "stream",
          "text": [
            "tensor([[0., 0., 0.,  ..., 0., 0., 0.],\n",
            "        [0., 0., 0.,  ..., 0., 0., 0.],\n",
            "        [0., 0., 0.,  ..., 0., 0., 0.],\n",
            "        ...,\n",
            "        [0., 0., 0.,  ..., 0., 0., 0.],\n",
            "        [0., 0., 0.,  ..., 0., 0., 0.],\n",
            "        [0., 0., 0.,  ..., 0., 0., 0.]]) tensor([5, 0, 4,  ..., 8, 4, 8])\n",
            "torch.Size([50000, 196])\n",
            "tensor(0) tensor(9)\n",
            "torch.Size([50000, 196])\n",
            "torch.Size([10000, 196])\n"
          ]
        },
        {
          "data": {
            "image/png": "[encoded data removed]",
            "text/plain": [
              "<Figure size 640x480 with 1 Axes>"
            ]
          },
          "metadata": {},
          "output_type": "display_data"
        }
      ],
      "source": [
        "bs = 64  # batch size\n",
        "\n",
        "n, c = x_train.shape\n",
        "print(x_train, y_train)\n",
        "print(x_train.shape)\n",
        "print(y_train.min(), y_train.max())\n",
        "\n",
        "pyplot.imshow(x_train[0].reshape((round(math.sqrt(c)), round(math.sqrt(c)))), cmap=\"gray\")\n",
        "print(x_train.shape)\n",
        "print(x_valid.shape)"
      ]
    },
    {
      "cell_type": "code",
      "execution_count": 13,
      "metadata": {
        "id": "krTWdn7MTSp-"
      },
      "outputs": [],
      "source": [
        "x_train = Q_int8(x_train, torch.max(torch.abs(x_train))/(16-1), 0)\n",
        "x_valid = Q_int8(x_valid, torch.max(torch.abs(x_valid))/(16-1), 0)"
      ]
    },
    {
      "cell_type": "code",
      "execution_count": 14,
      "metadata": {
        "colab": {
          "base_uri": "https://localhost:8080/"
        },
        "id": "VMRbB3To1HI8",
        "outputId": "9ed3a8a4-ac53-44e5-9877-fa5327a1bdfa"
      },
      "outputs": [
        {
          "data": {
            "text/plain": [
              "array([ 0,  0,  0,  0,  0,  0,  0,  0,  0,  0,  0,  0,  0,  0,  0,  0,  0,\n",
              "        0,  0,  0,  0,  0,  0,  0,  0,  0,  0,  0,  0,  0,  0,  0,  0,  0,\n",
              "        0,  1,  4,  3,  6,  6,  0,  0,  0,  0,  0,  1,  8, 11, 14, 15, 15,\n",
              "        8,  9,  4,  0,  0,  0,  0,  0,  0, 10, 13, 14,  6, 10,  0,  0,  0,\n",
              "        0,  0,  0,  0,  0,  0,  0,  4, 12,  0,  0,  0,  0,  0,  0,  0,  0,\n",
              "        0,  0,  0,  0,  0, 11,  7,  2,  0,  0,  0,  0,  0,  0,  0,  0,  0,\n",
              "        0,  0,  1, 11, 13,  3,  0,  0,  0,  0,  0,  0,  0,  0,  0,  0,  0,\n",
              "        0,  9, 14,  1,  0,  0,  0,  0,  0,  0,  0,  0,  0,  3, 10, 14, 13,\n",
              "        0,  0,  0,  0,  0,  0,  0,  0,  1,  9, 14, 14,  8,  1,  0,  0,  0,\n",
              "        0,  0,  0,  3, 10, 14, 15,  9,  1,  0,  0,  0,  0,  0,  0,  0,  0,\n",
              "        6,  7,  5,  2,  0,  0,  0,  0,  0,  0,  0,  0,  0,  0,  0,  0,  0,\n",
              "        0,  0,  0,  0,  0,  0,  0,  0,  0], dtype=uint8)"
            ]
          },
          "execution_count": 14,
          "metadata": {},
          "output_type": "execute_result"
        }
      ],
      "source": [
        "x_train[0].detach().numpy().astype(np.uint8)"
      ]
    },
    {
      "cell_type": "code",
      "execution_count": 15,
      "metadata": {
        "colab": {
          "base_uri": "https://localhost:8080/"
        },
        "id": "ZS5KNCEF170B",
        "outputId": "ab8b85a5-0964-42a6-f5f6-dee2658ec43f"
      },
      "outputs": [
        {
          "data": {
            "text/plain": [
              "torch.Size([196])"
            ]
          },
          "execution_count": 15,
          "metadata": {},
          "output_type": "execute_result"
        }
      ],
      "source": [
        "x_train[0].size()"
      ]
    },
    {
      "cell_type": "code",
      "execution_count": 16,
      "metadata": {
        "colab": {
          "base_uri": "https://localhost:8080/",
          "height": 552
        },
        "id": "v8tYo5DMH4oY",
        "outputId": "5921567b-fadf-4b64-b292-6c0aa068b1b0"
      },
      "outputs": [
        {
          "name": "stdout",
          "output_type": "stream",
          "text": [
            "tensor([[0., 0., 0.,  ..., 0., 0., 0.],\n",
            "        [0., 0., 0.,  ..., 0., 0., 0.],\n",
            "        [0., 0., 0.,  ..., 0., 0., 0.],\n",
            "        ...,\n",
            "        [0., 0., 0.,  ..., 0., 0., 0.],\n",
            "        [0., 0., 0.,  ..., 0., 0., 0.],\n",
            "        [0., 0., 0.,  ..., 0., 0., 0.]]) tensor([5, 0, 4,  ..., 8, 4, 8])\n"
          ]
        },
        {
          "data": {
            "image/png": "[encoded data removed]",
            "text/plain": [
              "<Figure size 640x480 with 1 Axes>"
            ]
          },
          "metadata": {},
          "output_type": "display_data"
        }
      ],
      "source": [
        "pyplot.imshow(x_train[0].reshape((14, 14)), cmap=\"gray\")\n",
        "print(x_train, y_train)"
      ]
    },
    {
      "cell_type": "code",
      "execution_count": 17,
      "metadata": {
        "id": "YoL4465ZMoIM"
      },
      "outputs": [],
      "source": [
        "train_ds = TensorDataset(x_train, y_train)\n",
        "train_dl = DataLoader(train_ds, batch_size=bs, shuffle=True)\n",
        "\n",
        "valid_ds = TensorDataset(x_valid, y_valid)\n",
        "valid_dl = DataLoader(valid_ds, batch_size=bs * 2)"
      ]
    },
    {
      "cell_type": "code",
      "execution_count": 18,
      "metadata": {
        "colab": {
          "base_uri": "https://localhost:8080/"
        },
        "id": "JLpsG-rBw_Ns",
        "outputId": "24631121-e988-465d-97a2-ca4106d27161"
      },
      "outputs": [
        {
          "name": "stdout",
          "output_type": "stream",
          "text": [
            "buffer: b'\\xff\\x00\\x00'\n",
            "buffer: b'\\xff\\x00\\x00'\n",
            "True\n"
          ]
        }
      ],
      "source": [
        "x = torch.randn(size=(1,1))\n",
        "buff = io.BytesIO()\n",
        "buff.write((255).to_bytes(3, 'little'))\n",
        "buff.seek(0)  # <--  this is what you were missing\n",
        "print(f'buffer: {buff.read()}')\n",
        "print(f'buffer: {buff.getvalue()}')\n",
        "\n",
        "#torch.save(x, buff)\n",
        "#buff.seek(0)  # <--  this is what you were missing\n",
        "#print(f'buffer: {buff.read()}')\n",
        "print(buff.writable())"
      ]
    },
    {
      "cell_type": "code",
      "execution_count": 8,
      "metadata": {
        "id": "erBWKxn8aUNO"
      },
      "outputs": [],
      "source": [
        "def cumul_inverse(cumul_counts):\n",
        "  lut = np.zeros(shape=(cumul_counts[-1]), dtype = int)\n",
        "  j = 0\n",
        "  for i in range(cumul_counts[-1]):\n",
        "    if i < cumul_counts[j]:\n",
        "      lut[i] = j-1\n",
        "    else:\n",
        "      j += 1\n",
        "      lut[i] = j-1\n",
        "\n",
        "  return lut\n",
        "\n",
        "def h(x):\n",
        "  bits = np.log2(x)\n",
        "  bits[bits == -inf] = 0\n",
        "  return bits*-x\n",
        "\n",
        "def C_rANS(input, state, symbol_counts, total_counts, cumul_counts):\n",
        "  s_count = symbol_counts[input] # current symbol count/frequency\n",
        "  next_state = (state//s_count)*total_counts + cumul_counts[input] + (state % s_count)\n",
        "  return next_state\n",
        "\n",
        "def D_rANS(state, symbol_counts, total_counts, cumul_counts, cumul_inv_f):\n",
        "  slot = state % total_counts # compute the slot\n",
        "  s = cumul_inv_f[slot] # decode the symbol\n",
        "  prev_state = (state//total_counts)*symbol_counts[s] + slot - cumul_counts[s] # update the state\n",
        "  return s, prev_state\n",
        "\n",
        "def Streaming_rANS_encoder(s_input, symbol_counts):\n",
        "  bits = 8\n",
        "  total_counts = np.sum(symbol_counts)  # Represents M\n",
        "  cumul_counts = np.insert(np.cumsum(symbol_counts),0,0) # the cumulative frequencies\n",
        "  bitstream = io.BytesIO() # initialize stream\n",
        "  state = total_counts # state initialized to M\n",
        "  #bitmask = 2**bits-1\n",
        "  max_range = symbol_counts * (2**bits)\n",
        "\n",
        "  for s in reversed(s_input): # iterate over the input\n",
        "    # Output bits to the stream to bring the state in the range for the next encoding\n",
        "    while state >= max_range[s]:\n",
        "      bitstream.write(state.astype(np.uint8).tobytes())\n",
        "      state = state >> bits\n",
        "    state = C_rANS(s, state, symbol_counts, total_counts, cumul_counts) # The rANS encoding step\n",
        "\n",
        "  bitstream.write(state.item().to_bytes(3, 'little'))\n",
        "\n",
        "  retObj = bytes(reversed(bitstream.getvalue()))\n",
        "  bitstream.close()\n",
        "  return retObj\n",
        "\n",
        "def Streaming_rANS_decoder(bitstream, size, symbol_counts):\n",
        "  data = np.zeros(shape=(size), dtype = np.uint8)\n",
        "  total_counts = np.sum(symbol_counts)  # Represents M\n",
        "  cumul_counts = np.insert(np.cumsum(symbol_counts),0,0) #the cumulative frequencies\n",
        "  cumul_inv_f = cumul_inverse(cumul_counts)\n",
        "  i = 0\n",
        "  j = 3\n",
        "  streamLen = len(bitstream)\n",
        "  state = int.from_bytes(bitstream[0:3], 'big')\n",
        "\n",
        "  while (j < streamLen) or (state != total_counts):\n",
        "    # perform the rANS decoding\n",
        "    if (state >= 2**16): \n",
        "      print(\"State larger than 2**16! \", state)\n",
        "    s, state = D_rANS(state, symbol_counts, total_counts, cumul_counts, cumul_inv_f)\n",
        "\n",
        "    # remap the state into the acceptable range\n",
        "    while (j < streamLen) and (state < total_counts):\n",
        "      stream = bitstream[j]\n",
        "      j += 1\n",
        "      state = (state << 8) + stream\n",
        "\n",
        "    data[i] = s\n",
        "    i += 1\n",
        "\n",
        "  return data"
      ]
    },
    {
      "cell_type": "code",
      "execution_count": 9,
      "metadata": {
        "id": "BeFK09mik5l3"
      },
      "outputs": [],
      "source": [
        "def gen_sample(symbol_counts, size, seed = 42):\n",
        "  # Generate uniform RNG, then bin it accordingly\n",
        "  rng = np.random.default_rng(seed=seed)\n",
        "  rints = rng.integers(low=0, high=sum(symbol_counts), size=size)\n",
        "  cum_sum = np.insert(np.cumsum(symbol_counts),0,0)\n",
        "  table = cumul_inverse(cum_sum)\n",
        "  return list(map(lambda i: table[i], rints))\n",
        "\n",
        "def compress_nparr(nparr, bins):\n",
        "  # 1. Generate byte bins & symbol count to pass into\n",
        "  (hist, t) = np.histogram(nparr, bins = bins)\n",
        "  pyplot.stairs(hist, t)\n",
        "  print(hist, len(hist))\n",
        "\n",
        "  # round the freq distribution with sum equal to 256\n",
        "  hist = np.ceil(hist/np.sum(hist)*256).astype(np.int32)\n",
        "  err = 256 - np.sum(hist)\n",
        "  hist[np.argmax(hist)] += err\n",
        "\n",
        "  # make the zeros one\n",
        "  hist[hist == 0] = 1\n",
        "  err = 256 - np.sum(hist)\n",
        "  hist[np.argmax(hist)] += err\n",
        "\n",
        "  print(hist, len(hist))\n",
        "\n",
        "  assert(np.sum(hist) == 256)\n",
        "\n",
        "  # 2. Transform the input into uint8\n",
        "  new_nparr = nparr.flatten() - np.min(nparr)\n",
        "  print(np.min(new_nparr), np.max(new_nparr))\n",
        "\n",
        "  # 3. Compress\n",
        "  # WARNING: DO NOT PASS A SYMBOL WITH ZERO FREQUENCY, IT WILL INF LOOP\n",
        "  # TEMPORARY FIX: +1 TO THE 0 FREQ SYM AND SUBTRACT MAX FREQ SYM\n",
        "  bitstream = Streaming_rANS_encoder(new_nparr.view(np.uint8), hist)\n",
        "  return (hist, bitstream)\n",
        "\n",
        "  '''\n",
        "  # 1. Generate byte bins & symbol count to pass into\n",
        "  (hist, _) = np.histogram(nparr, bins = bins)\n",
        "  err = 256 - np.sum(hist)\n",
        "  hist[np.argmax(hist)] += err\n",
        "  assert(np.sum(hist) == 256)\n",
        "\n",
        "  # 2. Transform the input into uint8\n",
        "  nparr = nparr.view(np.uint8) - np.min(nparr)\n",
        "\n",
        "  # 3. Compress\n",
        "  Streaming_rANS_encoder(nparr, hist)\n",
        "\n",
        "  return (hist, bitstream)\n",
        "  '''"
      ]
    },
    {
      "cell_type": "code",
      "execution_count": 10,
      "metadata": {
        "colab": {
          "base_uri": "https://localhost:8080/"
        },
        "id": "9puY97XboqYx",
        "outputId": "1c702e1b-f5e0-4778-b628-cb748270404a"
      },
      "outputs": [
        {
          "name": "stdout",
          "output_type": "stream",
          "text": [
            "8 [655749 131169 261658] [0.         0.66666667 1.33333333 2.        ]\n",
            "Per element original bits:  1.5849625007211563\n",
            "Per element compressed bits:  1.2987949406953985\n",
            "Ideal Total Bytes:  170235.65046682727\n",
            "Ideal Ratio:  0.8194483718728034\n"
          ]
        }
      ],
      "source": [
        "# Bin according to symbol_count distribution\n",
        "symbol_counts = np.array([5, 1, 2])\n",
        "size = 1024**2\n",
        "\n",
        "rand_samp = gen_sample(symbol_counts, size)\n",
        "counts, bins = np.histogram(rand_samp, bins = len(symbol_counts))\n",
        "\n",
        "print(sum(symbol_counts), counts, bins)\n",
        "original_bits = np.log(3)/np.log(2)\n",
        "compress_bits = sum(h(np.array(symbol_counts)/8))\n",
        "print(\"Per element original bits: \", original_bits)\n",
        "print(\"Per element compressed bits: \", compress_bits)\n",
        "print(\"Ideal Total Bytes: \", compress_bits*size/8)\n",
        "print(\"Ideal Ratio: \", compress_bits/original_bits)"
      ]
    },
    {
      "cell_type": "code",
      "execution_count": 11,
      "metadata": {
        "colab": {
          "base_uri": "https://localhost:8080/"
        },
        "id": "QBf6npfGa3r6",
        "outputId": "5e9eaf27-50df-4058-8344-787beb1add88"
      },
      "outputs": [
        {
          "name": "stdout",
          "output_type": "stream",
          "text": [
            "True\n"
          ]
        }
      ],
      "source": [
        "bitstream = Streaming_rANS_encoder(rand_samp, symbol_counts)\n",
        "out_symbols = Streaming_rANS_decoder(bitstream, size, symbol_counts)\n",
        "print(all(out_symbols == rand_samp))"
      ]
    },
    {
      "cell_type": "code",
      "execution_count": 12,
      "metadata": {
        "colab": {
          "base_uri": "https://localhost:8080/"
        },
        "id": "rtPHs-mUEWWk",
        "outputId": "ec2b41ae-c221-44ed-9648-b7ff56034253"
      },
      "outputs": [
        {
          "name": "stdout",
          "output_type": "stream",
          "text": [
            "Original:  207744.2048945234 bytes\n",
            "Compressed:  170820 bytes\n",
            "Compression Ratio:  0.8222612038045987\n"
          ]
        }
      ],
      "source": [
        "original_bytes = np.log(3)/np.log(2)*size/8\n",
        "print(\"Original: \", original_bytes, \"bytes\")\n",
        "print(\"Compressed: \", len(bitstream), \"bytes\")\n",
        "print(\"Compression Ratio: \", len(bitstream)/original_bytes)"
      ]
    },
    {
      "cell_type": "code",
      "execution_count": 24,
      "metadata": {
        "colab": {
          "base_uri": "https://localhost:8080/"
        },
        "id": "qGkMhSEoCOVL",
        "outputId": "6011188a-a436-4c4d-d325-b829fc6c6e75"
      },
      "outputs": [
        {
          "name": "stdout",
          "output_type": "stream",
          "text": [
            "0.16743463\n",
            "0.16743463277816772\n",
            "0.16743087768554688\n",
            "0.1669921875\n"
          ]
        }
      ],
      "source": [
        "rng = np.random.default_rng()\n",
        "rand_num = rng.random(size = 1, dtype = np.float32)\n",
        "print(rand_num[0])\n",
        "(tmp) = struct.pack('<f', rand_num[0]) # actually a float32\n",
        "tmp = bytearray(tmp)\n",
        "print(struct.unpack('<f', tmp)[0])\n",
        "tmp[0]=0\n",
        "print(struct.unpack('<f', tmp)[0])\n",
        "tmp[1]=0\n",
        "print(struct.unpack('<f', tmp)[0])"
      ]
    },
    {
      "cell_type": "code",
      "execution_count": 25,
      "metadata": {
        "id": "SP22ywV9Ssb-"
      },
      "outputs": [],
      "source": [
        "# OPCODE, 32 max currently\n",
        "OP_BEGIN = 0\n",
        "OP_END = 1\n",
        "OP_MATMUL = 2\n",
        "\n",
        "OP_MATRIX_MAX = 4\n",
        "OP_MATRIX_ADD = 5\n",
        "\n",
        "OP_QUANTIZE = 8\n",
        "OP_DEQUANTIZE = 9\n",
        "\n",
        "FILE_VERSION = 0\n",
        "\n",
        "class op:\n",
        "  def __init__(self, opcode, data, prev = None):\n",
        "    self.opcode = opcode\n",
        "\n",
        "    self.prev = prev\n",
        "    self.next = None\n",
        "\n",
        "    # Initialize buffer if there are no previous links (a begin node)\n",
        "    if prev:\n",
        "      (self.op_buf, self.weight_buf, self.data_buf) = prev.link_next(self)\n",
        "    else:\n",
        "      self.op_buf = io.BytesIO()\n",
        "      self.weight_buf = io.BytesIO()\n",
        "      self.data_buf = io.BytesIO()\n",
        "\n",
        "    # Create tensor object to emit different data and weight bitstreams\n",
        "    if (opcode == OP_BEGIN) or (opcode == OP_END):\n",
        "      self.tensor = tensor(data, self.data_buf)\n",
        "    elif (opcode == OP_QUANTIZE) or (opcode == OP_DEQUANTIZE):\n",
        "      self.tensor = data\n",
        "    else:\n",
        "      self.tensor = tensor(data, self.weight_buf)\n",
        "\n",
        "  def emit(self):\n",
        "    self.op_buf.write(self.opcode.to_bytes(1, 'little'))\n",
        "\n",
        "    if (self.opcode == OP_QUANTIZE) or (self.opcode == OP_DEQUANTIZE):\n",
        "      # directly store scalar\n",
        "      (tmp) = struct.pack('<f', self.tensor) # actually a float32\n",
        "      self.op_buf.write(tmp[1:3])\n",
        "    else:\n",
        "      self.op_buf.write(self.tensor.buf.tell().to_bytes(3, 'little'))\n",
        "      self.tensor.emit()\n",
        "    if self.next:\n",
        "      self.next.emit()\n",
        "\n",
        "    if (self.opcode == OP_BEGIN):\n",
        "      retObj = (self.op_buf.getvalue(), self.weight_buf.getvalue(), self.data_buf.getvalue())\n",
        "      self.op_buf.close()\n",
        "      self.weight_buf.close()\n",
        "      self.data_buf.close()\n",
        "      return retObj\n",
        "\n",
        "  def link_next(self, next):\n",
        "    self.next = next\n",
        "    return self.op_buf, self.sram_buf, self.flash_buf\n",
        "\n",
        "class tensor:\n",
        "  '''\n",
        "  '''\n",
        "  def __init__(self, tensor, buf):\n",
        "    self.tensor = tensor\n",
        "    self.buf = buf\n",
        "    dim = tensor.shape\n",
        "    if len(dim) == 0:\n",
        "      self.x = 1\n",
        "      self.y = 1\n",
        "    elif len(dim) == 1:\n",
        "      self.x = dim[0]\n",
        "      self.y = 1\n",
        "    elif len(dim) == 2:\n",
        "      self.x = dim[0]\n",
        "      self.y = dim[1]\n",
        "    else:\n",
        "      raise Exception(\"Unsupported dimention\")\n",
        "\n",
        "  def emit(self):\n",
        "    # always use int8 for now\n",
        "    dtype = 0\n",
        "\n",
        "    # Only compress if is large enough\n",
        "    # 0: dense, 1: huffman, 2: ANS, 3: custom\n",
        "    codec = 1 if (self.x*self.y > 256) else 0\n",
        "\n",
        "    # codec (2), dtype (2), bin (4)\n",
        "    self.buf.write(((0<<6)|(0<<4)|(0)).to_bytes(1, 'little'))\n",
        "    self.buf.write(self.x.to_bytes(2, 'little'))\n",
        "    self.buf.write(self.y.to_bytes(2, 'little'))\n",
        "    # Dense or compressed\n",
        "    if (codec == 0):\n",
        "      self.buf.write((self.x*self.y).to_bytes(3, 'little'))\n",
        "      self.buf.write(self.tensor.numpy().tobytes())\n",
        "    else: # (codec == 1): compressed\n",
        "      compress_nparr(self.tensor.numpy(), 16)"
      ]
    },
    {
      "cell_type": "code",
      "execution_count": 26,
      "metadata": {
        "id": "B2Nnt6rKSolh"
      },
      "outputs": [],
      "source": [
        "def exportCArray(bitstream):\n",
        "  buf = io.StringIO()\n",
        "  buf.write('{')\n",
        "  buf.write(', '.join(map(hex, bitstream)))\n",
        "  buf.write('}')\n",
        "  retObj = buf.getvalue()\n",
        "  buf.close()\n",
        "  return retObj"
      ]
    },
    {
      "cell_type": "code",
      "execution_count": 27,
      "metadata": {
        "id": "J8WX2JOnTV9T"
      },
      "outputs": [],
      "source": [
        "class FC_Q(nn.Module):\n",
        "  def __init__(self, x_size, y_size):\n",
        "    super().__init__()\n",
        "    self.weights = nn.Parameter(torch.randn(x_size, y_size) / math.sqrt(x_size))\n",
        "    self.bias = nn.Parameter(torch.zeros(y_size))\n",
        "    self.s_x = lambda bits: 2*self.max_x/bits\n",
        "    self.max_x = 0.0\n",
        "    self.s_w = lambda bits: 2*torch.max(torch.abs(self.weights))/bits\n",
        "    self.s_b = lambda bits: 2*torch.max(torch.abs(self.bias))/bits\n",
        "\n",
        "  def forward(self, xb, train = True, w_bits = 256, x_bits = 256):\n",
        "    if train:\n",
        "      # QAT for weight only, find the max range of input over training\n",
        "      curr = torch.max(torch.abs(xb))\n",
        "      self.max_x = curr if (curr > self.max_x) else self.max_x\n",
        "      return (xb @ FQ_int8(self.weights, self.s_w(w_bits), 0)) + self.bias\n",
        "    else:\n",
        "      # Use int8\n",
        "      Q_xb = Q_int8(xb, self.s_x(x_bits), 0).type(torch.int8)\n",
        "      return (Q_xb @ self.Q_w(w_bits)).type(torch.float) * self.s_x(x_bits) * self.s_w(w_bits) + self.Q_b(x_bits) * self.s_b(x_bits)\n",
        "\n",
        "  def Q_w(self, bits):\n",
        "    return Q_int8(self.weights, self.s_w(bits), 0).type(torch.int8)\n",
        "\n",
        "  def Q_b(self, bits):\n",
        "    return Q_int8(self.bias, self.s_b(bits), 0).type(torch.int8)\n",
        "\n",
        "class MNIST_Model_Q(nn.Module):\n",
        "  def __init__(self, h1):\n",
        "    super().__init__()\n",
        "    self.l1 = FC_Q(c, h1)\n",
        "    self.l2 = FC_Q(h1, 10)\n",
        "    #self.l3 = FC_Q(10, 10)\n",
        "\n",
        "  def forward(self, xb, train = True, L1_w = 256, L1_x = 256, L2_w = 256, L2_x = 256):\n",
        "    act = torch.nn.ReLU6()\n",
        "    out_act = torch.nn.Softmax(dim=1)\n",
        "    L1 = act(self.l1(xb, train, L1_w, L1_x))\n",
        "    L2 = self.l2(L1, train, L2_w, L2_x)\n",
        "    '''\n",
        "    if verbose:\n",
        "      print(torch.transpose(Q_int8(L1, self.l2.s_x(L2_bits), 0).type(torch.uint8), 0, 1))\n",
        "      print(torch.transpose(L2, 0, 1))\n",
        "    '''\n",
        "    return out_act(L2)\n",
        "\n",
        "  def compile(self, input, output, L1_bits = 8, L2_bits = 8):\n",
        "    begin = op(OP_BEGIN, input.to(torch.int8))\n",
        "    next = op(OP_MATMUL, self.l1.s_w(self.w_bits).to(torch.int8), begin)\n",
        "    next = op(OP_MATRIX_ADD, input.to(torch.int8), next)\n",
        "    next = op(OP_DEQUANTIZE, input.to(torch.int8), next)\n",
        "\n",
        "    next = op(OP_MATRIX_MAX, input.to(torch.int8), next)\n",
        "\n",
        "    next = op(OP_QUANTIZE, torch.tensor(1, dtype=torch.float32), next)\n",
        "    next = op(OP_MATMUL, input.to(torch.int8), next)\n",
        "    next = op(OP_MATRIX_ADD, input.to(torch.int8), next)\n",
        "    next = op(OP_DEQUANTIZE, input.to(torch.int8), next)\n",
        "\n",
        "    op(OP_END, output.to(torch.int8), next)\n",
        "\n",
        "    return begin.emit()"
      ]
    },
    {
      "cell_type": "code",
      "execution_count": 28,
      "metadata": {
        "colab": {
          "base_uri": "https://localhost:8080/"
        },
        "id": "xgQfsvonXmTc",
        "outputId": "5ae7a287-a2d1-4afe-9f9b-fc907db8535d"
      },
      "outputs": [
        {
          "name": "stdout",
          "output_type": "stream",
          "text": [
            "tensor(2.3473, grad_fn=<NllLossBackward0>)\n"
          ]
        }
      ],
      "source": [
        "lr = 0.001  # learning rate\n",
        "epochs = 20  # how many epochs to train for\n",
        "loss_func = F.cross_entropy\n",
        "hidden_dim = 64\n",
        "\n",
        "def get_model():\n",
        "    model = MNIST_Model_Q(hidden_dim)\n",
        "    return model, optim.Adam(model.parameters(), lr=lr)\n",
        "\n",
        "model, opt = get_model()\n",
        "print(loss_func(model(x_valid[0:bs]), y_valid[0:bs]))"
      ]
    },
    {
      "cell_type": "code",
      "execution_count": 29,
      "metadata": {
        "colab": {
          "base_uri": "https://localhost:8080/"
        },
        "id": "qXIqeuozXnaD",
        "outputId": "9ad67fff-86b4-46a7-b933-fb5e9c7ddb39"
      },
      "outputs": [
        {
          "name": "stdout",
          "output_type": "stream",
          "text": [
            "0 1.5378185905456543\n",
            "5 1.5001120077133179\n",
            "10 1.4943773624420167\n",
            "15 1.494245266532898\n"
          ]
        }
      ],
      "source": [
        "# Create fit() and get_data()\n",
        "def loss_batch(model, loss_func, xb, yb, opt=None):\n",
        "    loss = loss_func(model(xb), yb)\n",
        "\n",
        "    if opt is not None:\n",
        "        loss.backward()\n",
        "        opt.step()\n",
        "        opt.zero_grad()\n",
        "\n",
        "    return loss.item(), len(xb)\n",
        "\n",
        "def fit(epochs, model, loss_func, opt, train_dl, valid_dl):\n",
        "    for epoch in range(epochs):\n",
        "        model.train()\n",
        "        for xb, yb in train_dl:\n",
        "            loss_batch(model, loss_func, xb, yb, opt)\n",
        "        if (epoch % 5 == 0):\n",
        "            model.eval()\n",
        "            with torch.no_grad():\n",
        "                losses, nums = zip(\n",
        "                    *[loss_batch(model, loss_func, xb, yb) for xb, yb in valid_dl]\n",
        "                )\n",
        "            val_loss = np.sum(np.multiply(losses, nums)) / np.sum(nums)\n",
        "            print(epoch, val_loss)\n",
        "\n",
        "def get_data(train_ds, valid_ds, bs):\n",
        "    return (\n",
        "        DataLoader(train_ds, batch_size=bs, shuffle=True),\n",
        "        DataLoader(valid_ds, batch_size=bs * 2),\n",
        "    )\n",
        "\n",
        "train_dl, valid_dl = get_data(train_ds, valid_ds, bs)\n",
        "model, opt = get_model()\n",
        "fit(epochs, model, loss_func, opt, train_dl, valid_dl)"
      ]
    },
    {
      "cell_type": "code",
      "execution_count": 30,
      "metadata": {
        "id": "poxdq-JyZwj7"
      },
      "outputs": [],
      "source": [
        "def accuracy(out, yb):\n",
        "    preds = torch.argmax(out, dim=1)\n",
        "    return (preds == yb).float().mean().item()\n",
        "\n",
        "def correct_index(out, yb):\n",
        "    preds = torch.argmax(out, dim=1)\n",
        "    return torch.nonzero((preds == yb), as_tuple = True)"
      ]
    },
    {
      "cell_type": "code",
      "execution_count": 31,
      "metadata": {
        "colab": {
          "base_uri": "https://localhost:8080/"
        },
        "id": "P7_6B2bcf_1k",
        "outputId": "9aff035a-4f55-4a7f-85b9-bdf4948cc930"
      },
      "outputs": [
        {
          "name": "stdout",
          "output_type": "stream",
          "text": [
            "Unquantized accuracy 0.9710999727249146 %\n",
            "Quantized accuracy int8 0.8902999758720398 %\n",
            "Quantized accuracy int8 0.9455999732017517 %\n"
          ]
        }
      ],
      "source": [
        "L1_bits = 6 # 5 for 28*28, 9 for 14*14\n",
        "L2_bits = 8\n",
        "print(\"Unquantized accuracy\", accuracy(model(x_valid), y_valid), \"%\")\n",
        "print(\"Quantized accuracy int8\", accuracy(model(x_valid, train = False,\n",
        "                                                L1_w = 16, L1_x = 2,\n",
        "                                                L2_w = 12, L2_x = 4),\n",
        "                                          y_valid), \"%\")\n",
        "print(\"Quantized accuracy int8\", accuracy(model(x_valid, train = False,\n",
        "                                                L1_w = 14, L1_x = 10,\n",
        "                                                L2_w = 8, L2_x = 7),\n",
        "                                          y_valid), \"%\")"
      ]
    },
    {
      "cell_type": "code",
      "execution_count": 32,
      "metadata": {
        "colab": {
          "base_uri": "https://localhost:8080/"
        },
        "id": "9sHAxxKomMGk",
        "outputId": "09704920-1d31-45c8-9f96-f3ff2dd3ddd8"
      },
      "outputs": [
        {
          "name": "stdout",
          "output_type": "stream",
          "text": [
            "Quantized accuracy int8 0.9545999765396118 %\n"
          ]
        }
      ],
      "source": [
        "print(\"Quantized accuracy int8\", accuracy(model(x_valid, train = False,\n",
        "                                                L1_w = 16, L1_x = 8,\n",
        "                                                L2_w = 16, L2_x = 4),\n",
        "                                          y_valid), \"%\")"
      ]
    },
    {
      "cell_type": "code",
      "execution_count": 33,
      "metadata": {
        "id": "NGjZyP1lgA9r"
      },
      "outputs": [],
      "source": [
        "bits = 4\n",
        "num_bins = 2**bits"
      ]
    },
    {
      "cell_type": "code",
      "execution_count": 34,
      "metadata": {
        "colab": {
          "base_uri": "https://localhost:8080/",
          "height": 499
        },
        "id": "WcXrNt8TP0rz",
        "outputId": "f9464185-6863-4305-a340-1a9c19f9d785"
      },
      "outputs": [
        {
          "name": "stdout",
          "output_type": "stream",
          "text": [
            "[4917  111   95   80   86   85   96   80   81   91   71   79   92   99\n",
            "   91  118] 16\n",
            "[194   5   4   4   4   4   4   4   4   4   3   4   4   5   4   5] 16\n",
            "0 15\n"
          ]
        },
        {
          "data": {
            "image/png": "[encoded data removed]",
            "text/plain": [
              "<Figure size 640x480 with 1 Axes>"
            ]
          },
          "metadata": {},
          "output_type": "display_data"
        }
      ],
      "source": [
        "(dist, bitstream) = compress_nparr(x_valid[0:32].detach().numpy().astype(np.int8), 16)"
      ]
    },
    {
      "cell_type": "code",
      "execution_count": 35,
      "metadata": {
        "colab": {
          "base_uri": "https://localhost:8080/"
        },
        "id": "YFtlO68g-okD",
        "outputId": "764f4420-f98b-4565-f2a9-be92436f6097"
      },
      "outputs": [
        {
          "data": {
            "text/plain": [
              "torch.Size([32, 196])"
            ]
          },
          "execution_count": 35,
          "metadata": {},
          "output_type": "execute_result"
        }
      ],
      "source": [
        "x_valid[0:32].size()"
      ]
    },
    {
      "cell_type": "code",
      "execution_count": 36,
      "metadata": {
        "id": "gzp2v-Xy7JA4"
      },
      "outputs": [],
      "source": [
        "decompressed = np.array(Streaming_rANS_decoder(bitstream, 32*14*14, dist))"
      ]
    },
    {
      "cell_type": "code",
      "execution_count": 37,
      "metadata": {
        "colab": {
          "base_uri": "https://localhost:8080/",
          "height": 105
        },
        "id": "SbQKEqCYYine",
        "outputId": "5bf1263b-7008-45e8-8558-b4af9475f3c3"
      },
      "outputs": [
        {
          "data": {
            "text/plain": [
              "'{0x0, 0x4, 0x60, 0x6c, 0x4a, 0xf6, 0xd4, 0x37, 0xd2, 0xdd, 0xf4, 0x45, 0x67, 0x46, 0x65, 0xed, 0x99, 0xf6, 0xea, 0xc6, 0x9, 0xfe, 0x41, 0xd8, 0xef, 0xc9, 0x9, 0xf7, 0xdc, 0xb8, 0xed, 0xf7, 0xfe, 0x5d, 0x2c, 0xf3, 0xdb, 0xc6, 0x3, 0x2, 0x4c, 0xd3, 0xd9, 0xd7, 0xaa, 0xf6, 0xe2, 0xd9, 0xee, 0xca, 0x76, 0xd5, 0x32, 0xc8, 0x99, 0xea, 0x39, 0xcd, 0xb9, 0xe8, 0xe2, 0xe0, 0x9a, 0xfd, 0xce, 0x16, 0xe5, 0xc3, 0x15, 0xe8, 0x45, 0xe3, 0x6d, 0xd7, 0x91, 0x9f, 0xe1, 0xe4, 0xe5, 0x4f, 0xdb, 0x76, 0xc1, 0x27, 0xe0, 0x66, 0xf5, 0x43, 0x9b, 0xce, 0x97, 0xd3, 0x2d, 0xf9, 0xca, 0x92, 0xd7, 0x34, 0xcc, 0x69, 0x9a, 0xf9, 0xf4, 0x30, 0x59, 0xd3, 0xf2, 0x7a, 0xcb, 0xd0, 0xff, 0xea, 0xca, 0xb3, 0xf1, 0xe4, 0xcd, 0x6, 0x6, 0x2, 0x72, 0x6c, 0xd0, 0x54, 0xf0, 0xe6, 0xef, 0x3d, 0xeb, 0x25, 0xf7, 0xe4, 0x1e, 0xaf, 0xf7, 0xbf, 0xf4, 0xd7, 0xc7, 0xea, 0xce, 0x54, 0xee, 0xf0, 0xf9, 0x53, 0x6e, 0x51, 0xb1, 0x47, 0x2b, 0xcd, 0x4d, 0xd6, 0x10, 0xd0, 0x3e, 0x6b, 0xd4, 0x3d, 0xf7, 0xe4, 0xe7, 0x5e, 0x5e, 0xcd, 0x5a, 0x2b, 0xd7, 0xb3, 0xfa, 0xc4, 0x37, 0xfa, 0xd9, 0xd7, 0xca, 0x86, 0xc8, 0xeb, 0xeb, 0xde, 0xf3, 0x72, 0xf2, 0x13, 0x46, 0xfe, 0xe2, 0xc4, 0xf8, 0xc6, 0xa6, 0xf3, 0xe3, 0xef, 0xe2, 0xa8, 0xdd, 0x4c, 0x6, 0x8, 0x8, 0x46, 0x8b, 0xc5, 0xec, 0x6b, 0xee, 0xe6, 0xcc, 0x98, 0xf5, 0xd6, 0x42, 0xe2, 0x5b, 0xe1, 0x1c, 0xdd, 0xe5, 0x1, 0xef, 0xe2, 0xe9, 0xc3, 0x6f, 0xe0, 0xe9, 0xe3, 0x33, 0x10, 0x7f, 0xb4, 0x51, 0x9a, 0x64, 0x2, 0x79, 0xa6, 0xe0, 0xed, 0xe3, 0xb2, 0xe9, 0xfb, 0xee, 0xdc, 0xd5, 0xd5, 0xed, 0xff, 0xf6, 0xdb, 0xb6, 0xfd, 0xff, 0xe3, 0x98, 0xc9, 0xe7, 0xc7, 0x16, 0xf8, 0xe4, 0xa6, 0xfe, 0xc3, 0x65, 0xf1, 0xfd, 0xcf, 0x62, 0xdb, 0xff, 0xe7, 0xca, 0xba, 0xde, 0xce, 0x6c, 0x73, 0x51, 0xf7, 0xe3, 0xca, 0x99, 0xd6, 0xe2, 0xe9, 0x89, 0xe9, 0xdb, 0x9d, 0xfd, 0xf9, 0xc4, 0x2e, 0xe9, 0xd8, 0xe4, 0x6d, 0xd3, 0x88, 0xec, 0x6b, 0xe3, 0x32, 0xc2, 0xef, 0xdd, 0xda, 0xe1, 0x6e, 0xdc, 0xef, 0xfd, 0xcc, 0x16, 0x6, 0x2, 0x96, 0xd0, 0x71, 0xf3, 0xd8, 0xec, 0xc5, 0xad, 0x93, 0xd4, 0xa5, 0xee, 0xa6, 0xc9, 0x9b, 0xc6, 0xdc, 0xd9, 0x58, 0xf7, 0x77, 0x23, 0xc7, 0x50, 0xdd, 0xd7, 0x6f, 0xda, 0xd4, 0x43, 0xa2, 0xe3, 0xde, 0x8f, 0xd9, 0xc2, 0x2, 0xc1, 0x9d, 0xc6, 0xc0, 0x4f, 0xd3, 0xb8, 0xee, 0xa5, 0x46, 0xc7, 0x43, 0xd7, 0xb8, 0xec, 0x13, 0x67, 0x26, 0xda, 0xa0, 0xed, 0xea, 0xf7, 0xc5, 0x1f, 0xdf, 0xe6, 0xe8, 0x2f, 0xe0, 0x54, 0xeb, 0x2f, 0x8a, 0x79, 0xbb, 0xd8, 0xd2, 0x12, 0xe6, 0xfc, 0xf9, 0xc4, 0x3e, 0xf7, 0xd6, 0xca, 0xa9, 0xfd, 0x2a, 0x59, 0xe2, 0x94, 0xfd, 0xfe, 0xe2, 0x39, 0xab, 0xfb, 0xfd, 0xfc, 0xd0, 0x35, 0xed, 0xfd, 0xd5, 0x95, 0xfc, 0xa, 0xfa, 0xf9, 0xd7, 0x99, 0xd5, 0x7, 0x6e, 0xea, 0xc4, 0x93, 0xfc, 0xc2, 0x3a, 0xcf, 0xe5, 0xe6, 0x33, 0x70, 0x4d, 0x1d, 0x50, 0x2e, 0x68, 0xc6, 0xe3, 0xd6, 0xeb, 0xbb, 0xe4, 0xe0, 0xf4, 0xe7, 0xbf, 0xcd, 0xcc, 0xed, 0xf2, 0xf0, 0xca, 0x4d, 0xf7, 0xe0, 0x9e, 0xe8, 0x6, 0x5, 0x80, 0x9b, 0xec, 0xfa, 0xe0, 0xc4, 0xab, 0xe2, 0xd6, 0xe8, 0xee, 0x8d, 0xfc, 0xd5, 0x21, 0xfe, 0x50, 0xe3, 0xfc, 0xe2, 0xb, 0xfa, 0xef, 0x62, 0xc2, 0xd6, 0xfd, 0x87, 0xb, 0xf3, 0xc1, 0xff, 0xe9, 0xe7, 0xf7, 0xcc, 0x6d, 0xf3, 0xf7, 0xe9, 0xcd, 0x6, 0x6, 0xf, 0xd9, 0xdd, 0x74, 0x66, 0xf5, 0xf0, 0xe9, 0xe6, 0x3b, 0xd1, 0xe2, 0x2, 0xd1, 0xe, 0xfc, 0x98, 0xd0, 0xdc, 0xeb, 0xe8, 0xa9, 0xf9, 0xc2, 0xa7, 0xf3, 0xd5, 0x9b, 0xe9, 0xc9, 0xc6, 0xb4, 0xe6, 0xe, 0xdc, 0x82, 0xf1, 0xf4, 0xd9, 0x46, 0xdb, 0x7a, 0x6, 0x8, 0x7, 0xe5, 0xce, 0xe2, 0x1, 0xfc, 0xce, 0xcf, 0xdc, 0x2a, 0xff, 0xdb, 0xe9, 0xc9, 0xae, 0xf4, 0x1a, 0x5c, 0x9, 0xdb, 0xe7, 0xfb, 0x94, 0xd4, 0xe9, 0xfa, 0xfc, 0x75, 0xc1, 0x7f, 0x2e, 0x77, 0xd, 0xf1, 0xbe, 0xe4, 0x58, 0x7, 0x4a, 0xd9, 0xce, 0x19, 0xed, 0xf9, 0xe9, 0xca, 0x6c, 0xf3, 0xe1, 0xd6, 0xff, 0xd9, 0xf4, 0x79, 0xfb, 0xe4, 0x24, 0xde, 0xf8, 0xd7, 0xa2, 0xee, 0xe8, 0x15, 0xf0, 0xf8, 0xd1, 0x5a, 0xd2, 0xf2, 0x39, 0xd2, 0x4c, 0xd3, 0x13, 0xfa, 0xf9, 0xcf, 0x93, 0xde, 0xcf, 0x2, 0x80, 0x60, 0xd0, 0x5e, 0xff, 0xec, 0xc1, 0xff, 0xfb, 0x79, 0xe1, 0xfb, 0xdf, 0x95, 0xfc, 0xdf, 0x5f, 0xff, 0xe0, 0x91, 0xfb, 0xe1, 0x94, 0xfd, 0xe2, 0x9b, 0xfd, 0xfe, 0xfb, 0x20, 0xfb, 0x7a, 0x2, 0x7f, 0x9a, 0xff, 0xf6, 0x11, 0xed, 0xe4, 0xc6, 0x83, 0xe9, 0x27, 0x22, 0xed, 0xea, 0xcf, 0xf, 0xee, 0xf0, 0xfe, 0xda, 0x6f, 0xf8, 0x87, 0xc6, 0x77, 0xdd, 0x8e, 0xd7, 0x30, 0x62, 0xda, 0xf0, 0xe2, 0xd4, 0xdb, 0x20, 0xf7, 0xff, 0xe5, 0xc3, 0x70, 0x5, 0x3b, 0xae, 0xeb, 0xf1, 0xc4, 0x20, 0xf2, 0xfa, 0xf9, 0x51, 0x51, 0xe8, 0xd8, 0xc8, 0xdc, 0x66, 0xf4, 0xbf, 0x47, 0xf3, 0xb1, 0xe8, 0xd1, 0x8c, 0xcd, 0x17, 0xe4, 0xd5, 0xa9, 0xd5, 0x2c, 0xe5, 0x3c, 0x96, 0xfc, 0xc6, 0x4b, 0xc2, 0x49, 0xeb, 0xf5, 0xd0, 0xdb, 0xfb, 0x84, 0xe4, 0xf6, 0xfd, 0xd8, 0x16, 0x5, 0x41, 0xa8, 0xe5, 0xf2, 0xf8, 0xca, 0xa0, 0xf6, 0xea, 0xdb, 0x8c, 0xe2, 0x68, 0xf2, 0xed, 0xe9, 0xcb, 0x7b, 0xe7, 0xef, 0xf9, 0xce, 0x98, 0xe8, 0x2a, 0xf8, 0xc4, 0x8f, 0x5a, 0xca, 0xbb, 0xf4, 0xe5, 0xd3, 0xdb, 0xf9, 0x89, 0xeb, 0xf7, 0xfe, 0xd7, 0x42, 0x6, 0x2, 0x72, 0x6b, 0xd6, 0x96, 0xf7, 0xe6, 0xf9, 0x49, 0xe9, 0x4b, 0xe3, 0xb6, 0xf2, 0xce, 0xe4, 0x55, 0xf5, 0xfa, 0xca, 0x35, 0xe6, 0x2a, 0xf4, 0x1e, 0x3f, 0x50, 0xba, 0xc4, 0x4e, 0xd7, 0x2, 0xc4, 0x16, 0x7, 0x5b, 0xc7, 0xd7, 0x10, 0xfa, 0xf7, 0x93, 0x2f, 0x34, 0xef, 0x84, 0xce, 0xa8, 0x9e, 0x59, 0x98, 0xf0, 0x93, 0xe2, 0x19, 0xd6, 0x5a, 0xf5, 0x83, 0xde, 0xbc, 0x4c, 0x2, 0x8a, 0xc8, 0x3f, 0xdf, 0x10, 0x83, 0xf9, 0xdc, 0xa6, 0xef, 0xc, 0xfc, 0xcf, 0x8a, 0x83, 0xfb, 0xe0, 0xde, 0xfd, 0xd8, 0x60, 0xf5, 0xff, 0xf7, 0xd3, 0x5b, 0xfb, 0xcd, 0x59, 0xfa, 0x26, 0xf2, 0x29, 0xea, 0x56, 0xd2, 0x6f, 0x3f, 0x21, 0xe3, 0x51, 0xf3, 0x58, 0xd1, 0x7, 0xd3, 0xc, 0xe3, 0x3d, 0xd9, 0x5c, 0x5b, 0x5f, 0x16, 0xc8, 0x7, 0xf7, 0xd4, 0xb1, 0xd6, 0xa, 0x6, 0x7, 0x56, 0xe7, 0xf1, 0xd1, 0x5a, 0xf3, 0xd7, 0xc4, 0x43, 0xf0, 0x73, 0xf, 0xd6, 0x10, 0xd1, 0x74, 0xd7, 0x5a, 0xcd, 0xb6, 0x4, 0x9d, 0xf0, 0xf4, 0x4c, 0xc7, 0xd2, 0xe9, 0xf5, 0xc4, 0x78, 0xde, 0xed, 0xec, 0xe6, 0xcb, 0x6, 0x2, 0x6d, 0x34, 0xf1, 0xff, 0xfa, 0xc7, 0xbe, 0xcd, 0x1f, 0xdd, 0x59, 0xf6, 0x93, 0x1f, 0xff, 0xf7, 0xc5, 0x71, 0xd5, 0xe6, 0xeb, 0x3e, 0xd6, 0x31, 0x74, 0xe7, 0x63, 0xff, 0xe4, 0xd9, 0xf8, 0x11, 0xfb, 0xfb, 0xfe, 0x3f, 0x15, 0xf3, 0xe9, 0xd9, 0x2, 0x79, 0xa5, 0xed, 0xcd, 0xc4, 0x41, 0xef, 0xe8, 0xdd, 0x51, 0xfb, 0xc2, 0xc8, 0x67, 0xe9, 0x93, 0xe4, 0x6, 0xdf, 0x90, 0x49, 0xda, 0x18, 0xc9, 0x9d, 0xd5, 0xda, 0x88, 0xe5, 0x4b, 0xcb, 0x28, 0xda, 0x4a, 0xe8, 0x1b, 0xdf, 0xf0, 0xe4, 0x57, 0x37, 0xb1, 0x4c, 0x38, 0x36, 0x8, 0xe3, 0xbb, 0xe1, 0x3d, 0xd9, 0x97, 0xe1, 0xbf, 0xe8, 0x9b, 0xe0, 0x20, 0xf1, 0x31, 0xe4, 0xcb, 0x55, 0xf2, 0xda, 0xcd, 0xf2, 0xd5, 0x4c, 0xfe, 0xfe, 0xf2, 0x6, 0xde, 0xde, 0xd3, 0x6, 0x5, 0x81, 0x20, 0xf1, 0xfb, 0xee, 0xd4, 0xbe, 0xf9, 0xd2, 0xd6, 0xea, 0x5a, 0xde, 0x74, 0xff, 0x85, 0xfc, 0x1, 0xf4, 0x23, 0x72, 0xc5, 0x33, 0xea, 0xfa, 0xcd, 0x67, 0xfe, 0xd9, 0x13, 0xda, 0xce, 0x7c, 0xef, 0xfa, 0xeb, 0xf7, 0xe3, 0xd7, 0xc6, 0xe9, 0xea, 0xe1, 0xd7, 0x7a, 0x6, 0x2, 0x7d, 0x85, 0xd7, 0xc3, 0xd4, 0x72, 0xe8, 0xfd, 0xfd, 0xce, 0x14, 0x78, 0xf1, 0xec, 0xe, 0xe8, 0xcf, 0x83, 0xf2, 0x54, 0xee, 0x94, 0xfa, 0xf3, 0xf7, 0xc3, 0x70, 0xe1, 0xdc, 0xd4, 0x75, 0xe6, 0x74, 0xf4, 0xc4, 0x2, 0xcf, 0x9d, 0xcd, 0x2, 0x76, 0x7b, 0xf9, 0xc8, 0xbe, 0xf8, 0xd6, 0xff, 0xe4, 0x41, 0xde, 0x26, 0xfc, 0x54, 0xfd, 0xd2, 0x9c, 0xed, 0x78, 0xe3, 0xc2, 0xfe, 0xda, 0x40, 0xf7, 0xfc, 0xf1, 0x58, 0xf3, 0xe6, 0xc, 0xd5, 0x9d, 0xcd, 0x19, 0xf6, 0xc6, 0x6, 0xd, 0x5b, 0x53, 0x5d, 0x9c, 0xcf, 0xd1, 0x8b, 0xb5, 0xda, 0x7d, 0x2c, 0xe4, 0x80, 0xda, 0xca, 0xec, 0xcf, 0xa4, 0xe7, 0xf7, 0xff, 0xdd, 0xaa, 0xf4, 0xa5, 0x4e, 0x62, 0x6}'"
            ]
          },
          "execution_count": 37,
          "metadata": {},
          "output_type": "execute_result"
        }
      ],
      "source": [
        "exportCArray(bitstream)"
      ]
    },
    {
      "cell_type": "code",
      "execution_count": 38,
      "metadata": {
        "colab": {
          "base_uri": "https://localhost:8080/",
          "height": 35
        },
        "id": "sAdf28ZHp9gQ",
        "outputId": "d4379f95-c5fe-4041-a89d-1f42f3f378eb"
      },
      "outputs": [
        {
          "data": {
            "text/plain": [
              "'{0xc2, 0x5, 0x4, 0x4, 0x4, 0x4, 0x4, 0x4, 0x4, 0x4, 0x3, 0x4, 0x4, 0x5, 0x4, 0x5}'"
            ]
          },
          "execution_count": 38,
          "metadata": {},
          "output_type": "execute_result"
        }
      ],
      "source": [
        "exportCArray(dist)"
      ]
    },
    {
      "cell_type": "code",
      "execution_count": 39,
      "metadata": {
        "id": "jV0S7tg7hHR8"
      },
      "outputs": [],
      "source": [
        "cnt = [194, 5, 4, 4, 4, 4, 4, 4, 4, 4, 3, 4, 4, 5, 4, 5]"
      ]
    },
    {
      "cell_type": "code",
      "execution_count": 40,
      "metadata": {
        "id": "NflUU6rcg-6j"
      },
      "outputs": [],
      "source": [
        "cumul_counts = np.insert(np.cumsum(cnt), 0, 0)"
      ]
    },
    {
      "cell_type": "code",
      "execution_count": 41,
      "metadata": {
        "colab": {
          "base_uri": "https://localhost:8080/"
        },
        "id": "T4mwKxuL6Leu",
        "outputId": "590ff058-19a0-4275-cd36-b9bccb07d4f8"
      },
      "outputs": [
        {
          "data": {
            "text/plain": [
              "array([  0, 194, 199, 203, 207, 211, 215, 219, 223, 227, 231, 234, 238,\n",
              "       242, 247, 251, 256])"
            ]
          },
          "execution_count": 41,
          "metadata": {},
          "output_type": "execute_result"
        }
      ],
      "source": [
        "cumul_counts"
      ]
    },
    {
      "cell_type": "code",
      "execution_count": 42,
      "metadata": {
        "colab": {
          "base_uri": "https://localhost:8080/"
        },
        "id": "huPad8h54UoW",
        "outputId": "b6f9a2ca-18db-4fdf-8d18-8fdef594b503"
      },
      "outputs": [
        {
          "data": {
            "text/plain": [
              "array([ 0,  0,  0,  0,  0,  0,  0,  0,  0,  0,  0,  0,  0,  0,  0,  0,  0,\n",
              "        0,  0,  0,  0,  0,  0,  0,  0,  0,  0,  0,  0,  0,  0,  0,  0,  0,\n",
              "        0,  0,  0,  0,  0,  0,  0,  0,  0,  0,  0,  0,  0,  0,  0,  0,  0,\n",
              "        0,  0,  0,  0,  0,  0,  0,  0,  0,  0,  0,  0,  0,  0,  0,  0,  0,\n",
              "        0,  0,  0,  0,  0,  0,  0,  0,  0,  0,  0,  0,  0,  0,  0,  0,  0,\n",
              "        0,  0,  0,  0,  0,  0,  0,  0,  0,  0,  0,  0,  0,  0,  0,  0,  0,\n",
              "        0,  0,  0,  0,  0,  0,  0,  0,  0,  0,  0,  0,  0,  0,  0,  0,  0,\n",
              "        0,  0,  0,  0,  0,  0,  0,  0,  0,  0,  0,  0,  0,  0,  0,  0,  0,\n",
              "        0,  0,  0,  0,  0,  0,  0,  0,  0,  0,  0,  0,  0,  0,  0,  0,  0,\n",
              "        0,  0,  0,  0,  0,  0,  0,  0,  0,  0,  0,  0,  0,  0,  0,  0,  0,\n",
              "        0,  0,  0,  0,  0,  0,  0,  0,  0,  0,  0,  0,  0,  0,  0,  0,  0,\n",
              "        0,  0,  0,  0,  0,  0,  0,  1,  1,  1,  1,  1,  2,  2,  2,  2,  3,\n",
              "        3,  3,  3,  4,  4,  4,  4,  5,  5,  5,  5,  6,  6,  6,  6,  7,  7,\n",
              "        7,  7,  8,  8,  8,  8,  9,  9,  9,  9, 10, 10, 10, 11, 11, 11, 11,\n",
              "       12, 12, 12, 12, 13, 13, 13, 13, 13, 14, 14, 14, 14, 15, 15, 15, 15,\n",
              "       15])"
            ]
          },
          "execution_count": 42,
          "metadata": {},
          "output_type": "execute_result"
        }
      ],
      "source": [
        "cumul_inverse(cumul_counts)"
      ]
    },
    {
      "cell_type": "code",
      "execution_count": 43,
      "metadata": {
        "colab": {
          "base_uri": "https://localhost:8080/"
        },
        "id": "GH2htbIuYkXu",
        "outputId": "caf3079e-a2a5-48e6-fd8b-10845d6d94fe"
      },
      "outputs": [
        {
          "data": {
            "text/plain": [
              "1248"
            ]
          },
          "execution_count": 43,
          "metadata": {},
          "output_type": "execute_result"
        }
      ],
      "source": [
        "len(bitstream)"
      ]
    },
    {
      "cell_type": "code",
      "execution_count": 44,
      "metadata": {
        "colab": {
          "base_uri": "https://localhost:8080/"
        },
        "id": "GROoUEDtC2fm",
        "outputId": "bc81ca36-a0aa-4cbd-cd23-05f094e8c550"
      },
      "outputs": [
        {
          "data": {
            "text/plain": [
              "0.1989795918367347"
            ]
          },
          "execution_count": 44,
          "metadata": {},
          "output_type": "execute_result"
        }
      ],
      "source": [
        "len(bitstream)/(14*14*32)"
      ]
    },
    {
      "cell_type": "code",
      "execution_count": 45,
      "metadata": {
        "colab": {
          "base_uri": "https://localhost:8080/"
        },
        "id": "d1isc67UhEwh",
        "outputId": "9b4b042a-0c36-457f-8d4d-9f68ffec0b5b"
      },
      "outputs": [
        {
          "data": {
            "text/plain": [
              "tensor([3, 8, 6, 9, 6, 4, 5, 3, 8, 4, 5, 2, 3, 8, 4, 8, 1, 5, 0, 5, 9, 7, 4, 1,\n",
              "        0, 3, 0, 6, 2, 9, 9, 4])"
            ]
          },
          "execution_count": 45,
          "metadata": {},
          "output_type": "execute_result"
        }
      ],
      "source": [
        "y_valid[0:32]"
      ]
    },
    {
      "cell_type": "code",
      "execution_count": 46,
      "metadata": {
        "colab": {
          "base_uri": "https://localhost:8080/",
          "height": 499
        },
        "id": "RndCWE33T1VS",
        "outputId": "ee42102d-ce53-4747-d998-84424b71d81f"
      },
      "outputs": [
        {
          "name": "stdout",
          "output_type": "stream",
          "text": [
            "[   8   19   52  172  449 1047 2659 3838 2630 1109  394  130   28    4\n",
            "    5] 15\n",
            "[ 1  1  2  4 10 22 55 69 54 23  9  3  1  1  1] 15\n",
            "0 14\n"
          ]
        },
        {
          "data": {
            "image/png": "[encoded data removed]",
            "text/plain": [
              "<Figure size 640x480 with 1 Axes>"
            ]
          },
          "metadata": {},
          "output_type": "display_data"
        }
      ],
      "source": [
        "(dist, bitstream) = compress_nparr(model.l1.Q_w(num_bins - 2).detach().numpy(), num_bins - 1)"
      ]
    },
    {
      "cell_type": "code",
      "execution_count": 47,
      "metadata": {
        "colab": {
          "base_uri": "https://localhost:8080/"
        },
        "id": "O4kh6Q7sut8m",
        "outputId": "34f117bc-767d-4069-a980-9f0296c427d8"
      },
      "outputs": [
        {
          "name": "stdout",
          "output_type": "stream",
          "text": [
            "{0x1, 0x1, 0x2, 0x4, 0xa, 0x16, 0x37, 0x45, 0x36, 0x17, 0x9, 0x3, 0x1, 0x1, 0x1}\n"
          ]
        }
      ],
      "source": [
        "print(exportCArray(dist))"
      ]
    },
    {
      "cell_type": "code",
      "execution_count": 48,
      "metadata": {
        "colab": {
          "base_uri": "https://localhost:8080/"
        },
        "id": "fsEg_GZvUI-a",
        "outputId": "2c7eacb2-e3e8-43b0-b81e-2dd18a22a756"
      },
      "outputs": [
        {
          "data": {
            "text/plain": [
              "4.087890625"
            ]
          },
          "execution_count": 48,
          "metadata": {},
          "output_type": "execute_result"
        }
      ],
      "source": [
        "len(bitstream)/1024"
      ]
    },
    {
      "cell_type": "code",
      "execution_count": 49,
      "metadata": {
        "colab": {
          "base_uri": "https://localhost:8080/"
        },
        "id": "hLjXLPjUlUZU",
        "outputId": "eb693e47-0d83-4dbf-c35d-68f68f980a4b"
      },
      "outputs": [
        {
          "name": "stdout",
          "output_type": "stream",
          "text": [
            "{0x0, 0x19, 0x34, 0xa0, 0x95, 0x70, 0x9e, 0x2d, 0x7e, 0x90, 0x7d, 0x59, 0x8c, 0x9b, 0xd1, 0x84, 0xba, 0x6b, 0x65, 0x5f, 0x2c, 0x38, 0xae, 0x3a, 0xb2, 0x30, 0xb1, 0x90, 0x50, 0xc7, 0x47, 0x76, 0x5d, 0x54, 0x77, 0xa0, 0xbf, 0xcb, 0xb9, 0x6b, 0x9c, 0xa9, 0xcd, 0xb6, 0xc1, 0xc5, 0x9d, 0x5b, 0x2e, 0x6e, 0xce, 0x75, 0x91, 0xeb, 0x9d, 0x45, 0x45, 0xa3, 0x47, 0xc1, 0xa1, 0xa4, 0x7c, 0x37, 0x33, 0x3d, 0xd4, 0x13, 0x75, 0x8e, 0xe4, 0xdf, 0x7f, 0x99, 0x50, 0xa3, 0xa4, 0x6a, 0xa7, 0x3b, 0x86, 0x36, 0x3a, 0x69, 0x59, 0x95, 0xb8, 0xaf, 0x1b, 0xd2, 0x60, 0x41, 0x4a, 0xf8, 0x20, 0x75, 0xb3, 0xdd, 0x5f, 0x55, 0x51, 0x9b, 0x74, 0x35, 0x58, 0x72, 0x9, 0xe, 0x26, 0xb4, 0xea, 0xa, 0xde, 0xc1, 0x4b, 0x64, 0xc2, 0xee, 0x99, 0xf5, 0x66, 0xd2, 0x8e, 0x48, 0xa0, 0xf, 0xeb, 0x67, 0xb3, 0x9d, 0x1a, 0xe1, 0xa9, 0x21, 0xd9, 0x7d, 0x88, 0x30, 0xf, 0x65, 0x21, 0x3a, 0xca, 0x7b, 0xd1, 0xb0, 0xf5, 0xa8, 0xa2, 0x27, 0x94, 0xc6, 0xc7, 0x75, 0xae, 0x60, 0xa2, 0x9d, 0xea, 0x25, 0x92, 0x2e, 0x3e, 0x45, 0xce, 0xf, 0xb6, 0x78, 0xea, 0xe8, 0x3b, 0xa7, 0x90, 0xbd, 0xe8, 0xb3, 0xc1, 0x4e, 0xb6, 0x4d, 0x6c, 0xb, 0x33, 0x4c, 0xe8, 0x7b, 0xa2, 0xb9, 0xa, 0xc5, 0xcb, 0x88, 0xb6, 0x6c, 0x2f, 0x3f, 0x23, 0x2c, 0xb, 0xe5, 0x7f, 0x70, 0xe0, 0xfa, 0x53, 0x21, 0xad, 0x6e, 0xde, 0x69, 0x19, 0x50, 0xb4, 0x55, 0xd9, 0x9e, 0x4b, 0xeb, 0x2e, 0x1d, 0xef, 0xf5, 0xa0, 0xd7, 0x76, 0x4c, 0x19, 0x4c, 0x4b, 0x3c, 0x85, 0xad, 0x88, 0xe4, 0x58, 0x83, 0x72, 0x2b, 0x1a, 0x2a, 0x36, 0x9f, 0x67, 0xa3, 0x9b, 0x78, 0x9a, 0x87, 0xc0, 0xd7, 0xbe, 0xcf, 0x52, 0x79, 0xbc, 0x4c, 0x79, 0x54, 0x9d, 0x92, 0xed, 0x70, 0x4d, 0x8d, 0x8a, 0x7e, 0x8b, 0xc7, 0xbb, 0x9e, 0xd7, 0x59, 0x48, 0x7e, 0x8b, 0x74, 0xad, 0x36, 0xa2, 0x70, 0xb9, 0xce, 0x69, 0x2c, 0x8f, 0x6c, 0x1e, 0x38, 0x6e, 0x93, 0xcb, 0x5, 0xb1, 0xb1, 0x7a, 0x2c, 0x18, 0x54, 0x3, 0xd2, 0xdb, 0x9b, 0xcd, 0x48, 0xb4, 0x2c, 0x72, 0x74, 0x58, 0x6f, 0xf3, 0x5f, 0x23, 0xd6, 0xc4, 0x7e, 0xbd, 0xd3, 0x1d, 0x45, 0x1b, 0x56, 0x27, 0xd4, 0x83, 0xca, 0x79, 0x2d, 0xdd, 0x7b, 0x49, 0x99, 0xaf, 0x22, 0xca, 0x60, 0x9d, 0x7a, 0xf0, 0xf4, 0xe3, 0x1c, 0x15, 0x1d, 0xf8, 0x35, 0xf3, 0x55, 0xe, 0xf3, 0x36, 0xc8, 0xc, 0xf7, 0x83, 0xf7, 0xda, 0x1c, 0xb, 0x88, 0xa3, 0xc, 0x9c, 0xd6, 0xdb, 0xfd, 0xb, 0x1f, 0x76, 0x10, 0x84, 0x4c, 0x90, 0xf9, 0x2, 0x42, 0xb8, 0xa4, 0x2, 0xf8, 0x76, 0xb6, 0xb0, 0xbd, 0xad, 0x9, 0xf2, 0x54, 0xde, 0x8, 0x3d, 0x62, 0xd6, 0x19, 0x8, 0x5, 0x65, 0x9b, 0x73, 0x3b, 0xe0, 0x30, 0x72, 0x27, 0x1d, 0x98, 0x8c, 0x48, 0x46, 0xd1, 0x4, 0x28, 0x81, 0x21, 0x30, 0xd5, 0xcf, 0x39, 0x14, 0x16, 0x37, 0xf2, 0x52, 0x6, 0xe8, 0x3c, 0x5f, 0x4, 0x6e, 0x56, 0x92, 0xf3, 0x51, 0x52, 0x2e, 0xe5, 0x2b, 0xae, 0xf, 0xfa, 0x6c, 0x43, 0xcd, 0x6, 0x87, 0xfa, 0x72, 0xf4, 0x6a, 0x9, 0xe7, 0x10, 0x3c, 0x2, 0x6d, 0xdc, 0xe8, 0x34, 0xf5, 0xa6, 0xc9, 0xa1, 0xac, 0xe7, 0x60, 0x81, 0xc4, 0xd5, 0x5, 0x20, 0x4a, 0x4a, 0xcc, 0xcc, 0x81, 0x9c, 0x5b, 0x50, 0x44, 0x7d, 0x52, 0xad, 0x9b, 0xc4, 0xd5, 0x79, 0xb7, 0x77, 0xd2, 0x9e, 0x48, 0x24, 0x81, 0x1a, 0x9c, 0xfc, 0xbd, 0x7c, 0x74, 0xcf, 0x7d, 0xf, 0x3c, 0x99, 0x48, 0xca, 0x5d, 0xb0, 0xa2, 0xcb, 0x7e, 0x89, 0xf5, 0x19, 0x6d, 0xc8, 0x15, 0x47, 0xb4, 0xea, 0xf8, 0x79, 0xd9, 0x21, 0x5d, 0x4c, 0x5, 0xf7, 0xee, 0x9, 0xa9, 0xba, 0x9, 0x29, 0x62, 0x89, 0x60, 0x67, 0xfd, 0x9e, 0xf4, 0xd0, 0x43, 0xe1, 0xf8, 0xc, 0xc5, 0xc8, 0xaa, 0xdb, 0x5, 0x55, 0xc0, 0x63, 0xb3, 0xe6, 0x21, 0x45, 0x22, 0xf7, 0x49, 0xd7, 0xec, 0xc5, 0x74, 0x25, 0x82, 0x35, 0x61, 0xc2, 0x10, 0xc3, 0xf3, 0xef, 0x39, 0xa8, 0x6, 0xe0, 0x2a, 0xa5, 0xb4, 0x58, 0xb6, 0x74, 0x2d, 0xef, 0xc6, 0xb2, 0x26, 0x28, 0x14, 0xdf, 0x7c, 0x78, 0x6a, 0x86, 0x9f, 0xa2, 0x7f, 0x88, 0x1f, 0xb8, 0xc5, 0x43, 0xa5, 0xd1, 0x77, 0x4e, 0x87, 0x52, 0xbc, 0x7a, 0x2f, 0x25, 0xae, 0x61, 0xc7, 0xd2, 0x87, 0x61, 0x18, 0x57, 0xd4, 0xcb, 0xd5, 0x2e, 0xf2, 0x75, 0x2b, 0x13, 0x1f, 0x75, 0x3a, 0x5c, 0x33, 0xf1, 0x93, 0xb4, 0x21, 0x71, 0x1e, 0x4b, 0x61, 0xab, 0xcb, 0x8e, 0x26, 0x3, 0x12, 0xd6, 0x5e, 0x9f, 0x21, 0xc8, 0x1f, 0xe7, 0x64, 0xef, 0x65, 0xda, 0xda, 0xb, 0xd9, 0x27, 0x70, 0x99, 0xa1, 0xe6, 0xa9, 0xe, 0x6d, 0xd0, 0xbb, 0x7c, 0x7c, 0xe7, 0x9f, 0x16, 0x5e, 0xa6, 0x95, 0xdb, 0x26, 0xbd, 0x6, 0x16, 0xc7, 0x96, 0x3, 0x31, 0xda, 0xba, 0xd0, 0xca, 0x9a, 0x3b, 0x72, 0xa9, 0xe1, 0xbe, 0x76, 0x88, 0xb0, 0x93, 0xcf, 0x56, 0xb1, 0x6c, 0x4f, 0x51, 0x36, 0x74, 0x73, 0xc, 0x5d, 0xb3, 0xcd, 0x4f, 0x77, 0x64, 0xb5, 0x30, 0xf, 0xaa, 0xae, 0x9d, 0xdf, 0xbb, 0x61, 0x6d, 0x80, 0xf4, 0xc, 0xcf, 0x94, 0xae, 0xe5, 0x39, 0x91, 0x99, 0x3d, 0x9b, 0xa7, 0xa1, 0xb2, 0xd3, 0xfa, 0x89, 0x9, 0x47, 0x5f, 0x3b, 0x97, 0x5c, 0xab, 0x27, 0x38, 0x8d, 0x8d, 0xf3, 0xce, 0x98, 0xa, 0x63, 0x66, 0xc5, 0x57, 0x81, 0x97, 0x2e, 0x76, 0x36, 0x85, 0xdf, 0x8f, 0x95, 0xb0, 0xf, 0xc2, 0x4c, 0xda, 0x42, 0xd8, 0x54, 0x15, 0x6d, 0x18, 0x7f, 0x5b, 0x85, 0x83, 0x1, 0x43, 0x6b, 0xd0, 0x73, 0x1d, 0xe, 0xfa, 0x7a, 0x7e, 0x5a, 0x52, 0xd2, 0xc6, 0x8f, 0x67, 0x96, 0xdc, 0xe5, 0xa7, 0xde, 0x6c, 0xc7, 0xcf, 0x82, 0x40, 0x1, 0x2a, 0xa9, 0x1, 0xf8, 0x56, 0x91, 0x6d, 0x8d, 0x4f, 0xd7, 0xc6, 0xe8, 0x9e, 0x23, 0xaf, 0xa2, 0xaa, 0x54, 0x1f, 0xb1, 0x74, 0x4d, 0x29, 0xd4, 0x4, 0xb8, 0xe8, 0x12, 0xba, 0xc6, 0x18, 0x92, 0xb5, 0x8e, 0xe8, 0x3b, 0x61, 0x32, 0x1f, 0xc, 0x6a, 0xe4, 0xdf, 0x6a, 0x5a, 0x76, 0xf1, 0xe5, 0x26, 0x73, 0x64, 0xd6, 0x15, 0x93, 0x1e, 0x15, 0x42, 0xc2, 0x15, 0x94, 0x55, 0x3d, 0x3e, 0x7b, 0xf4, 0xb4, 0x9e, 0x36, 0x49, 0x5, 0x13, 0x8, 0x73, 0x2f, 0x4, 0xef, 0x2d, 0xc7, 0x92, 0x15, 0xef, 0x74, 0xe8, 0x41, 0x67, 0xa1, 0xd0, 0xf5, 0x39, 0x4b, 0x86, 0xe8, 0xea, 0xba, 0x9e, 0x64, 0x66, 0x46, 0x65, 0x1c, 0x9, 0x3f, 0x27, 0x4b, 0x1f, 0x89, 0x22, 0x82, 0x5f, 0x26, 0x70, 0xab, 0x12, 0x75, 0x57, 0xde, 0x57, 0xc1, 0xf4, 0xa5, 0xb3, 0x34, 0x89, 0x86, 0xdf, 0x59, 0xe3, 0x72, 0xdf, 0xa8, 0x24, 0x96, 0xc3, 0xd7, 0xf3, 0xc6, 0xb5, 0xa8, 0x5d, 0xf8, 0xd5, 0x8e, 0x5f, 0xe2, 0x7c, 0x14, 0xef, 0x4f, 0x3d, 0xbf, 0x18, 0x51, 0xbd, 0xa8, 0x17, 0xbc, 0xa5, 0xc4, 0xa9, 0x69, 0xe1, 0xe7, 0x19, 0x81, 0x6f, 0x3, 0x20, 0x13, 0xd2, 0x10, 0x5e, 0x7e, 0x5f, 0xd4, 0x4e, 0x5e, 0x47, 0x14, 0x9d, 0x49, 0xdd, 0xc3, 0x88, 0x77, 0x28, 0x8f, 0x4b, 0x61, 0x5a, 0x7f, 0x85, 0x8d, 0x70, 0x31, 0xa3, 0x1d, 0x17, 0x8a, 0xa2, 0x3, 0xa7, 0xd5, 0x8f, 0x59, 0x4e, 0x4d, 0x34, 0x94, 0x7e, 0x53, 0x69, 0xcf, 0x5a, 0x88, 0x88, 0x17, 0xa0, 0x91, 0x27, 0x1e, 0xd5, 0x9c, 0x18, 0xc7, 0x65, 0x6a, 0x5f, 0x83, 0x38, 0xb9, 0x8f, 0x39, 0x52, 0x18, 0xe1, 0x5a, 0xd1, 0xc, 0x72, 0x6, 0x33, 0xab, 0xb8, 0xb7, 0xbb, 0xb9, 0x63, 0xa2, 0x75, 0xb3, 0x71, 0x95, 0x53, 0x9, 0x1, 0x11, 0x72, 0x99, 0x73, 0x9c, 0x11, 0x37, 0x82, 0xba, 0xd4, 0x30, 0xca, 0x79, 0x1b, 0xe6, 0x6c, 0x76, 0x68, 0x3f, 0xb1, 0x1c, 0xde, 0x4a, 0x61, 0xd, 0xaf, 0xd8, 0x8e, 0xb5, 0x69, 0xd1, 0x30, 0x2e, 0x5b, 0x6a, 0xcb, 0xb7, 0x74, 0x43, 0x42, 0x51, 0x98, 0xa9, 0x56, 0x69, 0xde, 0x3a, 0x54, 0x75, 0x4a, 0xb6, 0xf0, 0x7c, 0xc4, 0xa9, 0x9c, 0xba, 0x45, 0x45, 0x4, 0x9b, 0x72, 0x98, 0x42, 0x52, 0xfc, 0x21, 0x95, 0x7b, 0x4f, 0x7b, 0x8b, 0x88, 0xc6, 0xf7, 0xe8, 0x6f, 0xb6, 0x3b, 0xc6, 0x71, 0x68, 0x3e, 0xd3, 0x94, 0xc, 0x59, 0x7f, 0xf4, 0x86, 0x8f, 0x1c, 0xbd, 0xc5, 0xde, 0xdc, 0xd, 0xa, 0xb6, 0xed, 0xc9, 0x3e, 0xfd, 0xe0, 0x60, 0x40, 0x6c, 0x2d, 0x45, 0xa1, 0xf8, 0x25, 0xe0, 0xc, 0xc, 0x45, 0xaa, 0xc, 0x3a, 0x44, 0x57, 0xf1, 0xed, 0xf0, 0x78, 0xf2, 0x60, 0x7, 0x34, 0x1d, 0x36, 0xb, 0xc, 0x8b, 0x71, 0x48, 0x7b, 0xef, 0x11, 0x6d, 0x39, 0xc2, 0x7e, 0xfa, 0x6, 0x5c, 0x22, 0x56, 0x8, 0x35, 0x9c, 0xc5, 0x17, 0xb4, 0x60, 0x8, 0x4a, 0x16, 0xfb, 0x51, 0x9c, 0x5c, 0x2a, 0x41, 0x58, 0xfb, 0x86, 0x42, 0xc4, 0x5e, 0x54, 0xa9, 0xaa, 0x1c, 0xe3, 0x18, 0xbb, 0x91, 0x90, 0x3e, 0x5b, 0xf, 0x74, 0xb8, 0x95, 0xd2, 0xf, 0xe3, 0x31, 0xde, 0xb6, 0x58, 0xc5, 0xb2, 0x7b, 0x9d, 0x3c, 0xdc, 0xb8, 0x23, 0x5f, 0xbc, 0x83, 0x68, 0xcc, 0x63, 0x51, 0x4c, 0xae, 0x3a, 0x4b, 0xb6, 0xbe, 0xb9, 0x5a, 0x50, 0xec, 0x4f, 0x43, 0x2b, 0x65, 0x55, 0x45, 0x60, 0xd9, 0x2d, 0x57, 0x51, 0xbd, 0x9f, 0x90, 0xca, 0xb3, 0x52, 0x4b, 0xe4, 0x95, 0x47, 0x9e, 0x51, 0x8d, 0x92, 0xb2, 0xd8, 0x42, 0x8f, 0xee, 0xca, 0x2c, 0xc6, 0x96, 0xfa, 0xcf, 0x91, 0x37, 0xaf, 0x9, 0x85, 0x6c, 0xdb, 0x96, 0x67, 0x58, 0xbc, 0x56, 0xe0, 0xa6, 0xc0, 0x47, 0xf0, 0x72, 0x5d, 0xb, 0xdd, 0x70, 0x22, 0xd5, 0x63, 0xf4, 0x84, 0x80, 0x76, 0x6a, 0x57, 0x5b, 0xc9, 0xfb, 0x6e, 0x75, 0x2f, 0x2c, 0xc7, 0x53, 0x1b, 0xa9, 0x75, 0x72, 0x3b, 0x69, 0xf8, 0xfa, 0x9c, 0x3e, 0xb1, 0xe7, 0xde, 0xd0, 0x34, 0xce, 0x15, 0xd9, 0x7a, 0x29, 0x64, 0xf2, 0xbd, 0x67, 0x83, 0x72, 0x59, 0xa8, 0xac, 0x68, 0x7b, 0x1c, 0x9b, 0x2c, 0x88, 0x4d, 0xad, 0xd4, 0xa4, 0xd4, 0xbb, 0xdd, 0x65, 0x3d, 0x78, 0xc1, 0x56, 0xa9, 0xd9, 0x6a, 0x42, 0xc, 0xc8, 0x9f, 0x2f, 0x77, 0xa8, 0xc9, 0xd0, 0x2e, 0x65, 0xc1, 0x7b, 0x64, 0x75, 0x24, 0x79, 0xd6, 0xd3, 0x40, 0xdc, 0x65, 0x97, 0xf7, 0x14, 0x70, 0x27, 0xfa, 0x78, 0x97, 0xf4, 0xfa, 0x7c, 0x37, 0x1a, 0x19, 0x9d, 0xa0, 0x30, 0xdb, 0x2d, 0xf5, 0xf5, 0x42, 0xed, 0x44, 0x2, 0xfb, 0xd, 0xfd, 0xfd, 0x15, 0xad, 0xd, 0xa7, 0xa2, 0xf2, 0xfb, 0xd0, 0x8, 0xe1, 0x27, 0x44, 0x69, 0x26, 0x64, 0x56, 0xee, 0xc8, 0x7, 0x2, 0xdd, 0xe6, 0x3e, 0xfa, 0xbf, 0xd, 0xf0, 0x7, 0xbc, 0x73, 0x5, 0x49, 0xc7, 0x46, 0x98, 0xb3, 0xd3, 0xed, 0xa9, 0x8b, 0x22, 0xf0, 0xb5, 0x48, 0xf0, 0x69, 0x45, 0x9c, 0x33, 0x6a, 0x1d, 0x11, 0x7d, 0xf3, 0x9a, 0xef, 0xe6, 0x48, 0x8, 0xd4, 0xdc, 0x3e, 0x35, 0xbb, 0xd0, 0x67, 0xa1, 0x11, 0x21, 0xa2, 0xf, 0xfd, 0x6f, 0x9e, 0x40, 0xda, 0x13, 0xa2, 0xa0, 0x28, 0x88, 0x2c, 0xb9, 0xc6, 0x99, 0x7c, 0x68, 0xb9, 0x2e, 0x2f, 0xc7, 0x6c, 0x3c, 0xe3, 0xba, 0x41, 0x4a, 0xad, 0xa6, 0x60, 0x16, 0xc5, 0x11, 0x70, 0xa9, 0x81, 0x35, 0xf, 0xea, 0xd3, 0x74, 0xc2, 0x41, 0x9e, 0xb, 0x1f, 0xd8, 0x87, 0x9a, 0xbb, 0x99, 0x9, 0xf8, 0xb0, 0x2c, 0x25, 0x26, 0x54, 0xb8, 0x22, 0xb0, 0x60, 0xa3, 0x29, 0x34, 0x7a, 0x3d, 0xd6, 0x16, 0xef, 0x89, 0x9c, 0x47, 0x65, 0x68, 0xb6, 0x8e, 0x8a, 0xf8, 0x17, 0xae, 0x91, 0x42, 0x1a, 0x3f, 0xe8, 0x49, 0xae, 0x33, 0x28, 0x36, 0xc, 0x39, 0x49, 0xc4, 0xfb, 0xe4, 0xac, 0xd, 0x29, 0xf7, 0x5c, 0xb7, 0x42, 0xab, 0x8e, 0xbb, 0x7b, 0xe0, 0x4b, 0x19, 0x1a, 0x2b, 0xf1, 0x88, 0x13, 0xac, 0xb6, 0xc3, 0x8a, 0x41, 0x8, 0xde, 0xd5, 0x90, 0xdd, 0x79, 0x34, 0x12, 0xdc, 0xaa, 0xa4, 0x47, 0xf7, 0x12, 0xdd, 0x97, 0x4a, 0x1e, 0xd9, 0xd1, 0xd5, 0x22, 0x8e, 0xf6, 0xc2, 0x89, 0xc0, 0x89, 0xda, 0x86, 0x1d, 0xd6, 0x6b, 0x65, 0x7, 0x20, 0x41, 0x90, 0xa1, 0x72, 0xf3, 0x8e, 0x69, 0x2b, 0xa8, 0x3f, 0x69, 0x9b, 0xe2, 0x70, 0x59, 0x5c, 0x6e, 0x2a, 0xc3, 0x3, 0x76, 0x41, 0x41, 0x59, 0x66, 0x9b, 0xe8, 0x7e, 0xe3, 0x3d, 0xc3, 0xd0, 0x2f, 0xb3, 0x9d, 0x67, 0xab, 0xb3, 0x1, 0x91, 0x4, 0x27, 0x2c, 0xc1, 0x8f, 0x8a, 0x5c, 0x9e, 0xf8, 0x37, 0x36, 0xf7, 0xc6, 0xd5, 0xe4, 0x64, 0x31, 0xc9, 0xe, 0x95, 0xf5, 0x53, 0x0, 0x18, 0xff, 0xea, 0x7c, 0xe2, 0xec, 0xe6, 0x11, 0x5a, 0x7, 0xc0, 0xee, 0x60, 0xdf, 0x8e, 0x9b, 0xfe, 0x4d, 0xad, 0xd, 0x1e, 0xfd, 0x51, 0x42, 0xaf, 0x5b, 0x64, 0x8, 0x38, 0x88, 0xea, 0xfa, 0xe1, 0x74, 0x1b, 0x24, 0xa, 0x6b, 0x18, 0x71, 0xc3, 0x21, 0xe6, 0x4, 0x16, 0xf8, 0x9f, 0xa4, 0x99, 0x95, 0x59, 0xf0, 0x17, 0x5c, 0x19, 0x84, 0xa2, 0xcd, 0x28, 0xed, 0x7e, 0x6c, 0xa3, 0xbe, 0xce, 0xc4, 0x74, 0xb6, 0x6e, 0x8d, 0x61, 0x18, 0xb1, 0xf9, 0xb0, 0xa1, 0x1e, 0x11, 0xf4, 0xd, 0x85, 0xc5, 0xd8, 0x71, 0x31, 0xf4, 0xda, 0x30, 0x6c, 0x6f, 0x63, 0x52, 0x2d, 0x18, 0xf5, 0xad, 0xfd, 0x83, 0xe, 0x59, 0xac, 0xd5, 0x75, 0xaa, 0x56, 0x5, 0xfc, 0xc9, 0xd3, 0xbd, 0x8d, 0x21, 0x22, 0x48, 0xe3, 0x7a, 0xa6, 0x55, 0x9e, 0xe1, 0x66, 0x1, 0x96, 0x75, 0x5f, 0x46, 0xd9, 0x58, 0xfb, 0x3e, 0x34, 0x86, 0x63, 0x72, 0xb7, 0x6b, 0xc7, 0x5d, 0xe4, 0xb4, 0xdb, 0xb1, 0xbb, 0x1c, 0xe4, 0xb3, 0x2c, 0x7e, 0x9f, 0x4b, 0x77, 0x6a, 0x48, 0x90, 0xe5, 0x7, 0xd1, 0x9d, 0xe3, 0x5a, 0x20, 0x6c, 0x8, 0xc2, 0x8b, 0xaf, 0x4f, 0x7d, 0xc0, 0x38, 0xdb, 0x74, 0x83, 0xdc, 0x93, 0xd0, 0x38, 0xb6, 0x3c, 0x79, 0x88, 0x88, 0x55, 0xb0, 0xf7, 0xe9, 0xbc, 0x0, 0x8c, 0x8b, 0x4a, 0xe2, 0xa8, 0xb2, 0x5a, 0x4b, 0xc0, 0x21, 0x29, 0x46, 0x1c, 0xdf, 0xe, 0x87, 0x33, 0x9d, 0x7e, 0xc1, 0x25, 0xd0, 0x37, 0x47, 0xa7, 0x3f, 0xd5, 0x97, 0xf0, 0x40, 0x9c, 0x73, 0xb1, 0x19, 0x8e, 0x96, 0x1b, 0x6d, 0xc1, 0x68, 0xbf, 0x9e, 0xb3, 0x26, 0xa0, 0xe0, 0x7e, 0x9c, 0xc8, 0xa, 0xc0, 0xd5, 0x32, 0xa3, 0x9e, 0xc0, 0x5c, 0x43, 0x9d, 0x94, 0xc5, 0x64, 0xbf, 0xf5, 0x6d, 0x50, 0x40, 0x2e, 0x8e, 0xe1, 0x79, 0xf3, 0xf4, 0xee, 0xec, 0x1b, 0x61, 0xee, 0x88, 0xeb, 0x4d, 0x9c, 0xeb, 0xbf, 0xfb, 0x53, 0x1a, 0x85, 0x3f, 0xd5, 0x3e, 0x74, 0x32, 0x89, 0x6e, 0xfd, 0x1d, 0x91, 0x66, 0x25, 0x16, 0x4, 0x95, 0x5f, 0xe1, 0x1e, 0x46, 0x15, 0x7b, 0xe4, 0xd3, 0x3b, 0x5c, 0xaf, 0xf6, 0xd3, 0xc9, 0xb3, 0xd2, 0x14, 0x50, 0x88, 0x64, 0xfa, 0xba, 0xcd, 0x7, 0xda, 0xd0, 0xfa, 0x54, 0xa8, 0x6, 0xec, 0x2b, 0x93, 0x33, 0x9f, 0x78, 0x99, 0x7d, 0xf8, 0x9b, 0x69, 0x60, 0x1c, 0x6c, 0xb9, 0xda, 0x41, 0x66, 0x1e, 0x4, 0x3f, 0x6, 0xf, 0x5e, 0x1b, 0xf7, 0xf3, 0xe0, 0x32, 0x33, 0x8, 0x59, 0x6c, 0xef, 0x9, 0xbe, 0x1f, 0x64, 0x8b, 0x67, 0xc5, 0x2d, 0x93, 0xc1, 0xce, 0x48, 0x8e, 0x15, 0xa2, 0xb5, 0x30, 0x37, 0x81, 0x89, 0x36, 0x6f, 0x9b, 0xa4, 0x5e, 0x25, 0xec, 0x78, 0x35, 0x55, 0x9, 0x90, 0xa0, 0xec, 0x5d, 0xa4, 0xa6, 0x2f, 0x8, 0xe9, 0xed, 0xac, 0x54, 0x9e, 0xb5, 0xe5, 0x10, 0x1e, 0xfb, 0x27, 0xe, 0xf1, 0x7c, 0x9f, 0xef, 0x26, 0x30, 0xe2, 0x57, 0xeb, 0x50, 0x29, 0xc9, 0xa0, 0xf3, 0xb7, 0xc2, 0x34, 0xc9, 0x56, 0xe6, 0x39, 0x64, 0x54, 0xd9, 0xda, 0x48, 0x1e, 0xe9, 0x8a, 0xc6, 0x39, 0x3b, 0x8b, 0xbd, 0xe2, 0xde, 0x9a, 0x99, 0x3b, 0x13, 0xc8, 0xe0, 0xf, 0x4e, 0x61, 0xf5, 0xcf, 0x46, 0xdb, 0xc3, 0xc8, 0x63, 0x70, 0xa0, 0x8c, 0x6a, 0x50, 0xbd, 0xa9, 0x73, 0x1d, 0x8a, 0x2d, 0x64, 0xb6, 0x98, 0xca, 0x80, 0xa9, 0xde, 0xc4, 0xba, 0x55, 0xc, 0xf9, 0x52, 0x74, 0x5b, 0x4b, 0x75, 0xde, 0xcf, 0xb9, 0xb5, 0xd9, 0xc, 0x6b, 0xf2, 0x49, 0xb1, 0x42, 0x1b, 0xd3, 0x6d, 0x7e, 0x58, 0xf6, 0x3e, 0x29, 0x8f, 0x46, 0xd5, 0xd0, 0xb9, 0xde, 0x78, 0xba, 0x61, 0xdf, 0xb4, 0xd6, 0xce, 0xa5, 0x38, 0x24, 0xb3, 0x25, 0xe, 0xe3, 0x7c, 0x58, 0x16, 0x37, 0x1e, 0xbe, 0x74, 0x8b, 0x7e, 0x91, 0xba, 0xef, 0x6d, 0x5f, 0x4a, 0x9b, 0x24, 0x4d, 0x8b, 0xe8, 0x6e, 0xae, 0x58, 0x88, 0xd1, 0x5d, 0xab, 0x98, 0x38, 0xe0, 0xbe, 0xad, 0x97, 0x83, 0x82, 0x88, 0xea, 0xdf, 0xda, 0x81, 0xa4, 0x92, 0xc, 0x46, 0xab, 0x73, 0x82, 0x73, 0x65, 0xd4, 0xe5, 0x9e, 0x48, 0x51, 0x67, 0x23, 0xe8, 0x51, 0x60, 0xc5, 0x95, 0xe, 0x27, 0x5e, 0x27, 0xe6, 0xcc, 0x50, 0xe, 0xa2, 0x1b, 0xd1, 0x6a, 0xb6, 0x81, 0xb, 0xa4, 0x3e, 0xeb, 0xc, 0x6a, 0x34, 0x54, 0x5c, 0x49, 0xe4, 0x10, 0xa9, 0x17, 0x91, 0x3, 0xc9, 0x6, 0xb1, 0x20, 0x13, 0xdd, 0x68, 0x66, 0x25, 0x2e, 0x8e, 0x53, 0x66, 0xd, 0xa0, 0xfb, 0xec, 0xf3, 0xb6, 0x78, 0xd9, 0x11, 0xe1, 0x22, 0x21, 0x5b, 0xd1, 0x65, 0xf, 0xe1, 0xf0, 0xf1, 0xa7, 0x19, 0x56, 0x5e, 0x81, 0x5, 0xc0, 0x60, 0x72, 0x49, 0x8a, 0x40, 0x50, 0xcd, 0xdc, 0xc6, 0x60, 0x7f, 0x9c, 0x29, 0x32, 0xaa, 0x3b, 0xbf, 0x54, 0x15, 0x54, 0x30, 0xb8, 0xba, 0x62, 0x5, 0x9, 0xce, 0xb7, 0x7a, 0x46, 0xf1, 0xb1, 0x51, 0x46, 0x66, 0xc0, 0x38, 0x13, 0xe, 0x9, 0x9d, 0x55, 0xee, 0x8a, 0xd2, 0x1c, 0xa9, 0xd1, 0x2e, 0xb, 0xa6, 0x58, 0x39, 0x71, 0xbb, 0xa9, 0xf4, 0xe2, 0x76, 0xe9, 0xa1, 0x93, 0x94, 0x83, 0x58, 0x1f, 0x8b, 0x5, 0x48, 0x5a, 0xa, 0x58, 0xf3, 0xe9, 0x29, 0xdd, 0x9a, 0x19, 0x8b, 0x4e, 0x88, 0x31, 0xef, 0xa2, 0xee, 0xf3, 0x55, 0x52, 0x62, 0x55, 0xf4, 0x28, 0xa4, 0x8d, 0x5e, 0xa7, 0x3d, 0x0, 0x76, 0x4b, 0x5b, 0xc1, 0x7b, 0x67, 0xd3, 0xfb, 0x67, 0xdf, 0xd4, 0xb7, 0x70, 0xae, 0x64, 0xf2, 0x88, 0xb6, 0x84, 0x42, 0x3, 0xb6, 0x36, 0x39, 0xec, 0xdf, 0xd1, 0x4c, 0xe8, 0x57, 0x68, 0xdc, 0x71, 0xb4, 0xda, 0x65, 0xc5, 0x16, 0x83, 0x48, 0x65, 0x16, 0xca, 0x7a, 0xfa, 0x4c, 0xd1, 0x27, 0xc5, 0x67, 0x75, 0x81, 0xa6, 0x60, 0x7f, 0x5e, 0x88, 0x8f, 0x96, 0xb7, 0xef, 0x6a, 0x1a, 0x42, 0xef, 0x47, 0xf4, 0xd3, 0xc7, 0x2c, 0xed, 0x25, 0x71, 0x2a, 0x4e, 0xad, 0xa7, 0x79, 0x6c, 0x48, 0xf3, 0x38, 0x1c, 0x5e, 0x48, 0xc2, 0x2b, 0xe2, 0xb5, 0x36, 0x8a, 0x84, 0x8, 0xa0, 0x15, 0xc6, 0x52, 0xef, 0xa8, 0xb5, 0x2c, 0xaa, 0xb3, 0x38, 0xb1, 0x84, 0x98, 0xb2, 0x76, 0x2f, 0x1a, 0x62, 0x6, 0x24, 0x6f, 0x4d, 0xad, 0x17, 0xa9, 0x77, 0x92, 0x3a, 0x2f, 0x8c, 0x77, 0x2e, 0x73, 0x89, 0x71, 0x2a, 0x8, 0xe0, 0x41, 0x4e, 0xbb, 0xbe, 0xf3, 0xe6, 0x19, 0x99, 0x5e, 0x46, 0xad, 0x87, 0x76, 0x89, 0xab, 0x67, 0x1b, 0xa1, 0x86, 0x82, 0x45, 0xd0, 0x4e, 0x9, 0x1d, 0x63, 0x7b, 0x12, 0x17, 0xe3, 0xd9, 0xf2, 0xd3, 0xcb, 0x49, 0x36, 0xf5, 0x19, 0x2c, 0x10, 0xa4, 0x22, 0x27, 0xe6, 0xcc, 0x4c, 0x54, 0xf8, 0x24, 0xfb, 0x14, 0x1f, 0x7c, 0x33, 0x3c, 0x16, 0x19, 0x20, 0xe7, 0xfb, 0xee, 0x34, 0xd0, 0xe, 0x97, 0xd, 0xef, 0x17, 0xd, 0x4, 0xe4, 0xbf, 0xce, 0xb2, 0x4b, 0x5e, 0x9d, 0x7e, 0xd1, 0xb1, 0xa0, 0xed, 0x11, 0x5e, 0xc8, 0xe4, 0x27, 0x23, 0x8e, 0xc5, 0xcb, 0xcd, 0x16, 0x17, 0xf5, 0x2c, 0x36, 0xf4, 0x18, 0x71, 0x30, 0xac, 0x39, 0x16, 0xeb, 0xda, 0x27, 0x1d, 0x78, 0xc6, 0xe5, 0xc9, 0xa6, 0x3d, 0x9e, 0x4c, 0xbb, 0x97, 0x3, 0xf6, 0x11, 0x2a, 0xce, 0x7c, 0x22, 0x67, 0x97, 0xdf, 0xb4, 0x4f, 0xe0, 0x94, 0x82, 0x56, 0x2c, 0x3a, 0x37, 0xa7, 0xbb, 0x8a, 0xf2, 0x73, 0x44, 0x94, 0x67, 0x3, 0xc9, 0x50, 0x3d, 0x92, 0x7d, 0xf7, 0x53, 0x53, 0x6c, 0x96, 0xa8, 0xab, 0x9f, 0x16, 0x70, 0x53, 0x97, 0x20, 0x90, 0x75, 0xe1, 0x89, 0xe9, 0x67, 0xa8, 0x38, 0x11, 0x96, 0x5f, 0xc4, 0x56, 0x85, 0x1f, 0xd5, 0x72, 0x85, 0x4e, 0xa6, 0x47, 0x6b, 0x33, 0x4d, 0xe0, 0x54, 0x1f, 0x86, 0xf0, 0x9e, 0x7f, 0x65, 0xef, 0x8c, 0x94, 0x5e, 0x75, 0x57, 0xd7, 0x59, 0x17, 0x62, 0x7a, 0x24, 0x38, 0xf5, 0x77, 0x1e, 0x15, 0x68, 0x85, 0xa2, 0x5c, 0xb9, 0x74, 0xb4, 0x4f, 0xcc, 0xef, 0xca, 0xf8, 0x48, 0x58, 0xa5, 0x53, 0x47, 0x33, 0x62, 0x16, 0xdb, 0xb9, 0x87, 0xd2, 0x9c, 0xbc, 0x9a, 0x4f, 0x60, 0x27, 0x3c, 0x65, 0x48, 0x75, 0x28, 0x85, 0xc8, 0x5e, 0x8d, 0xa7, 0xd7, 0x8c, 0x96, 0x84, 0x3d, 0xa0, 0x7b, 0x7, 0xdd, 0x2e, 0x81, 0x7d, 0x2f, 0xe7, 0xce, 0x7f, 0xb9, 0x35, 0x91, 0x71, 0x5d, 0xaf, 0xbe, 0xb8, 0x97, 0x3f, 0x6f, 0x34, 0x97, 0x2f, 0x52, 0xea, 0x7c, 0x7e, 0xdd, 0xef, 0x5b, 0x47, 0x60, 0xad, 0xaf, 0xb5, 0xe6, 0xde, 0xcf, 0x65, 0x4c, 0x54, 0x31, 0x5a, 0x9a, 0x92, 0x48, 0x6d, 0x63, 0x31, 0x91, 0xe4, 0x61, 0x2c, 0xa2, 0x19, 0xd, 0x2b, 0x74, 0x44, 0x4, 0x9d, 0x26, 0xf0, 0x19, 0xb, 0x4f, 0xf4, 0xaf, 0xc6, 0x73, 0x45, 0xaf, 0xfd, 0x91, 0xcd, 0xeb, 0x4e, 0x67, 0xd6, 0x5e, 0x96, 0x59, 0x38, 0xaf, 0xd7, 0xa9, 0x7c, 0x70, 0x27, 0x4c, 0xec, 0x95, 0x32, 0x37, 0xf7, 0x35, 0x28, 0x99, 0x26, 0xbe, 0x45, 0x1f, 0xb, 0xf9, 0x8, 0x8e, 0xda, 0x19, 0xf6, 0x4b, 0xe6, 0x8, 0x21, 0x78, 0x1e, 0x4, 0x19, 0x4c, 0xfb, 0xf7, 0x83, 0x9c, 0xe8, 0x74, 0x19, 0x41, 0x1f, 0x8f, 0x22, 0x2c, 0xd, 0xf7, 0x2a, 0x29, 0xa0, 0xf5, 0x2f, 0x43, 0xf5, 0x36, 0x3a, 0xd9, 0x42, 0xee, 0x74, 0xa2, 0xdd, 0x28, 0x8, 0x4c, 0xf1, 0x46, 0x26, 0x6a, 0x8f, 0x8, 0x87, 0x1c, 0xac, 0x64, 0x99, 0x7c, 0x1f, 0x3e, 0x59, 0x73, 0xce, 0x9b, 0x9b, 0x76, 0x27, 0x91, 0xbd, 0xf0, 0x77, 0x74, 0x92, 0x70, 0xdd, 0xbb, 0x98, 0x1b, 0xc6, 0x5f, 0x51, 0x44, 0x76, 0x41, 0x95, 0x97, 0xbe, 0x77, 0x84, 0xe0, 0x71, 0x43, 0xe0, 0x1e, 0xb2, 0x13, 0x49, 0xf8, 0x9, 0x40, 0xc8, 0x72, 0x83, 0x1e, 0x58, 0x79, 0xf2, 0x88, 0x21, 0x62, 0xec, 0xa7, 0xd1, 0xcc, 0x80, 0x6b, 0x40, 0x90, 0x88, 0xe0, 0x66, 0x66, 0x48, 0x8a, 0xb3, 0xd5, 0xda, 0xc5, 0x7a, 0xcd, 0x2d, 0x7b, 0x95, 0xb6, 0x16, 0xef, 0x7a, 0x3c, 0x9f, 0xa5, 0x58, 0x99, 0x6d, 0x99, 0x62, 0x3e, 0x8f, 0xd, 0x42, 0xc, 0x40, 0xcb, 0xb8, 0xa2, 0xb9, 0x4a, 0xc7, 0x30, 0x78, 0x48, 0x95, 0xa1, 0x5a, 0x51, 0xcd, 0x48, 0x36, 0x58, 0x15, 0x91, 0x64, 0xcc, 0x37, 0x12, 0x79, 0xa7, 0x9a, 0xb9, 0x65, 0x31, 0x56, 0x39, 0x48, 0x61, 0x47, 0x1c, 0x4, 0x22, 0xc7, 0xe5, 0x64, 0xe8, 0xc4, 0xba, 0xae, 0x7e, 0x2c, 0x2c, 0x43, 0xc8, 0x75, 0x47, 0xc7, 0x49, 0x6c, 0x7a, 0x50, 0x4a, 0x3b, 0xe3, 0x55, 0x1b, 0x29, 0xc2, 0x48, 0xfb, 0x5a, 0x4c, 0x9f, 0x82, 0x18, 0xe8, 0xde, 0x8b, 0xb4, 0x24, 0x6, 0x5d, 0x5a, 0xa0, 0x2b, 0x56, 0x51, 0x33, 0xf9, 0x33, 0x71, 0xf7, 0x53, 0xab, 0xf9, 0x15, 0x43, 0xd6, 0xcc, 0x43, 0x58, 0x74, 0xc, 0x54, 0xd6, 0xb0, 0x3d, 0x83, 0x37, 0x5d, 0x16, 0x1a, 0xdc, 0x7c, 0x32, 0xec, 0x99, 0x4, 0xd, 0x4a, 0xe1, 0xc0, 0xe4, 0x21, 0x92, 0x69, 0x79, 0x29, 0xac, 0xc2, 0xef, 0xd3, 0xd8, 0xad, 0x97, 0xc9, 0x93, 0x70, 0x3d, 0x82, 0xaa, 0x4f, 0x9d, 0x4f, 0x65, 0x71, 0x5f, 0x38, 0x94, 0x9d, 0x25, 0x2a, 0x43, 0xd6, 0x27, 0xc2, 0x9, 0xd8, 0xee, 0xc9, 0xd9, 0xf3, 0xcf, 0xce, 0x7, 0xab, 0x9f, 0xac, 0xed, 0xfa, 0xc1, 0x10, 0xc9, 0x55, 0x28, 0x7a, 0xbb, 0xe6, 0xf9, 0x9d, 0xd, 0x4b, 0x3f, 0x33, 0x51, 0xf5, 0xb4, 0x53, 0x12, 0xd9, 0xcf, 0x1e, 0x38, 0x5f, 0xbf, 0x15, 0x28, 0xd8, 0x62, 0xdc, 0x9d, 0x20, 0xba, 0xa1, 0x18, 0x7a, 0x1a, 0xb1, 0x6b, 0x39, 0xf1, 0x51, 0x72, 0x8d, 0x85, 0xc5, 0x57, 0xe8, 0x31, 0x8b, 0x70, 0x25, 0x6d, 0x73, 0x83, 0xba, 0xb3, 0xd9, 0x9a, 0x8c, 0x6c, 0x20, 0x2d, 0x82, 0x3f, 0x32, 0xab, 0x48, 0x3e, 0xcd, 0x4c, 0x1f, 0x7c, 0xd6, 0x66, 0x5a, 0x49, 0x70, 0x79, 0xef, 0x8, 0xc9, 0x84, 0x71, 0x18, 0x71, 0x87, 0x86, 0xf, 0x19, 0xb4, 0x74, 0xd8, 0x7e, 0xa3, 0x46, 0x4a, 0x7b, 0xb8, 0x45, 0x60, 0x81, 0x63, 0xeb, 0xd8, 0x91, 0x67, 0x8b, 0x89, 0xa7, 0x43, 0x34, 0xed, 0x4b, 0x5a, 0x7d, 0xd3, 0x6b, 0x8f, 0x4a, 0xbc, 0x29, 0x33, 0x78, 0x89, 0xa3, 0xb1, 0xba, 0x2a, 0x7d, 0x3b, 0x66, 0x70, 0x97, 0x80, 0xed, 0x73, 0x32, 0xae, 0xef, 0x3f, 0xc8, 0xca, 0x74, 0x59, 0xa1, 0x74, 0xa5, 0xc6, 0x11, 0x9e, 0x4, 0x7, 0x18, 0x56, 0xde, 0xe5, 0x30, 0xe4, 0x2e, 0x64, 0x84, 0x4b, 0x12, 0x7f, 0x6, 0x9d, 0x36, 0xb6, 0x4c, 0xbe, 0x4c, 0x5a, 0x21, 0xb7, 0x15, 0xc, 0xb9, 0x30, 0x64, 0xaa, 0x80, 0x54, 0xe1, 0x1c, 0x84, 0x70, 0x8, 0x76, 0x67, 0x9a, 0x62, 0x96, 0xe1, 0xf3, 0x62, 0xe1, 0x68, 0xde, 0xef, 0x42, 0xd1, 0xb6, 0x17, 0x5e, 0xe9, 0xb5, 0x73, 0x81, 0x69, 0xf9, 0x75, 0x12, 0x6b, 0x97, 0x10, 0x63, 0x81, 0xbe, 0x6c, 0x1e, 0xb3, 0xd0, 0x21, 0x4b, 0x91, 0x81, 0x69, 0x12, 0x72, 0x35, 0xc5, 0x10, 0xa1, 0x19, 0xd0, 0x50, 0x73, 0x65, 0xb, 0xe1, 0xd6, 0x4b, 0x91, 0xb4, 0x72, 0x1c, 0xa9, 0x64, 0xca, 0x8d, 0x95, 0x17, 0x75, 0x75, 0x6d, 0x6d, 0xcf, 0x74, 0x74, 0x89, 0x88, 0x99, 0xa2, 0x69, 0x36, 0x13, 0x71, 0xdb, 0x4d, 0x5e, 0x85, 0xa6, 0x66, 0xfb, 0x32, 0x79, 0x86, 0x47, 0xe1, 0xdc, 0x2b, 0xe5, 0x5e, 0x27, 0x6e, 0x62, 0xde, 0x1f, 0x51, 0xf7, 0xcd, 0x3c, 0x49, 0x10, 0xa, 0xbe, 0x22, 0xba, 0xf4, 0x60, 0x63, 0xe3, 0xfc, 0x72, 0xe7, 0x7, 0xeb, 0xe4, 0x7f, 0x61, 0xad, 0x57, 0xee, 0xd4, 0xe3, 0xfb, 0xe5, 0x41, 0xf3, 0xfc, 0x9, 0xaa, 0x2f, 0x16, 0x60, 0xf6, 0x8e, 0x1b, 0x2f, 0x90, 0xbe, 0x4c, 0x91, 0x31, 0x6d, 0xca, 0x4c, 0xb0, 0x9, 0x2c, 0xd2, 0xa8, 0xd3, 0x99, 0x10, 0x8a, 0x8e, 0xfc, 0x82, 0x4b, 0x25, 0xef, 0xb2, 0xc4, 0xaa, 0x73, 0xca, 0x89, 0x9b, 0xb1, 0x75, 0x45, 0x47, 0x80, 0x8c, 0x4a, 0x2a, 0xdf, 0x9a, 0xf0, 0xab, 0x4, 0x81, 0xef, 0xca, 0x14, 0xbd, 0x99, 0x83, 0xa7, 0xf, 0xb3, 0xdf, 0x16, 0x7d, 0xce, 0x1f, 0x4e, 0x22, 0xc1, 0x71, 0x6b, 0x88, 0x50, 0xe1, 0xe4, 0xeb, 0x87, 0x90, 0x45, 0x2f, 0x56, 0xd9, 0xf8, 0x50, 0x1b, 0x9d, 0xfd, 0x1f, 0xe7, 0x4f, 0x18, 0x8c, 0x3a, 0x1d, 0x60, 0x74, 0x95, 0x26, 0x97, 0x6a, 0x37, 0xa2, 0x65, 0x7e, 0x66, 0x85, 0x22, 0xd4, 0x12, 0x42, 0x45, 0xbb, 0x3c, 0x8d, 0xc8, 0x55, 0x35, 0x26, 0x2f, 0x23, 0x87, 0xe9, 0x58, 0x2, 0x3f, 0x74, 0x19, 0xf2, 0x2e, 0x41, 0x86, 0x7a, 0x6e, 0xb5, 0x4b, 0x81, 0x56, 0xeb, 0x3d, 0x15, 0xa2, 0xec, 0xcc, 0x98, 0xd4, 0xdc, 0x58, 0xc9, 0x7b, 0x12, 0x16, 0xda, 0xc7, 0xbb, 0xbc, 0xa2, 0xf1, 0xba, 0xf, 0x57, 0x58, 0xbb, 0x36, 0x21, 0xb1, 0xb1, 0x2, 0x83, 0xdb, 0x3b, 0x32, 0x4a, 0x5c, 0x27, 0x9e, 0xca, 0x41, 0x87, 0xf3, 0x32, 0xe, 0xbc, 0x7, 0x79, 0xe, 0x7, 0xdf, 0xdf, 0xb6, 0xcb, 0x8a, 0xd, 0x3b, 0x8f, 0xbb, 0xd3, 0x38, 0x94, 0xf7, 0x43, 0x1b, 0xa5, 0xc2, 0x6b, 0x98, 0x7e, 0x79, 0xa4, 0x6a, 0x94, 0xa8, 0x91, 0x97, 0x4c, 0x80, 0xd9, 0xba, 0x68, 0x60, 0xa2, 0xac, 0x94, 0x87, 0xcf, 0xad, 0xdb, 0xa1, 0xcc, 0x55, 0x72, 0xac, 0x93, 0x8c, 0xd4, 0x4b, 0x61, 0x97, 0x2a, 0xa0, 0x94, 0x48, 0x63, 0xd7, 0x7a, 0x35, 0x53, 0xb9, 0xae, 0xaa, 0xb2, 0x8a, 0xd1, 0x6b, 0x27, 0x90, 0xca, 0x48, 0xfc, 0x7, 0xe6, 0x22, 0x28, 0xb1, 0xeb, 0xf5, 0xef, 0x5c, 0x44, 0xd3, 0x38, 0xa7, 0xd4, 0x26, 0x20, 0x83, 0x7b, 0x3c, 0xdb, 0x4b, 0xfa, 0xd4, 0x11, 0xe9, 0xe4, 0xde, 0x29, 0x1f, 0xf8, 0x63, 0x5b, 0x82, 0xcf, 0xdc, 0xae, 0x15, 0x72, 0x53, 0x3d, 0xfc, 0x13, 0xd, 0xf4, 0xd0, 0x7d, 0x99, 0xc6, 0x43, 0x38, 0xf7, 0xe6, 0xf7, 0x3a, 0x6c, 0xe4, 0x61, 0xe0, 0xda, 0x1c, 0xa, 0x4b, 0x4e, 0xb, 0x14, 0x50, 0xd6, 0xee, 0xfa, 0xe, 0xf4, 0xbb, 0xfc, 0x87, 0x56, 0x33, 0xd, 0xc5, 0x41, 0xfb, 0xe4, 0x5d, 0xb4, 0xaa, 0x5, 0xc1, 0xac, 0x7a, 0x17, 0x8, 0x9d, 0xd7, 0xf8, 0x46, 0xfb, 0xe6, 0xfc, 0x36, 0x65, 0xf7, 0x5, 0x3d, 0x72, 0x2f, 0xfa, 0xfd, 0xfa, 0x9d, 0x3a, 0x2, 0x2b, 0x11, 0x9f, 0x3f, 0x2, 0x3b, 0x1c, 0xdb, 0x6, 0xe, 0x50, 0xaa, 0x73, 0xb2, 0x79, 0x8c, 0xe0, 0xf4, 0x8, 0x87, 0x13, 0x26, 0xe1, 0x8f, 0x35, 0xf9, 0x9b, 0xf, 0x1f, 0xe4, 0xc4, 0x55, 0xb7, 0x54, 0xe5, 0x2, 0x5, 0x10, 0xd1, 0xba, 0x96, 0x43, 0x5f, 0xd, 0x1a, 0x22, 0x3, 0x55, 0x38, 0x97, 0x13, 0xdd, 0x65, 0xe9, 0xc9, 0xdb, 0x3f, 0x52, 0x80, 0xe5, 0x72, 0x6, 0x73, 0x3b, 0xde, 0xc7, 0xef, 0x6, 0x2b, 0xfc, 0x72, 0x10, 0x11, 0xf8, 0x6f, 0x17, 0xc6, 0x95, 0xde, 0xca, 0xaf, 0xde, 0x1e, 0xf3, 0x18, 0x54, 0xfb, 0xaf, 0x6c, 0x1f, 0xf9, 0x90, 0xa1, 0xad, 0xe5, 0x6e, 0x66, 0x2e, 0x31, 0x72, 0x3e, 0x87, 0xf9, 0xc0, 0x32, 0x2d, 0xfb, 0x2a, 0xe, 0xad, 0xdd, 0xab, 0x13, 0x94, 0x7d, 0xd4, 0xd7, 0xf8, 0xd9, 0xb2, 0xf2, 0x4, 0xb, 0xc8, 0xa5, 0x18, 0xf2, 0x7c, 0x38, 0x69, 0xcb, 0xe5, 0xdc, 0x16, 0xda, 0xe0, 0xc, 0x23, 0xb6, 0x97, 0x91, 0xcd, 0x95, 0x9a, 0x89, 0xc6, 0xbc, 0x77, 0xeb, 0xc1, 0x76, 0x37, 0x30, 0x6e, 0x7c, 0xc8, 0x8d, 0x97, 0x95, 0x7b, 0x74, 0x50, 0x60, 0xcb, 0x8e, 0x5b, 0x69, 0x83, 0x3a, 0x85, 0x6d, 0x82, 0xa3, 0x7b}\n"
          ]
        }
      ],
      "source": [
        "print(exportCArray(bitstream))"
      ]
    },
    {
      "cell_type": "code",
      "execution_count": 62,
      "metadata": {},
      "outputs": [
        {
          "data": {
            "text/plain": [
              "tensor(3.7500)"
            ]
          },
          "execution_count": 62,
          "metadata": {},
          "output_type": "execute_result"
        }
      ],
      "source": [
        "model.l1.s_x(8)"
      ]
    },
    {
      "cell_type": "code",
      "execution_count": 64,
      "metadata": {},
      "outputs": [
        {
          "data": {
            "text/plain": [
              "tensor(0.0956, grad_fn=<DivBackward0>)"
            ]
          },
          "execution_count": 64,
          "metadata": {},
          "output_type": "execute_result"
        }
      ],
      "source": [
        "model.l1.s_w(16)"
      ]
    },
    {
      "cell_type": "code",
      "execution_count": 50,
      "metadata": {
        "colab": {
          "base_uri": "https://localhost:8080/"
        },
        "id": "a34XXEEVv2aX",
        "outputId": "1c9c3618-113a-477d-9d47-ecb6131c4ee4"
      },
      "outputs": [
        {
          "name": "stdout",
          "output_type": "stream",
          "text": [
            "Bits:  2.809063238508879 KBs:  4.301378083966721\n",
            "Compression gain: 0.35113290481360987\n"
          ]
        }
      ],
      "source": [
        "bitsPerWeight = sum(h(dist/sum(dist)))\n",
        "KBs = bitsPerWeight * (14*14*hidden_dim) / 8 / 1024\n",
        "print(\"Bits: \", bitsPerWeight, \"KBs: \", KBs)\n",
        "print(\"Compression gain:\", bitsPerWeight / 8)"
      ]
    },
    {
      "cell_type": "code",
      "execution_count": 51,
      "metadata": {
        "colab": {
          "base_uri": "https://localhost:8080/"
        },
        "id": "UV19PlpYt8Q7",
        "outputId": "fc28c575-b7fe-45bc-99fe-400483f725f8"
      },
      "outputs": [
        {
          "data": {
            "text/plain": [
              "array([-2, -1, -4,  4,  7,  2, -1,  0, -5,  0,  2,  0,  2,  3,  4, -3,  0,\n",
              "        1,  0,  4,  0,  0, -2, -1, -2, -3,  0,  4,  1,  1,  2,  1, -4, -1,\n",
              "        1,  2,  1,  1, -3,  5,  1,  1,  3,  4, -2, -1,  2,  2,  3,  1,  0,\n",
              "       -2,  1,  0,  1,  0, -4,  1, -4,  2,  3, -1, -3,  1], dtype=int8)"
            ]
          },
          "execution_count": 51,
          "metadata": {},
          "output_type": "execute_result"
        }
      ],
      "source": [
        "model.l1.Q_b(num_bins - 2).detach().numpy()"
      ]
    },
    {
      "cell_type": "code",
      "execution_count": 52,
      "metadata": {
        "colab": {
          "base_uri": "https://localhost:8080/",
          "height": 447
        },
        "id": "SAfD2ssrxD8u",
        "outputId": "f8f1ed27-20a8-4e52-8d12-a7179784f117"
      },
      "outputs": [
        {
          "name": "stderr",
          "output_type": "stream",
          "text": [
            "/var/folders/w6/8tq8ndsd7mj7tm5qxr8__2700000gn/T/ipykernel_29113/4116196304.py:14: RuntimeWarning: divide by zero encountered in log2\n",
            "  bits = np.log2(x)\n"
          ]
        },
        {
          "data": {
            "text/plain": [
              "27.876662398512615"
            ]
          },
          "execution_count": 52,
          "metadata": {},
          "output_type": "execute_result"
        },
        {
          "data": {
            "image/png": "[encoded data removed]",
            "text/plain": [
              "<Figure size 640x480 with 1 Axes>"
            ]
          },
          "metadata": {},
          "output_type": "display_data"
        }
      ],
      "source": [
        "counts, bins = np.histogram(model.l1.bias.detach().numpy(), bins=num_bins-1)\n",
        "pyplot.stairs(counts, bins)\n",
        "sum(h(counts/sum(counts))) * hidden_dim / 8"
      ]
    },
    {
      "cell_type": "code",
      "execution_count": 53,
      "metadata": {
        "colab": {
          "base_uri": "https://localhost:8080/",
          "height": 482
        },
        "id": "yKsJ-5cluQQC",
        "outputId": "a2719263-7f31-4376-b073-6a7863c4fb0a"
      },
      "outputs": [
        {
          "name": "stdout",
          "output_type": "stream",
          "text": [
            "[  1  11  15  26  47  67  94   0 126 124  87  28   7   6   1] 15\n",
            "[ 1  5  6 11 19 27 38  1 45 49 35 12  3  3  1] 15\n",
            "0 13\n"
          ]
        },
        {
          "data": {
            "image/png": "[encoded data removed]",
            "text/plain": [
              "<Figure size 640x480 with 1 Axes>"
            ]
          },
          "metadata": {},
          "output_type": "display_data"
        }
      ],
      "source": [
        "(dist, bitstream) = compress_nparr(model.l2.Q_w(num_bins - 2).detach().numpy(), num_bins-1)"
      ]
    },
    {
      "cell_type": "code",
      "execution_count": 54,
      "metadata": {
        "colab": {
          "base_uri": "https://localhost:8080/"
        },
        "id": "oxE-7BTFu_4y",
        "outputId": "35a7e5ef-3019-4ef4-d82d-e75c694d7071"
      },
      "outputs": [
        {
          "name": "stdout",
          "output_type": "stream",
          "text": [
            "{0x1, 0x5, 0x6, 0xb, 0x13, 0x1b, 0x26, 0x1, 0x2d, 0x31, 0x23, 0xc, 0x3, 0x3, 0x1}\n"
          ]
        }
      ],
      "source": [
        "print(exportCArray(dist))"
      ]
    },
    {
      "cell_type": "code",
      "execution_count": 55,
      "metadata": {
        "colab": {
          "base_uri": "https://localhost:8080/"
        },
        "id": "cO58Sm2CudcB",
        "outputId": "fba56eea-7549-46c1-bee2-cb61a8b2e69c"
      },
      "outputs": [
        {
          "data": {
            "text/plain": [
              "0.3203125"
            ]
          },
          "execution_count": 55,
          "metadata": {},
          "output_type": "execute_result"
        }
      ],
      "source": [
        "len(bitstream)/1024"
      ]
    },
    {
      "cell_type": "code",
      "execution_count": 56,
      "metadata": {
        "colab": {
          "base_uri": "https://localhost:8080/"
        },
        "id": "byUfT5TIuig2",
        "outputId": "acdca600-589b-4960-c76a-0e65b3cae3ed"
      },
      "outputs": [
        {
          "name": "stdout",
          "output_type": "stream",
          "text": [
            "{0x0, 0x2, 0x4a, 0xfb, 0x25, 0x6b, 0x7d, 0x6b, 0x2b, 0x6b, 0x29, 0xc, 0x6b, 0x2b, 0xdf, 0xa3, 0x1c, 0x1e, 0x66, 0x1b, 0x1f, 0x8d, 0x6b, 0x67, 0x6b, 0x6b, 0x12, 0xed, 0x29, 0x3e, 0x73, 0x6b, 0x6b, 0xeb, 0x6b, 0x6b, 0x6b, 0x6e, 0x6c, 0x56, 0x6b, 0x6b, 0xbe, 0x90, 0x79, 0x81, 0xb0, 0x6b, 0xad, 0x7b, 0xc, 0xa5, 0x7, 0x73, 0xb, 0x7d, 0x20, 0x41, 0x99, 0x53, 0x64, 0xb3, 0xc3, 0x84, 0x2, 0x6b, 0x37, 0x9, 0xdd, 0x97, 0x5a, 0x47, 0x51, 0x7c, 0x99, 0x2c, 0x6b, 0xea, 0x6b, 0x5b, 0x3e, 0xbe, 0x35, 0x6b, 0xbc, 0x32, 0xa6, 0xbd, 0x1c, 0x42, 0x6b, 0x9c, 0x18, 0x29, 0x6b, 0x98, 0x6b, 0xb2, 0x8a, 0x80, 0xa3, 0x5a, 0x6b, 0x9b, 0x2, 0x6b, 0x6b, 0x70, 0x6a, 0x49, 0x6b, 0xb6, 0xbf, 0x7, 0xad, 0xbd, 0xa4, 0x6b, 0xe5, 0x37, 0x5b, 0x76, 0x6f, 0x15, 0xfb, 0x43, 0x91, 0xd9, 0xbe, 0x8f, 0x96, 0xb5, 0x56, 0x3c, 0x6b, 0x53, 0xc0, 0x89, 0x1f, 0x98, 0xb7, 0x6b, 0x8a, 0x5d, 0x4e, 0x51, 0xc1, 0x8c, 0x7c, 0x69, 0x6b, 0x68, 0x33, 0x8c, 0xd8, 0x6b, 0xa1, 0x61, 0xf0, 0xde, 0x5a, 0x8f, 0x91, 0x9e, 0x6b, 0x36, 0x21, 0x62, 0x60, 0x7b, 0x2b, 0x7b, 0x4d, 0x1c, 0x31, 0xaf, 0x40, 0xe8, 0xb, 0x6, 0xa6, 0x34, 0x53, 0x61, 0x6b, 0xe5, 0x6b, 0xee, 0x2d, 0x7b, 0x18, 0x40, 0x7e, 0x6b, 0x21, 0x6b, 0x33, 0x85, 0x7e, 0x6b, 0x19, 0x67, 0x6b, 0x98, 0xa8, 0x73, 0x27, 0x3b, 0x6b, 0x6c, 0x10, 0xb5, 0x59, 0x16, 0x3c, 0x58, 0xab, 0x22, 0x6c, 0x54, 0x38, 0xeb, 0x3f, 0x76, 0x4, 0xfe, 0x6b, 0x64, 0x5b, 0x63, 0x6, 0x2f, 0x5d, 0x63, 0xe0, 0xc7, 0x6b, 0xb5, 0x1f, 0xad, 0x71, 0x18, 0xc6, 0x6b, 0xa4, 0x73, 0x19, 0x6b, 0x6b, 0x41, 0xb7, 0x31, 0x6b, 0x6b, 0x46, 0x78, 0xf, 0xa2, 0x58, 0x6b, 0x8b, 0xc, 0x8d, 0x22, 0x95, 0x53, 0x62, 0x73, 0x6b, 0x31, 0x5e, 0x5e, 0x1b, 0x9c, 0x6b, 0xf, 0x98, 0xc, 0x3c, 0x6b, 0x7b, 0x6b, 0xae, 0x8c, 0x94, 0x7, 0xa3, 0x5a, 0x2e, 0x6b, 0x64, 0x46, 0x85, 0x6b, 0x55, 0x1e, 0x6b, 0x35, 0x2c, 0x62, 0x6c, 0xe5, 0x1f, 0x4a, 0xc1, 0x6f, 0x77, 0x79, 0x6b, 0x94, 0x96, 0x9f, 0x65, 0x4c, 0x8d, 0xb9, 0x6b, 0x61, 0x93, 0x12, 0x70, 0x6b, 0x86, 0x99, 0x14, 0x92, 0xbf, 0x0}\n"
          ]
        }
      ],
      "source": [
        "print(exportCArray(bitstream))"
      ]
    },
    {
      "cell_type": "code",
      "execution_count": 57,
      "metadata": {
        "colab": {
          "base_uri": "https://localhost:8080/",
          "height": 447
        },
        "id": "lXrbe12YxxdK",
        "outputId": "767266ed-3178-4651-dbea-1781a4453fd8"
      },
      "outputs": [
        {
          "data": {
            "text/plain": [
              "268.27254666344686"
            ]
          },
          "execution_count": 57,
          "metadata": {},
          "output_type": "execute_result"
        },
        {
          "data": {
            "image/png": "[encoded data removed]",
            "text/plain": [
              "<Figure size 640x480 with 1 Axes>"
            ]
          },
          "metadata": {},
          "output_type": "display_data"
        }
      ],
      "source": [
        "counts, bins = np.histogram(model.l2.weights.detach().numpy(), bins=num_bins-1)\n",
        "pyplot.stairs(counts, bins)\n",
        "sum(h(counts/sum(counts))) * (hidden_dim*10) / 8"
      ]
    },
    {
      "cell_type": "code",
      "execution_count": 58,
      "metadata": {
        "colab": {
          "base_uri": "https://localhost:8080/"
        },
        "id": "GBPktXmevEFO",
        "outputId": "ee65744c-f73d-43c2-f8ea-4b21912545d0"
      },
      "outputs": [
        {
          "data": {
            "text/plain": [
              "array([-3,  4,  5, -2, -2,  7, -2,  1, -2,  0], dtype=int8)"
            ]
          },
          "execution_count": 58,
          "metadata": {},
          "output_type": "execute_result"
        }
      ],
      "source": [
        "model.l2.Q_b(num_bins - 2).detach().numpy()"
      ]
    },
    {
      "cell_type": "code",
      "execution_count": 60,
      "metadata": {},
      "outputs": [
        {
          "data": {
            "text/plain": [
              "tensor(3., grad_fn=<DivBackward0>)"
            ]
          },
          "execution_count": 60,
          "metadata": {},
          "output_type": "execute_result"
        }
      ],
      "source": [
        "model.l2.s_x(4)"
      ]
    },
    {
      "cell_type": "code",
      "execution_count": 61,
      "metadata": {},
      "outputs": [
        {
          "data": {
            "text/plain": [
              "tensor(0.1596, grad_fn=<DivBackward0>)"
            ]
          },
          "execution_count": 61,
          "metadata": {},
          "output_type": "execute_result"
        }
      ],
      "source": [
        "model.l2.s_w(16)"
      ]
    },
    {
      "cell_type": "code",
      "execution_count": 59,
      "metadata": {
        "colab": {
          "base_uri": "https://localhost:8080/",
          "height": 482
        },
        "id": "F7sLl-1NxuKA",
        "outputId": "d753ebc5-3f47-434e-d735-786f9a7e130c"
      },
      "outputs": [
        {
          "name": "stderr",
          "output_type": "stream",
          "text": [
            "/var/folders/w6/8tq8ndsd7mj7tm5qxr8__2700000gn/T/ipykernel_29113/4116196304.py:14: RuntimeWarning: divide by zero encountered in log2\n",
            "  bits = np.log2(x)\n"
          ]
        },
        {
          "data": {
            "text/plain": [
              "3.3080491808387693"
            ]
          },
          "execution_count": 59,
          "metadata": {},
          "output_type": "execute_result"
        },
        {
          "data": {
            "image/png": "[encoded data removed]",
            "text/plain": [
              "<Figure size 640x480 with 1 Axes>"
            ]
          },
          "metadata": {},
          "output_type": "display_data"
        }
      ],
      "source": [
        "counts, bins = np.histogram(model.l2.bias.detach().numpy(), bins=num_bins)\n",
        "pyplot.stairs(counts, bins)\n",
        "sum(h(counts/sum(counts))) * 10 / 8"
      ]
    },
    {
      "cell_type": "code",
      "execution_count": 67,
      "metadata": {
        "id": "VgMILESJx1U_"
      },
      "outputs": [
        {
          "name": "stdout",
          "output_type": "stream",
          "text": [
            "tensor([1.], device='mps:0')\n"
          ]
        }
      ],
      "source": [
        "if torch.backends.mps.is_available(): \n",
        "    mps_device = torch.device(\"mps\")\n",
        "    x = torch.ones(1, device=mps_device)\n",
        "    print(x)\n",
        "else:\n",
        "    print(\"MPS device not found\")"
      ]
    }
  ],
  "metadata": {
    "colab": {
      "provenance": []
    },
    "kernelspec": {
      "display_name": "Python 3",
      "name": "python3"
    },
    "language_info": {
      "codemirror_mode": {
        "name": "ipython",
        "version": 3
      },
      "file_extension": ".py",
      "mimetype": "text/x-python",
      "name": "python",
      "nbconvert_exporter": "python",
      "pygments_lexer": "ipython3",
      "version": "3.11.4"
    }
  },
  "nbformat": 4,
  "nbformat_minor": 0
}
