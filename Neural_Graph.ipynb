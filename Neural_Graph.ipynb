{
  "nbformat": 4,
  "nbformat_minor": 0,
  "metadata": {
    "colab": {
      "provenance": []
    },
    "kernelspec": {
      "name": "python3",
      "display_name": "Python 3"
    },
    "language_info": {
      "name": "python"
    }
  },
  "cells": [
    {
      "cell_type": "code",
      "source": [
        "from tqdm import tqdm\n",
        "import torch\n",
        "from torch import nn, optim\n",
        "import torch.nn.functional as F\n",
        "import math\n",
        "from matplotlib import pyplot\n",
        "import numpy as np\n",
        "from numpy import inf\n",
        "\n",
        "from torch.utils.data import TensorDataset\n",
        "from torch.utils.data import DataLoader"
      ],
      "metadata": {
        "id": "aPxmbqxaSdwW"
      },
      "execution_count": 1,
      "outputs": []
    },
    {
      "cell_type": "code",
      "source": [
        "from pathlib import Path\n",
        "import requests\n",
        "import pickle\n",
        "import struct\n",
        "import gzip\n",
        "import io\n",
        "import time"
      ],
      "metadata": {
        "id": "igYHYwTlSer5"
      },
      "execution_count": 2,
      "outputs": []
    },
    {
      "cell_type": "code",
      "source": [
        "DATA_PATH = Path(\"data\")\n",
        "PATH = DATA_PATH / \"mnist\"\n",
        "\n",
        "PATH.mkdir(parents=True, exist_ok=True)\n",
        "\n",
        "URL = \"https://github.com/pytorch/tutorials/raw/main/_static/\"\n",
        "FILENAME = \"mnist.pkl.gz\"\n",
        "\n",
        "if not (PATH / FILENAME).exists():\n",
        "        content = requests.get(URL + FILENAME).content\n",
        "        (PATH / FILENAME).open(\"wb\").write(content)\n",
        "\n",
        "with gzip.open((PATH / FILENAME).as_posix(), \"rb\") as f:\n",
        "        ((x_train, y_train), (x_valid, y_valid), _) = pickle.load(f, encoding=\"latin-1\")\n",
        "\n",
        "x_train, y_train, x_valid, y_valid = map(torch.tensor, (x_train, y_train, x_valid, y_valid))\n",
        "\n",
        "m = nn.AvgPool2d(2, stride=2)\n",
        "x_train = m(x_train.reshape((50000, 28, 28))).reshape((50000, 14 * 14))\n",
        "x_valid = m(x_valid.reshape((10000, 28, 28))).reshape((10000, 14 * 14))"
      ],
      "metadata": {
        "id": "GBgnfQbjSklR"
      },
      "execution_count": 3,
      "outputs": []
    },
    {
      "cell_type": "code",
      "source": [
        "class STE_Round(torch.autograd.Function):\n",
        "    @staticmethod\n",
        "    def forward(ctx, x):\n",
        "        # Because we are saving one of the inputs use `save_for_backward`\n",
        "        # Save non-tensors and non-inputs/non-outputs directly on ctx\n",
        "        return torch.round(x)\n",
        "\n",
        "    @staticmethod\n",
        "    def backward(ctx, grad_out):\n",
        "        # A function support double backward automatically if autograd\n",
        "        # is able to record the computations performed in backward\n",
        "        return grad_out\n",
        "\n",
        "def Q(x, s, z, alpha_q, beta_q):\n",
        "  # WARNING TORCH.ROUND BACKPROP GIVES 0, SHOULD USE STE\n",
        "  x_q = STE_Round.apply(1/s*x+z)\n",
        "  #x_q = 1/s * x + z\n",
        "  return torch.clamp(x_q, min=alpha_q, max=beta_q)\n",
        "\n",
        "def Q_int8(x, s, z):\n",
        "  x_q = Q(x, s, z, alpha_q = -127, beta_q = 127)\n",
        "  return x_q\n",
        "\n",
        "def Q_uint8(x, s, z):\n",
        "  x_q = Q(x, s, z, alpha_q = 0, beta_q = 255)\n",
        "  return x_q\n",
        "\n",
        "def Q_inv(x_q, s, z):\n",
        "  return s * (x_q - z)\n",
        "\n",
        "def Q_matmul_s_only(x, w, s_x, s_w):\n",
        "  return (x @ w) * s_x * s_w\n",
        "\n",
        "def FQ_int8(x, s, z):\n",
        "  return Q_inv(Q_int8(x, s, z), s, z)\n",
        "\n",
        "def FQ(x, s, z, bins):\n",
        "  return Q_inv(Q(x, s, z, alpha_q = -bins, beta_q = bins), s, z)"
      ],
      "metadata": {
        "id": "LOgH-gUpSWaX"
      },
      "execution_count": 4,
      "outputs": []
    },
    {
      "cell_type": "code",
      "source": [
        "bs = 64  # batch size\n",
        "\n",
        "n, c = x_train.shape\n",
        "print(x_train, y_train)\n",
        "print(x_train.shape)\n",
        "print(y_train.min(), y_train.max())\n",
        "\n",
        "pyplot.imshow(x_train[0].reshape((round(math.sqrt(c)), round(math.sqrt(c)))), cmap=\"gray\")\n",
        "print(x_train.shape)\n",
        "print(x_valid.shape)"
      ],
      "metadata": {
        "colab": {
          "base_uri": "https://localhost:8080/",
          "height": 621
        },
        "id": "a0dG09wMUX-S",
        "outputId": "4ede0216-2109-4b5a-ca4b-d9a91f23100a"
      },
      "execution_count": 5,
      "outputs": [
        {
          "output_type": "stream",
          "name": "stdout",
          "text": [
            "tensor([[0., 0., 0.,  ..., 0., 0., 0.],\n",
            "        [0., 0., 0.,  ..., 0., 0., 0.],\n",
            "        [0., 0., 0.,  ..., 0., 0., 0.],\n",
            "        ...,\n",
            "        [0., 0., 0.,  ..., 0., 0., 0.],\n",
            "        [0., 0., 0.,  ..., 0., 0., 0.],\n",
            "        [0., 0., 0.,  ..., 0., 0., 0.]]) tensor([5, 0, 4,  ..., 8, 4, 8])\n",
            "torch.Size([50000, 196])\n",
            "tensor(0) tensor(9)\n",
            "torch.Size([50000, 196])\n",
            "torch.Size([10000, 196])\n"
          ]
        },
        {
          "output_type": "display_data",
          "data": {
            "text/plain": [
              "<Figure size 640x480 with 1 Axes>"
            ],
            "image/png": "[encoded data removed]"
          },
          "metadata": {}
        }
      ]
    },
    {
      "cell_type": "code",
      "source": [
        "x_train = Q_int8(x_train, torch.max(torch.abs(x_train))/(16-1), 0)\n",
        "x_valid = Q_int8(x_valid, torch.max(torch.abs(x_valid))/(16-1), 0)"
      ],
      "metadata": {
        "id": "krTWdn7MTSp-"
      },
      "execution_count": 6,
      "outputs": []
    },
    {
      "cell_type": "code",
      "source": [
        "x_train[0].detach().numpy().astype(np.uint8)"
      ],
      "metadata": {
        "colab": {
          "base_uri": "https://localhost:8080/"
        },
        "id": "VMRbB3To1HI8",
        "outputId": "9ed3a8a4-ac53-44e5-9877-fa5327a1bdfa"
      },
      "execution_count": 7,
      "outputs": [
        {
          "output_type": "execute_result",
          "data": {
            "text/plain": [
              "array([ 0,  0,  0,  0,  0,  0,  0,  0,  0,  0,  0,  0,  0,  0,  0,  0,  0,\n",
              "        0,  0,  0,  0,  0,  0,  0,  0,  0,  0,  0,  0,  0,  0,  0,  0,  0,\n",
              "        0,  1,  4,  3,  6,  6,  0,  0,  0,  0,  0,  1,  8, 11, 14, 15, 15,\n",
              "        8,  9,  4,  0,  0,  0,  0,  0,  0, 10, 13, 14,  6, 10,  0,  0,  0,\n",
              "        0,  0,  0,  0,  0,  0,  0,  4, 12,  0,  0,  0,  0,  0,  0,  0,  0,\n",
              "        0,  0,  0,  0,  0, 11,  7,  2,  0,  0,  0,  0,  0,  0,  0,  0,  0,\n",
              "        0,  0,  1, 11, 13,  3,  0,  0,  0,  0,  0,  0,  0,  0,  0,  0,  0,\n",
              "        0,  9, 14,  1,  0,  0,  0,  0,  0,  0,  0,  0,  0,  3, 10, 14, 13,\n",
              "        0,  0,  0,  0,  0,  0,  0,  0,  1,  9, 14, 14,  8,  1,  0,  0,  0,\n",
              "        0,  0,  0,  3, 10, 14, 15,  9,  1,  0,  0,  0,  0,  0,  0,  0,  0,\n",
              "        6,  7,  5,  2,  0,  0,  0,  0,  0,  0,  0,  0,  0,  0,  0,  0,  0,\n",
              "        0,  0,  0,  0,  0,  0,  0,  0,  0], dtype=uint8)"
            ]
          },
          "metadata": {},
          "execution_count": 7
        }
      ]
    },
    {
      "cell_type": "code",
      "source": [
        "x_train[0].size()"
      ],
      "metadata": {
        "colab": {
          "base_uri": "https://localhost:8080/"
        },
        "id": "ZS5KNCEF170B",
        "outputId": "ab8b85a5-0964-42a6-f5f6-dee2658ec43f"
      },
      "execution_count": 8,
      "outputs": [
        {
          "output_type": "execute_result",
          "data": {
            "text/plain": [
              "torch.Size([196])"
            ]
          },
          "metadata": {},
          "execution_count": 8
        }
      ]
    },
    {
      "cell_type": "code",
      "source": [
        "pyplot.imshow(x_train[0].reshape((14, 14)), cmap=\"gray\")\n",
        "print(x_train, y_train)"
      ],
      "metadata": {
        "colab": {
          "base_uri": "https://localhost:8080/",
          "height": 552
        },
        "id": "v8tYo5DMH4oY",
        "outputId": "5921567b-fadf-4b64-b292-6c0aa068b1b0"
      },
      "execution_count": 9,
      "outputs": [
        {
          "output_type": "stream",
          "name": "stdout",
          "text": [
            "tensor([[0., 0., 0.,  ..., 0., 0., 0.],\n",
            "        [0., 0., 0.,  ..., 0., 0., 0.],\n",
            "        [0., 0., 0.,  ..., 0., 0., 0.],\n",
            "        ...,\n",
            "        [0., 0., 0.,  ..., 0., 0., 0.],\n",
            "        [0., 0., 0.,  ..., 0., 0., 0.],\n",
            "        [0., 0., 0.,  ..., 0., 0., 0.]]) tensor([5, 0, 4,  ..., 8, 4, 8])\n"
          ]
        },
        {
          "output_type": "display_data",
          "data": {
            "text/plain": [
              "<Figure size 640x480 with 1 Axes>"
            ],
            "image/png": "[encoded data removed]"
          },
          "metadata": {}
        }
      ]
    },
    {
      "cell_type": "code",
      "source": [
        "train_ds = TensorDataset(x_train, y_train)\n",
        "train_dl = DataLoader(train_ds, batch_size=bs, shuffle=True)\n",
        "\n",
        "valid_ds = TensorDataset(x_valid, y_valid)\n",
        "valid_dl = DataLoader(valid_ds, batch_size=bs * 2)"
      ],
      "metadata": {
        "id": "YoL4465ZMoIM"
      },
      "execution_count": 10,
      "outputs": []
    },
    {
      "cell_type": "code",
      "source": [
        "x = torch.randn(size=(1,1))\n",
        "buff = io.BytesIO()\n",
        "buff.write((255).to_bytes(3, 'little'))\n",
        "buff.seek(0)  # <--  this is what you were missing\n",
        "print(f'buffer: {buff.read()}')\n",
        "print(f'buffer: {buff.getvalue()}')\n",
        "\n",
        "#torch.save(x, buff)\n",
        "#buff.seek(0)  # <--  this is what you were missing\n",
        "#print(f'buffer: {buff.read()}')\n",
        "print(buff.writable())"
      ],
      "metadata": {
        "colab": {
          "base_uri": "https://localhost:8080/"
        },
        "id": "JLpsG-rBw_Ns",
        "outputId": "24631121-e988-465d-97a2-ca4106d27161"
      },
      "execution_count": 11,
      "outputs": [
        {
          "output_type": "stream",
          "name": "stdout",
          "text": [
            "buffer: b'\\xff\\x00\\x00'\n",
            "buffer: b'\\xff\\x00\\x00'\n",
            "True\n"
          ]
        }
      ]
    },
    {
      "cell_type": "code",
      "source": [
        "def cumul_inverse(cumul_counts):\n",
        "  lut = np.zeros(shape=(cumul_counts[-1]), dtype = int)\n",
        "  j = 0\n",
        "  for i in range(cumul_counts[-1]):\n",
        "    if i < cumul_counts[j]:\n",
        "      lut[i] = j-1\n",
        "    else:\n",
        "      j += 1\n",
        "      lut[i] = j-1\n",
        "\n",
        "  return lut\n",
        "\n",
        "def h(x):\n",
        "  bits = np.log2(x)\n",
        "  bits[bits == -inf] = 0\n",
        "  return bits*-x\n",
        "\n",
        "def C_rANS(input, state, symbol_counts, total_counts, cumul_counts):\n",
        "  s_count = symbol_counts[input] # current symbol count/frequency\n",
        "  next_state = (state//s_count)*total_counts + cumul_counts[input] + (state % s_count)\n",
        "  return next_state\n",
        "\n",
        "def D_rANS(state, symbol_counts, total_counts, cumul_counts, cumul_inv_f):\n",
        "  slot = state % total_counts # compute the slot\n",
        "  s = cumul_inv_f[slot] # decode the symbol\n",
        "  prev_state = (state//total_counts)*symbol_counts[s] + slot - cumul_counts[s] # update the state\n",
        "  return s, prev_state\n",
        "\n",
        "def Streaming_rANS_encoder(s_input, symbol_counts):\n",
        "  bits = 8\n",
        "  total_counts = np.sum(symbol_counts)  # Represents M\n",
        "  cumul_counts = np.insert(np.cumsum(symbol_counts),0,0) # the cumulative frequencies\n",
        "  bitstream = io.BytesIO() # initialize stream\n",
        "  state = total_counts # state initialized to M\n",
        "  #bitmask = 2**bits-1\n",
        "  max_range = symbol_counts * (2**bits)\n",
        "\n",
        "  for s in reversed(s_input): # iterate over the input\n",
        "    # Output bits to the stream to bring the state in the range for the next encoding\n",
        "    while state >= max_range[s]:\n",
        "      bitstream.write(state.astype(np.uint8).tobytes())\n",
        "      state = state >> bits\n",
        "    state = C_rANS(s, state, symbol_counts, total_counts, cumul_counts) # The rANS encoding step\n",
        "\n",
        "  bitstream.write(state.item().to_bytes(3, 'little'))\n",
        "\n",
        "  retObj = bytes(reversed(bitstream.getvalue()))\n",
        "  bitstream.close()\n",
        "  return retObj\n",
        "\n",
        "def Streaming_rANS_decoder(bitstream, size, symbol_counts):\n",
        "  data = np.zeros(shape=(size), dtype = np.uint8)\n",
        "  total_counts = np.sum(symbol_counts)  # Represents M\n",
        "  cumul_counts = np.insert(np.cumsum(symbol_counts),0,0) #the cumulative frequencies\n",
        "  cumul_inv_f = cumul_inverse(cumul_counts)\n",
        "  i = 0\n",
        "  j = 3\n",
        "  streamLen = len(bitstream)\n",
        "  state = int.from_bytes(bitstream[0:3], 'big')\n",
        "\n",
        "  while (j < streamLen) or (state != total_counts):\n",
        "    # perform the rANS decoding\n",
        "    s, state = D_rANS(state, symbol_counts, total_counts, cumul_counts, cumul_inv_f)\n",
        "\n",
        "    # remap the state into the acceptable range\n",
        "    while (j < streamLen) and (state < total_counts):\n",
        "      stream = bitstream[j]\n",
        "      j += 1\n",
        "      state = (state << 8) + stream\n",
        "\n",
        "    data[i] = s\n",
        "    i += 1\n",
        "\n",
        "  return data"
      ],
      "metadata": {
        "id": "erBWKxn8aUNO"
      },
      "execution_count": 12,
      "outputs": []
    },
    {
      "cell_type": "code",
      "source": [
        "def gen_sample(symbol_counts, size, seed = 42):\n",
        "  # Generate uniform RNG, then bin it accordingly\n",
        "  rng = np.random.default_rng(seed=seed)\n",
        "  rints = rng.integers(low=0, high=sum(symbol_counts), size=size)\n",
        "  cum_sum = np.insert(np.cumsum(symbol_counts),0,0)\n",
        "  table = cumul_inverse(cum_sum)\n",
        "  return list(map(lambda i: table[i], rints))\n",
        "\n",
        "def compress_nparr(nparr, bins):\n",
        "  # 1. Generate byte bins & symbol count to pass into\n",
        "  (hist, t) = np.histogram(nparr, bins = bins)\n",
        "  pyplot.stairs(hist, t)\n",
        "  print(hist, len(hist))\n",
        "\n",
        "  # round the freq distribution with sum equal to 256\n",
        "  hist = np.ceil(hist/np.sum(hist)*256).astype(np.int32)\n",
        "  err = 256 - np.sum(hist)\n",
        "  hist[np.argmax(hist)] += err\n",
        "\n",
        "  # make the zeros one\n",
        "  hist[hist == 0] = 1\n",
        "  err = 256 - np.sum(hist)\n",
        "  hist[np.argmax(hist)] += err\n",
        "\n",
        "  print(hist, len(hist))\n",
        "\n",
        "  assert(np.sum(hist) == 256)\n",
        "\n",
        "  # 2. Transform the input into uint8\n",
        "  new_nparr = nparr.flatten() - np.min(nparr)\n",
        "  print(np.min(new_nparr), np.max(new_nparr))\n",
        "\n",
        "  # 3. Compress\n",
        "  # WARNING: DO NOT PASS A SYMBOL WITH ZERO FREQUENCY, IT WILL INF LOOP\n",
        "  # TEMPORARY FIX: +1 TO THE 0 FREQ SYM AND SUBTRACT MAX FREQ SYM\n",
        "  bitstream = Streaming_rANS_encoder(new_nparr.view(np.uint8), hist)\n",
        "  return (hist, bitstream)\n",
        "\n",
        "  '''\n",
        "  # 1. Generate byte bins & symbol count to pass into\n",
        "  (hist, _) = np.histogram(nparr, bins = bins)\n",
        "  err = 256 - np.sum(hist)\n",
        "  hist[np.argmax(hist)] += err\n",
        "  assert(np.sum(hist) == 256)\n",
        "\n",
        "  # 2. Transform the input into uint8\n",
        "  nparr = nparr.view(np.uint8) - np.min(nparr)\n",
        "\n",
        "  # 3. Compress\n",
        "  Streaming_rANS_encoder(nparr, hist)\n",
        "\n",
        "  return (hist, bitstream)\n",
        "  '''"
      ],
      "metadata": {
        "id": "BeFK09mik5l3"
      },
      "execution_count": 13,
      "outputs": []
    },
    {
      "cell_type": "code",
      "source": [
        "# Bin according to symbol_count distribution\n",
        "symbol_counts = np.array([5, 1, 2])\n",
        "size = 1024**2\n",
        "\n",
        "rand_samp = gen_sample(symbol_counts, size)\n",
        "counts, bins = np.histogram(rand_samp, bins = len(symbol_counts))\n",
        "\n",
        "print(sum(symbol_counts), counts, bins)\n",
        "original_bits = np.log(3)/np.log(2)\n",
        "compress_bits = sum(h(np.array(symbol_counts)/8))\n",
        "print(\"Per element original bits: \", original_bits)\n",
        "print(\"Per element compressed bits: \", compress_bits)\n",
        "print(\"Ideal Total Bytes: \", compress_bits*size/8)\n",
        "print(\"Ideal Ratio: \", compress_bits/original_bits)"
      ],
      "metadata": {
        "colab": {
          "base_uri": "https://localhost:8080/"
        },
        "id": "9puY97XboqYx",
        "outputId": "1c702e1b-f5e0-4778-b628-cb748270404a"
      },
      "execution_count": 14,
      "outputs": [
        {
          "output_type": "stream",
          "name": "stdout",
          "text": [
            "8 [655749 131169 261658] [0.         0.66666667 1.33333333 2.        ]\n",
            "Per element original bits:  1.5849625007211563\n",
            "Per element compressed bits:  1.2987949406953985\n",
            "Ideal Total Bytes:  170235.65046682727\n",
            "Ideal Ratio:  0.8194483718728034\n"
          ]
        }
      ]
    },
    {
      "cell_type": "code",
      "source": [
        "bitstream = Streaming_rANS_encoder(rand_samp, symbol_counts)\n",
        "out_symbols = Streaming_rANS_decoder(bitstream, size, symbol_counts)\n",
        "print(all(out_symbols == rand_samp))"
      ],
      "metadata": {
        "colab": {
          "base_uri": "https://localhost:8080/"
        },
        "id": "QBf6npfGa3r6",
        "outputId": "5e9eaf27-50df-4058-8344-787beb1add88"
      },
      "execution_count": 15,
      "outputs": [
        {
          "output_type": "stream",
          "name": "stdout",
          "text": [
            "True\n"
          ]
        }
      ]
    },
    {
      "cell_type": "code",
      "source": [
        "original_bytes = np.log(3)/np.log(2)*size/8\n",
        "print(\"Original: \", original_bytes, \"bytes\")\n",
        "print(\"Compressed: \", len(bitstream), \"bytes\")\n",
        "print(\"Compression Ratio: \", len(bitstream)/original_bytes)"
      ],
      "metadata": {
        "colab": {
          "base_uri": "https://localhost:8080/"
        },
        "id": "rtPHs-mUEWWk",
        "outputId": "ec2b41ae-c221-44ed-9648-b7ff56034253"
      },
      "execution_count": 16,
      "outputs": [
        {
          "output_type": "stream",
          "name": "stdout",
          "text": [
            "Original:  207744.2048945234 bytes\n",
            "Compressed:  170820 bytes\n",
            "Compression Ratio:  0.8222612038045987\n"
          ]
        }
      ]
    },
    {
      "cell_type": "code",
      "source": [
        "rng = np.random.default_rng()\n",
        "rand_num = rng.random(size = 1, dtype = np.float32)\n",
        "print(rand_num[0])\n",
        "(tmp) = struct.pack('<f', rand_num[0]) # actually a float32\n",
        "tmp = bytearray(tmp)\n",
        "print(struct.unpack('<f', tmp)[0])\n",
        "tmp[0]=0\n",
        "print(struct.unpack('<f', tmp)[0])\n",
        "tmp[1]=0\n",
        "print(struct.unpack('<f', tmp)[0])"
      ],
      "metadata": {
        "colab": {
          "base_uri": "https://localhost:8080/"
        },
        "id": "qGkMhSEoCOVL",
        "outputId": "6011188a-a436-4c4d-d325-b829fc6c6e75"
      },
      "execution_count": 17,
      "outputs": [
        {
          "output_type": "stream",
          "name": "stdout",
          "text": [
            "0.24302459\n",
            "0.24302458763122559\n",
            "0.24302291870117188\n",
            "0.2421875\n"
          ]
        }
      ]
    },
    {
      "cell_type": "code",
      "source": [
        "# OPCODE, 32 max currently\n",
        "OP_BEGIN = 0\n",
        "OP_END = 1\n",
        "OP_MATMUL = 2\n",
        "\n",
        "OP_MATRIX_MAX = 4\n",
        "OP_MATRIX_ADD = 5\n",
        "\n",
        "OP_QUANTIZE = 8\n",
        "OP_DEQUANTIZE = 9\n",
        "\n",
        "FILE_VERSION = 0\n",
        "\n",
        "class op:\n",
        "  def __init__(self, opcode, data, prev = None):\n",
        "    self.opcode = opcode\n",
        "\n",
        "    self.prev = prev\n",
        "    self.next = None\n",
        "\n",
        "    # Initialize buffer if there are no previous links (a begin node)\n",
        "    if prev:\n",
        "      (self.op_buf, self.weight_buf, self.data_buf) = prev.link_next(self)\n",
        "    else:\n",
        "      self.op_buf = io.BytesIO()\n",
        "      self.weight_buf = io.BytesIO()\n",
        "      self.data_buf = io.BytesIO()\n",
        "\n",
        "    # Create tensor object to emit different data and weight bitstreams\n",
        "    if (opcode == OP_BEGIN) or (opcode == OP_END):\n",
        "      self.tensor = tensor(data, self.data_buf)\n",
        "    elif (opcode == OP_QUANTIZE) or (opcode == OP_DEQUANTIZE):\n",
        "      self.tensor = data\n",
        "    else:\n",
        "      self.tensor = tensor(data, self.weight_buf)\n",
        "\n",
        "  def emit(self):\n",
        "    self.op_buf.write(self.opcode.to_bytes(1, 'little'))\n",
        "\n",
        "    if (self.opcode == OP_QUANTIZE) or (self.opcode == OP_DEQUANTIZE):\n",
        "      # directly store scalar\n",
        "      (tmp) = struct.pack('<f', self.tensor) # actually a float32\n",
        "      self.op_buf.write(tmp[1:3])\n",
        "    else:\n",
        "      self.op_buf.write(self.tensor.buf.tell().to_bytes(3, 'little'))\n",
        "      self.tensor.emit()\n",
        "    if self.next:\n",
        "      self.next.emit()\n",
        "\n",
        "    if (self.opcode == OP_BEGIN):\n",
        "      retObj = (self.op_buf.getvalue(), self.weight_buf.getvalue(), self.data_buf.getvalue())\n",
        "      self.op_buf.close()\n",
        "      self.weight_buf.close()\n",
        "      self.data_buf.close()\n",
        "      return retObj\n",
        "\n",
        "  def link_next(self, next):\n",
        "    self.next = next\n",
        "    return self.op_buf, self.sram_buf, self.flash_buf\n",
        "\n",
        "class tensor:\n",
        "  '''\n",
        "  '''\n",
        "  def __init__(self, tensor, buf):\n",
        "    self.tensor = tensor\n",
        "    self.buf = buf\n",
        "    dim = tensor.shape\n",
        "    if len(dim) == 0:\n",
        "      self.x = 1\n",
        "      self.y = 1\n",
        "    elif len(dim) == 1:\n",
        "      self.x = dim[0]\n",
        "      self.y = 1\n",
        "    elif len(dim) == 2:\n",
        "      self.x = dim[0]\n",
        "      self.y = dim[1]\n",
        "    else:\n",
        "      raise Exception(\"Unsupported dimention\")\n",
        "\n",
        "  def emit(self):\n",
        "    # always use int8 for now\n",
        "    dtype = 0\n",
        "\n",
        "    # Only compress if is large enough\n",
        "    # 0: dense, 1: huffman, 2: ANS, 3: custom\n",
        "    codec = 1 if (self.x*self.y > 256) else 0\n",
        "\n",
        "    # codec (2), dtype (2), bin (4)\n",
        "    self.buf.write(((0<<6)|(0<<4)|(0)).to_bytes(1, 'little'))\n",
        "    self.buf.write(self.x.to_bytes(2, 'little'))\n",
        "    self.buf.write(self.y.to_bytes(2, 'little'))\n",
        "    # Dense or compressed\n",
        "    if (codec == 0):\n",
        "      self.buf.write((self.x*self.y).to_bytes(3, 'little'))\n",
        "      self.buf.write(self.tensor.numpy().tobytes())\n",
        "    else: # (codec == 1): compressed\n",
        "      compress_nparr(self.tensor.numpy(), 16)"
      ],
      "metadata": {
        "id": "SP22ywV9Ssb-"
      },
      "execution_count": 18,
      "outputs": []
    },
    {
      "cell_type": "code",
      "source": [
        "def exportCArray(bitstream):\n",
        "  buf = io.StringIO()\n",
        "  buf.write('{')\n",
        "  buf.write(', '.join(map(hex, bitstream)))\n",
        "  buf.write('}')\n",
        "  retObj = buf.getvalue()\n",
        "  buf.close()\n",
        "  return retObj"
      ],
      "metadata": {
        "id": "B2Nnt6rKSolh"
      },
      "execution_count": 19,
      "outputs": []
    },
    {
      "cell_type": "code",
      "source": [
        "class FC_Q(nn.Module):\n",
        "  def __init__(self, x_size, y_size):\n",
        "    super().__init__()\n",
        "    self.weights = nn.Parameter(torch.randn(x_size, y_size) / math.sqrt(x_size))\n",
        "    self.bias = nn.Parameter(torch.zeros(y_size))\n",
        "    self.s_x = lambda bits: 2*self.max_x/bits\n",
        "    self.max_x = 0.0\n",
        "    self.s_w = lambda bits: 2*torch.max(torch.abs(self.weights))/bits\n",
        "    self.s_b = lambda bits: 2*torch.max(torch.abs(self.bias))/bits\n",
        "\n",
        "  def forward(self, xb, train = True, w_bits = 256, x_bits = 256):\n",
        "    if train:\n",
        "      # QAT for weight only, find the max range of input over training\n",
        "      curr = torch.max(torch.abs(xb))\n",
        "      self.max_x = curr if (curr > self.max_x) else self.max_x\n",
        "      return (xb @ FQ_int8(self.weights, self.s_w(w_bits), 0)) + self.bias\n",
        "    else:\n",
        "      # Use int8\n",
        "      Q_xb = Q_int8(xb, self.s_x(x_bits), 0).type(torch.int8)\n",
        "      return (Q_xb @ self.Q_w(w_bits)).type(torch.float) * self.s_x(x_bits) * self.s_w(w_bits) + self.Q_b(x_bits) * self.s_b(x_bits)\n",
        "\n",
        "  def Q_w(self, bits):\n",
        "    return Q_int8(self.weights, self.s_w(bits), 0).type(torch.int8)\n",
        "\n",
        "  def Q_b(self, bits):\n",
        "    return Q_int8(self.bias, self.s_b(bits), 0).type(torch.int8)\n",
        "\n",
        "class MNIST_Model_Q(nn.Module):\n",
        "  def __init__(self, h1):\n",
        "    super().__init__()\n",
        "    self.l1 = FC_Q(c, h1)\n",
        "    self.l2 = FC_Q(h1, 10)\n",
        "    #self.l3 = FC_Q(10, 10)\n",
        "\n",
        "  def forward(self, xb, train = True, L1_w = 256, L1_x = 256, L2_w = 256, L2_x = 256):\n",
        "    act = torch.nn.ReLU6()\n",
        "    out_act = torch.nn.Softmax(dim=1)\n",
        "    L1 = act(self.l1(xb, train, L1_w, L1_x))\n",
        "    L2 = self.l2(L1, train, L2_w, L2_x)\n",
        "    '''\n",
        "    if verbose:\n",
        "      print(torch.transpose(Q_int8(L1, self.l2.s_x(L2_bits), 0).type(torch.uint8), 0, 1))\n",
        "      print(torch.transpose(L2, 0, 1))\n",
        "    '''\n",
        "    return out_act(L2)\n",
        "\n",
        "  def compile(self, input, output, L1_bits = 8, L2_bits = 8):\n",
        "    begin = op(OP_BEGIN, input.to(torch.int8))\n",
        "    next = op(OP_MATMUL, self.l1.s_w(self.w_bits).to(torch.int8), begin)\n",
        "    next = op(OP_MATRIX_ADD, input.to(torch.int8), next)\n",
        "    next = op(OP_DEQUANTIZE, input.to(torch.int8), next)\n",
        "\n",
        "    next = op(OP_MATRIX_MAX, input.to(torch.int8), next)\n",
        "\n",
        "    next = op(OP_QUANTIZE, torch.tensor(1, dtype=torch.float32), next)\n",
        "    next = op(OP_MATMUL, input.to(torch.int8), next)\n",
        "    next = op(OP_MATRIX_ADD, input.to(torch.int8), next)\n",
        "    next = op(OP_DEQUANTIZE, input.to(torch.int8), next)\n",
        "\n",
        "    op(OP_END, output.to(torch.int8), next)\n",
        "\n",
        "    return begin.emit()"
      ],
      "metadata": {
        "id": "J8WX2JOnTV9T"
      },
      "execution_count": 20,
      "outputs": []
    },
    {
      "cell_type": "code",
      "source": [
        "lr = 0.001  # learning rate\n",
        "epochs = 20  # how many epochs to train for\n",
        "loss_func = F.cross_entropy\n",
        "hidden_dim = 64\n",
        "\n",
        "def get_model():\n",
        "    model = MNIST_Model_Q(hidden_dim)\n",
        "    return model, optim.Adam(model.parameters(), lr=lr)\n",
        "\n",
        "model, opt = get_model()\n",
        "print(loss_func(model(x_valid[0:bs]), y_valid[0:bs]))"
      ],
      "metadata": {
        "colab": {
          "base_uri": "https://localhost:8080/"
        },
        "id": "xgQfsvonXmTc",
        "outputId": "5ae7a287-a2d1-4afe-9f9b-fc907db8535d"
      },
      "execution_count": 21,
      "outputs": [
        {
          "output_type": "stream",
          "name": "stdout",
          "text": [
            "tensor(2.3289, grad_fn=<NllLossBackward0>)\n"
          ]
        }
      ]
    },
    {
      "cell_type": "code",
      "source": [
        "# Create fit() and get_data()\n",
        "def loss_batch(model, loss_func, xb, yb, opt=None):\n",
        "    loss = loss_func(model(xb), yb)\n",
        "\n",
        "    if opt is not None:\n",
        "        loss.backward()\n",
        "        opt.step()\n",
        "        opt.zero_grad()\n",
        "\n",
        "    return loss.item(), len(xb)\n",
        "\n",
        "def fit(epochs, model, loss_func, opt, train_dl, valid_dl):\n",
        "    for epoch in range(epochs):\n",
        "        model.train()\n",
        "        for xb, yb in train_dl:\n",
        "            loss_batch(model, loss_func, xb, yb, opt)\n",
        "        if (epoch % 5 == 0):\n",
        "            model.eval()\n",
        "            with torch.no_grad():\n",
        "                losses, nums = zip(\n",
        "                    *[loss_batch(model, loss_func, xb, yb) for xb, yb in valid_dl]\n",
        "                )\n",
        "            val_loss = np.sum(np.multiply(losses, nums)) / np.sum(nums)\n",
        "            print(epoch, val_loss)\n",
        "\n",
        "def get_data(train_ds, valid_ds, bs):\n",
        "    return (\n",
        "        DataLoader(train_ds, batch_size=bs, shuffle=True),\n",
        "        DataLoader(valid_ds, batch_size=bs * 2),\n",
        "    )\n",
        "\n",
        "train_dl, valid_dl = get_data(train_ds, valid_ds, bs)\n",
        "model, opt = get_model()\n",
        "fit(epochs, model, loss_func, opt, train_dl, valid_dl)"
      ],
      "metadata": {
        "colab": {
          "base_uri": "https://localhost:8080/"
        },
        "id": "qXIqeuozXnaD",
        "outputId": "9ad67fff-86b4-46a7-b933-fb5e9c7ddb39"
      },
      "execution_count": 22,
      "outputs": [
        {
          "output_type": "stream",
          "name": "stdout",
          "text": [
            "0 1.5333365091323852\n",
            "5 1.4989413999557495\n",
            "10 1.4960229373931884\n",
            "15 1.4930312063217164\n"
          ]
        }
      ]
    },
    {
      "cell_type": "code",
      "source": [
        "def accuracy(out, yb):\n",
        "    preds = torch.argmax(out, dim=1)\n",
        "    return (preds == yb).float().mean().item()\n",
        "\n",
        "def correct_index(out, yb):\n",
        "    preds = torch.argmax(out, dim=1)\n",
        "    return torch.nonzero((preds == yb), as_tuple = True)"
      ],
      "metadata": {
        "id": "poxdq-JyZwj7"
      },
      "execution_count": 23,
      "outputs": []
    },
    {
      "cell_type": "code",
      "source": [
        "L1_bits = 6 # 5 for 28*28, 9 for 14*14\n",
        "L2_bits = 8\n",
        "print(\"Unquantized accuracy\", accuracy(model(x_valid), y_valid), \"%\")\n",
        "print(\"Quantized accuracy int8\", accuracy(model(x_valid, train = False,\n",
        "                                                L1_w = 16, L1_x = 2,\n",
        "                                                L2_w = 12, L2_x = 4),\n",
        "                                          y_valid), \"%\")\n",
        "print(\"Quantized accuracy int8\", accuracy(model(x_valid, train = False,\n",
        "                                                L1_w = 14, L1_x = 10,\n",
        "                                                L2_w = 8, L2_x = 7),\n",
        "                                          y_valid), \"%\")"
      ],
      "metadata": {
        "colab": {
          "base_uri": "https://localhost:8080/"
        },
        "id": "P7_6B2bcf_1k",
        "outputId": "9aff035a-4f55-4a7f-85b9-bdf4948cc930"
      },
      "execution_count": 24,
      "outputs": [
        {
          "output_type": "stream",
          "name": "stdout",
          "text": [
            "Unquantized accuracy 0.9696000218391418 %\n",
            "Quantized accuracy int8 0.8702999949455261 %\n",
            "Quantized accuracy int8 0.9487000107765198 %\n"
          ]
        }
      ]
    },
    {
      "cell_type": "code",
      "source": [
        "print(\"Quantized accuracy int8\", accuracy(model(x_valid, train = False,\n",
        "                                                L1_w = 16, L1_x = 8,\n",
        "                                                L2_w = 16, L2_x = 4),\n",
        "                                          y_valid), \"%\")"
      ],
      "metadata": {
        "colab": {
          "base_uri": "https://localhost:8080/"
        },
        "id": "9sHAxxKomMGk",
        "outputId": "09704920-1d31-45c8-9f96-f3ff2dd3ddd8"
      },
      "execution_count": 25,
      "outputs": [
        {
          "output_type": "stream",
          "name": "stdout",
          "text": [
            "Quantized accuracy int8 0.9562000036239624 %\n"
          ]
        }
      ]
    },
    {
      "cell_type": "code",
      "source": [
        "bits = 4\n",
        "num_bins = 2**bits"
      ],
      "metadata": {
        "id": "NGjZyP1lgA9r"
      },
      "execution_count": 26,
      "outputs": []
    },
    {
      "cell_type": "code",
      "source": [
        "(dist, bitstream) = compress_nparr(x_valid[0:32].detach().numpy().astype(np.int8), 16)"
      ],
      "metadata": {
        "colab": {
          "base_uri": "https://localhost:8080/",
          "height": 499
        },
        "id": "WcXrNt8TP0rz",
        "outputId": "f9464185-6863-4305-a340-1a9c19f9d785"
      },
      "execution_count": 27,
      "outputs": [
        {
          "output_type": "stream",
          "name": "stdout",
          "text": [
            "[4917  111   95   80   86   85   96   80   81   91   71   79   92   99\n",
            "   91  118] 16\n",
            "[194   5   4   4   4   4   4   4   4   4   3   4   4   5   4   5] 16\n",
            "0 15\n"
          ]
        },
        {
          "output_type": "display_data",
          "data": {
            "text/plain": [
              "<Figure size 640x480 with 1 Axes>"
            ],
            "image/png": "[encoded data removed]"
          },
          "metadata": {}
        }
      ]
    },
    {
      "cell_type": "code",
      "source": [
        "x_valid[0:32].size()"
      ],
      "metadata": {
        "colab": {
          "base_uri": "https://localhost:8080/"
        },
        "id": "YFtlO68g-okD",
        "outputId": "764f4420-f98b-4565-f2a9-be92436f6097"
      },
      "execution_count": 28,
      "outputs": [
        {
          "output_type": "execute_result",
          "data": {
            "text/plain": [
              "torch.Size([32, 196])"
            ]
          },
          "metadata": {},
          "execution_count": 28
        }
      ]
    },
    {
      "cell_type": "code",
      "source": [
        "decompressed = np.array(Streaming_rANS_decoder(bitstream, 32*14*14, dist))"
      ],
      "metadata": {
        "id": "gzp2v-Xy7JA4"
      },
      "execution_count": 29,
      "outputs": []
    },
    {
      "cell_type": "code",
      "source": [
        "exportCArray(bitstream)"
      ],
      "metadata": {
        "colab": {
          "base_uri": "https://localhost:8080/",
          "height": 105
        },
        "id": "SbQKEqCYYine",
        "outputId": "5bf1263b-7008-45e8-8558-b4af9475f3c3"
      },
      "execution_count": 30,
      "outputs": [
        {
          "output_type": "execute_result",
          "data": {
            "text/plain": [
              "'{0x0, 0x4, 0x60, 0x6c, 0x4a, 0xf6, 0xd4, 0x37, 0xd2, 0xdd, 0xf4, 0x45, 0x67, 0x46, 0x65, 0xed, 0x99, 0xf6, 0xea, 0xc6, 0x9, 0xfe, 0x41, 0xd8, 0xef, 0xc9, 0x9, 0xf7, 0xdc, 0xb8, 0xed, 0xf7, 0xfe, 0x5d, 0x2c, 0xf3, 0xdb, 0xc6, 0x3, 0x2, 0x4c, 0xd3, 0xd9, 0xd7, 0xaa, 0xf6, 0xe2, 0xd9, 0xee, 0xca, 0x76, 0xd5, 0x32, 0xc8, 0x99, 0xea, 0x39, 0xcd, 0xb9, 0xe8, 0xe2, 0xe0, 0x9a, 0xfd, 0xce, 0x16, 0xe5, 0xc3, 0x15, 0xe8, 0x45, 0xe3, 0x6d, 0xd7, 0x91, 0x9f, 0xe1, 0xe4, 0xe5, 0x4f, 0xdb, 0x76, 0xc1, 0x27, 0xe0, 0x66, 0xf5, 0x43, 0x9b, 0xce, 0x97, 0xd3, 0x2d, 0xf9, 0xca, 0x92, 0xd7, 0x34, 0xcc, 0x69, 0x9a, 0xf9, 0xf4, 0x30, 0x59, 0xd3, 0xf2, 0x7a, 0xcb, 0xd0, 0xff, 0xea, 0xca, 0xb3, 0xf1, 0xe4, 0xcd, 0x6, 0x6, 0x2, 0x72, 0x6c, 0xd0, 0x54, 0xf0, 0xe6, 0xef, 0x3d, 0xeb, 0x25, 0xf7, 0xe4, 0x1e, 0xaf, 0xf7, 0xbf, 0xf4, 0xd7, 0xc7, 0xea, 0xce, 0x54, 0xee, 0xf0, 0xf9, 0x53, 0x6e, 0x51, 0xb1, 0x47, 0x2b, 0xcd, 0x4d, 0xd6, 0x10, 0xd0, 0x3e, 0x6b, 0xd4, 0x3d, 0xf7, 0xe4, 0xe7, 0x5e, 0x5e, 0xcd, 0x5a, 0x2b, 0xd7, 0xb3, 0xfa, 0xc4, 0x37, 0xfa, 0xd9, 0xd7, 0xca, 0x86, 0xc8, 0xeb, 0xeb, 0xde, 0xf3, 0x72, 0xf2, 0x13, 0x46, 0xfe, 0xe2, 0xc4, 0xf8, 0xc6, 0xa6, 0xf3, 0xe3, 0xef, 0xe2, 0xa8, 0xdd, 0x4c, 0x6, 0x8, 0x8, 0x46, 0x8b, 0xc5, 0xec, 0x6b, 0xee, 0xe6, 0xcc, 0x98, 0xf5, 0xd6, 0x42, 0xe2, 0x5b, 0xe1, 0x1c, 0xdd, 0xe5, 0x1, 0xef, 0xe2, 0xe9, 0xc3, 0x6f, 0xe0, 0xe9, 0xe3, 0x33, 0x10, 0x7f, 0xb4, 0x51, 0x9a, 0x64, 0x2, 0x79, 0xa6, 0xe0, 0xed, 0xe3, 0xb2, 0xe9, 0xfb, 0xee, 0xdc, 0xd5, 0xd5, 0xed, 0xff, 0xf6, 0xdb, 0xb6, 0xfd, 0xff, 0xe3, 0x98, 0xc9, 0xe7, 0xc7, 0x16, 0xf8, 0xe4, 0xa6, 0xfe, 0xc3, 0x65, 0xf1, 0xfd, 0xcf, 0x62, 0xdb, 0xff, 0xe7, 0xca, 0xba, 0xde, 0xce, 0x6c, 0x73, 0x51, 0xf7, 0xe3, 0xca, 0x99, 0xd6, 0xe2, 0xe9, 0x89, 0xe9, 0xdb, 0x9d, 0xfd, 0xf9, 0xc4, 0x2e, 0xe9, 0xd8, 0xe4, 0x6d, 0xd3, 0x88, 0xec, 0x6b, 0xe3, 0x32, 0xc2, 0xef, 0xdd, 0xda, 0xe1, 0x6e, 0xdc, 0xef, 0xfd, 0xcc, 0x16, 0x6, 0x2, 0x96, 0xd0, 0x71, 0xf3, 0xd8, 0xec, 0xc5, 0xad, 0x93, 0xd4, 0xa5, 0xee, 0xa6, 0xc9, 0x9b, 0xc6, 0xdc, 0xd9, 0x58, 0xf7, 0x77, 0x23, 0xc7, 0x50, 0xdd, 0xd7, 0x6f, 0xda, 0xd4, 0x43, 0xa2, 0xe3, 0xde, 0x8f, 0xd9, 0xc2, 0x2, 0xc1, 0x9d, 0xc6, 0xc0, 0x4f, 0xd3, 0xb8, 0xee, 0xa5, 0x46, 0xc7, 0x43, 0xd7, 0xb8, 0xec, 0x13, 0x67, 0x26, 0xda, 0xa0, 0xed, 0xea, 0xf7, 0xc5, 0x1f, 0xdf, 0xe6, 0xe8, 0x2f, 0xe0, 0x54, 0xeb, 0x2f, 0x8a, 0x79, 0xbb, 0xd8, 0xd2, 0x12, 0xe6, 0xfc, 0xf9, 0xc4, 0x3e, 0xf7, 0xd6, 0xca, 0xa9, 0xfd, 0x2a, 0x59, 0xe2, 0x94, 0xfd, 0xfe, 0xe2, 0x39, 0xab, 0xfb, 0xfd, 0xfc, 0xd0, 0x35, 0xed, 0xfd, 0xd5, 0x95, 0xfc, 0xa, 0xfa, 0xf9, 0xd7, 0x99, 0xd5, 0x7, 0x6e, 0xea, 0xc4, 0x93, 0xfc, 0xc2, 0x3a, 0xcf, 0xe5, 0xe6, 0x33, 0x70, 0x4d, 0x1d, 0x50, 0x2e, 0x68, 0xc6, 0xe3, 0xd6, 0xeb, 0xbb, 0xe4, 0xe0, 0xf4, 0xe7, 0xbf, 0xcd, 0xcc, 0xed, 0xf2, 0xf0, 0xca, 0x4d, 0xf7, 0xe0, 0x9e, 0xe8, 0x6, 0x5, 0x80, 0x9b, 0xec, 0xfa, 0xe0, 0xc4, 0xab, 0xe2, 0xd6, 0xe8, 0xee, 0x8d, 0xfc, 0xd5, 0x21, 0xfe, 0x50, 0xe3, 0xfc, 0xe2, 0xb, 0xfa, 0xef, 0x62, 0xc2, 0xd6, 0xfd, 0x87, 0xb, 0xf3, 0xc1, 0xff, 0xe9, 0xe7, 0xf7, 0xcc, 0x6d, 0xf3, 0xf7, 0xe9, 0xcd, 0x6, 0x6, 0xf, 0xd9, 0xdd, 0x74, 0x66, 0xf5, 0xf0, 0xe9, 0xe6, 0x3b, 0xd1, 0xe2, 0x2, 0xd1, 0xe, 0xfc, 0x98, 0xd0, 0xdc, 0xeb, 0xe8, 0xa9, 0xf9, 0xc2, 0xa7, 0xf3, 0xd5, 0x9b, 0xe9, 0xc9, 0xc6, 0xb4, 0xe6, 0xe, 0xdc, 0x82, 0xf1, 0xf4, 0xd9, 0x46, 0xdb, 0x7a, 0x6, 0x8, 0x7, 0xe5, 0xce, 0xe2, 0x1, 0xfc, 0xce, 0xcf, 0xdc, 0x2a, 0xff, 0xdb, 0xe9, 0xc9, 0xae, 0xf4, 0x1a, 0x5c, 0x9, 0xdb, 0xe7, 0xfb, 0x94, 0xd4, 0xe9, 0xfa, 0xfc, 0x75, 0xc1, 0x7f, 0x2e, 0x77, 0xd, 0xf1, 0xbe, 0xe4, 0x58, 0x7, 0x4a, 0xd9, 0xce, 0x19, 0xed, 0xf9, 0xe9, 0xca, 0x6c, 0xf3, 0xe1, 0xd6, 0xff, 0xd9, 0xf4, 0x79, 0xfb, 0xe4, 0x24, 0xde, 0xf8, 0xd7, 0xa2, 0xee, 0xe8, 0x15, 0xf0, 0xf8, 0xd1, 0x5a, 0xd2, 0xf2, 0x39, 0xd2, 0x4c, 0xd3, 0x13, 0xfa, 0xf9, 0xcf, 0x93, 0xde, 0xcf, 0x2, 0x80, 0x60, 0xd0, 0x5e, 0xff, 0xec, 0xc1, 0xff, 0xfb, 0x79, 0xe1, 0xfb, 0xdf, 0x95, 0xfc, 0xdf, 0x5f, 0xff, 0xe0, 0x91, 0xfb, 0xe1, 0x94, 0xfd, 0xe2, 0x9b, 0xfd, 0xfe, 0xfb, 0x20, 0xfb, 0x7a, 0x2, 0x7f, 0x9a, 0xff, 0xf6, 0x11, 0xed, 0xe4, 0xc6, 0x83, 0xe9, 0x27, 0x22, 0xed, 0xea, 0xcf, 0xf, 0xee, 0xf0, 0xfe, 0xda, 0x6f, 0xf8, 0x87, 0xc6, 0x77, 0xdd, 0x8e, 0xd7, 0x30, 0x62, 0xda, 0xf0, 0xe2, 0xd4, 0xdb, 0x20, 0xf7, 0xff, 0xe5, 0xc3, 0x70, 0x5, 0x3b, 0xae, 0xeb, 0xf1, 0xc4, 0x20, 0xf2, 0xfa, 0xf9, 0x51, 0x51, 0xe8, 0xd8, 0xc8, 0xdc, 0x66, 0xf4, 0xbf, 0x47, 0xf3, 0xb1, 0xe8, 0xd1, 0x8c, 0xcd, 0x17, 0xe4, 0xd5, 0xa9, 0xd5, 0x2c, 0xe5, 0x3c, 0x96, 0xfc, 0xc6, 0x4b, 0xc2, 0x49, 0xeb, 0xf5, 0xd0, 0xdb, 0xfb, 0x84, 0xe4, 0xf6, 0xfd, 0xd8, 0x16, 0x5, 0x41, 0xa8, 0xe5, 0xf2, 0xf8, 0xca, 0xa0, 0xf6, 0xea, 0xdb, 0x8c, 0xe2, 0x68, 0xf2, 0xed, 0xe9, 0xcb, 0x7b, 0xe7, 0xef, 0xf9, 0xce, 0x98, 0xe8, 0x2a, 0xf8, 0xc4, 0x8f, 0x5a, 0xca, 0xbb, 0xf4, 0xe5, 0xd3, 0xdb, 0xf9, 0x89, 0xeb, 0xf7, 0xfe, 0xd7, 0x42, 0x6, 0x2, 0x72, 0x6b, 0xd6, 0x96, 0xf7, 0xe6, 0xf9, 0x49, 0xe9, 0x4b, 0xe3, 0xb6, 0xf2, 0xce, 0xe4, 0x55, 0xf5, 0xfa, 0xca, 0x35, 0xe6, 0x2a, 0xf4, 0x1e, 0x3f, 0x50, 0xba, 0xc4, 0x4e, 0xd7, 0x2, 0xc4, 0x16, 0x7, 0x5b, 0xc7, 0xd7, 0x10, 0xfa, 0xf7, 0x93, 0x2f, 0x34, 0xef, 0x84, 0xce, 0xa8, 0x9e, 0x59, 0x98, 0xf0, 0x93, 0xe2, 0x19, 0xd6, 0x5a, 0xf5, 0x83, 0xde, 0xbc, 0x4c, 0x2, 0x8a, 0xc8, 0x3f, 0xdf, 0x10, 0x83, 0xf9, 0xdc, 0xa6, 0xef, 0xc, 0xfc, 0xcf, 0x8a, 0x83, 0xfb, 0xe0, 0xde, 0xfd, 0xd8, 0x60, 0xf5, 0xff, 0xf7, 0xd3, 0x5b, 0xfb, 0xcd, 0x59, 0xfa, 0x26, 0xf2, 0x29, 0xea, 0x56, 0xd2, 0x6f, 0x3f, 0x21, 0xe3, 0x51, 0xf3, 0x58, 0xd1, 0x7, 0xd3, 0xc, 0xe3, 0x3d, 0xd9, 0x5c, 0x5b, 0x5f, 0x16, 0xc8, 0x7, 0xf7, 0xd4, 0xb1, 0xd6, 0xa, 0x6, 0x7, 0x56, 0xe7, 0xf1, 0xd1, 0x5a, 0xf3, 0xd7, 0xc4, 0x43, 0xf0, 0x73, 0xf, 0xd6, 0x10, 0xd1, 0x74, 0xd7, 0x5a, 0xcd, 0xb6, 0x4, 0x9d, 0xf0, 0xf4, 0x4c, 0xc7, 0xd2, 0xe9, 0xf5, 0xc4, 0x78, 0xde, 0xed, 0xec, 0xe6, 0xcb, 0x6, 0x2, 0x6d, 0x34, 0xf1, 0xff, 0xfa, 0xc7, 0xbe, 0xcd, 0x1f, 0xdd, 0x59, 0xf6, 0x93, 0x1f, 0xff, 0xf7, 0xc5, 0x71, 0xd5, 0xe6, 0xeb, 0x3e, 0xd6, 0x31, 0x74, 0xe7, 0x63, 0xff, 0xe4, 0xd9, 0xf8, 0x11, 0xfb, 0xfb, 0xfe, 0x3f, 0x15, 0xf3, 0xe9, 0xd9, 0x2, 0x79, 0xa5, 0xed, 0xcd, 0xc4, 0x41, 0xef, 0xe8, 0xdd, 0x51, 0xfb, 0xc2, 0xc8, 0x67, 0xe9, 0x93, 0xe4, 0x6, 0xdf, 0x90, 0x49, 0xda, 0x18, 0xc9, 0x9d, 0xd5, 0xda, 0x88, 0xe5, 0x4b, 0xcb, 0x28, 0xda, 0x4a, 0xe8, 0x1b, 0xdf, 0xf0, 0xe4, 0x57, 0x37, 0xb1, 0x4c, 0x38, 0x36, 0x8, 0xe3, 0xbb, 0xe1, 0x3d, 0xd9, 0x97, 0xe1, 0xbf, 0xe8, 0x9b, 0xe0, 0x20, 0xf1, 0x31, 0xe4, 0xcb, 0x55, 0xf2, 0xda, 0xcd, 0xf2, 0xd5, 0x4c, 0xfe, 0xfe, 0xf2, 0x6, 0xde, 0xde, 0xd3, 0x6, 0x5, 0x81, 0x20, 0xf1, 0xfb, 0xee, 0xd4, 0xbe, 0xf9, 0xd2, 0xd6, 0xea, 0x5a, 0xde, 0x74, 0xff, 0x85, 0xfc, 0x1, 0xf4, 0x23, 0x72, 0xc5, 0x33, 0xea, 0xfa, 0xcd, 0x67, 0xfe, 0xd9, 0x13, 0xda, 0xce, 0x7c, 0xef, 0xfa, 0xeb, 0xf7, 0xe3, 0xd7, 0xc6, 0xe9, 0xea, 0xe1, 0xd7, 0x7a, 0x6, 0x2, 0x7d, 0x85, 0xd7, 0xc3, 0xd4, 0x72, 0xe8, 0xfd, 0xfd, 0xce, 0x14, 0x78, 0xf1, 0xec, 0xe, 0xe8, 0xcf, 0x83, 0xf2, 0x54, 0xee, 0x94, 0xfa, 0xf3, 0xf7, 0xc3, 0x70, 0xe1, 0xdc, 0xd4, 0x75, 0xe6, 0x74, 0xf4, 0xc4, 0x2, 0xcf, 0x9d, 0xcd, 0x2, 0x76, 0x7b, 0xf9, 0xc8, 0xbe, 0xf8, 0xd6, 0xff, 0xe4, 0x41, 0xde, 0x26, 0xfc, 0x54, 0xfd, 0xd2, 0x9c, 0xed, 0x78, 0xe3, 0xc2, 0xfe, 0xda, 0x40, 0xf7, 0xfc, 0xf1, 0x58, 0xf3, 0xe6, 0xc, 0xd5, 0x9d, 0xcd, 0x19, 0xf6, 0xc6, 0x6, 0xd, 0x5b, 0x53, 0x5d, 0x9c, 0xcf, 0xd1, 0x8b, 0xb5, 0xda, 0x7d, 0x2c, 0xe4, 0x80, 0xda, 0xca, 0xec, 0xcf, 0xa4, 0xe7, 0xf7, 0xff, 0xdd, 0xaa, 0xf4, 0xa5, 0x4e, 0x62, 0x6}'"
            ],
            "application/vnd.google.colaboratory.intrinsic+json": {
              "type": "string"
            }
          },
          "metadata": {},
          "execution_count": 30
        }
      ]
    },
    {
      "cell_type": "code",
      "source": [
        "exportCArray(dist)"
      ],
      "metadata": {
        "colab": {
          "base_uri": "https://localhost:8080/",
          "height": 35
        },
        "id": "sAdf28ZHp9gQ",
        "outputId": "d4379f95-c5fe-4041-a89d-1f42f3f378eb"
      },
      "execution_count": 31,
      "outputs": [
        {
          "output_type": "execute_result",
          "data": {
            "text/plain": [
              "'{0xc2, 0x5, 0x4, 0x4, 0x4, 0x4, 0x4, 0x4, 0x4, 0x4, 0x3, 0x4, 0x4, 0x5, 0x4, 0x5}'"
            ],
            "application/vnd.google.colaboratory.intrinsic+json": {
              "type": "string"
            }
          },
          "metadata": {},
          "execution_count": 31
        }
      ]
    },
    {
      "cell_type": "code",
      "source": [
        "cnt = [194, 5, 4, 4, 4, 4, 4, 4, 4, 4, 3, 4, 4, 5, 4, 5]"
      ],
      "metadata": {
        "id": "jV0S7tg7hHR8"
      },
      "execution_count": 32,
      "outputs": []
    },
    {
      "cell_type": "code",
      "source": [
        "cumul_counts = np.insert(np.cumsum(cnt), 0, 0)"
      ],
      "metadata": {
        "id": "NflUU6rcg-6j"
      },
      "execution_count": 33,
      "outputs": []
    },
    {
      "cell_type": "code",
      "source": [
        "cumul_counts"
      ],
      "metadata": {
        "colab": {
          "base_uri": "https://localhost:8080/"
        },
        "id": "T4mwKxuL6Leu",
        "outputId": "590ff058-19a0-4275-cd36-b9bccb07d4f8"
      },
      "execution_count": 34,
      "outputs": [
        {
          "output_type": "execute_result",
          "data": {
            "text/plain": [
              "array([  0, 194, 199, 203, 207, 211, 215, 219, 223, 227, 231, 234, 238,\n",
              "       242, 247, 251, 256])"
            ]
          },
          "metadata": {},
          "execution_count": 34
        }
      ]
    },
    {
      "cell_type": "code",
      "source": [
        "cumul_inverse(cumul_counts)"
      ],
      "metadata": {
        "colab": {
          "base_uri": "https://localhost:8080/"
        },
        "id": "huPad8h54UoW",
        "outputId": "b6f9a2ca-18db-4fdf-8d18-8fdef594b503"
      },
      "execution_count": 35,
      "outputs": [
        {
          "output_type": "execute_result",
          "data": {
            "text/plain": [
              "array([ 0,  0,  0,  0,  0,  0,  0,  0,  0,  0,  0,  0,  0,  0,  0,  0,  0,\n",
              "        0,  0,  0,  0,  0,  0,  0,  0,  0,  0,  0,  0,  0,  0,  0,  0,  0,\n",
              "        0,  0,  0,  0,  0,  0,  0,  0,  0,  0,  0,  0,  0,  0,  0,  0,  0,\n",
              "        0,  0,  0,  0,  0,  0,  0,  0,  0,  0,  0,  0,  0,  0,  0,  0,  0,\n",
              "        0,  0,  0,  0,  0,  0,  0,  0,  0,  0,  0,  0,  0,  0,  0,  0,  0,\n",
              "        0,  0,  0,  0,  0,  0,  0,  0,  0,  0,  0,  0,  0,  0,  0,  0,  0,\n",
              "        0,  0,  0,  0,  0,  0,  0,  0,  0,  0,  0,  0,  0,  0,  0,  0,  0,\n",
              "        0,  0,  0,  0,  0,  0,  0,  0,  0,  0,  0,  0,  0,  0,  0,  0,  0,\n",
              "        0,  0,  0,  0,  0,  0,  0,  0,  0,  0,  0,  0,  0,  0,  0,  0,  0,\n",
              "        0,  0,  0,  0,  0,  0,  0,  0,  0,  0,  0,  0,  0,  0,  0,  0,  0,\n",
              "        0,  0,  0,  0,  0,  0,  0,  0,  0,  0,  0,  0,  0,  0,  0,  0,  0,\n",
              "        0,  0,  0,  0,  0,  0,  0,  1,  1,  1,  1,  1,  2,  2,  2,  2,  3,\n",
              "        3,  3,  3,  4,  4,  4,  4,  5,  5,  5,  5,  6,  6,  6,  6,  7,  7,\n",
              "        7,  7,  8,  8,  8,  8,  9,  9,  9,  9, 10, 10, 10, 11, 11, 11, 11,\n",
              "       12, 12, 12, 12, 13, 13, 13, 13, 13, 14, 14, 14, 14, 15, 15, 15, 15,\n",
              "       15])"
            ]
          },
          "metadata": {},
          "execution_count": 35
        }
      ]
    },
    {
      "cell_type": "code",
      "source": [
        "len(bitstream)"
      ],
      "metadata": {
        "colab": {
          "base_uri": "https://localhost:8080/"
        },
        "id": "GH2htbIuYkXu",
        "outputId": "caf3079e-a2a5-48e6-fd8b-10845d6d94fe"
      },
      "execution_count": 36,
      "outputs": [
        {
          "output_type": "execute_result",
          "data": {
            "text/plain": [
              "1248"
            ]
          },
          "metadata": {},
          "execution_count": 36
        }
      ]
    },
    {
      "cell_type": "code",
      "source": [
        "len(bitstream)/(14*14*32)"
      ],
      "metadata": {
        "colab": {
          "base_uri": "https://localhost:8080/"
        },
        "id": "GROoUEDtC2fm",
        "outputId": "bc81ca36-a0aa-4cbd-cd23-05f094e8c550"
      },
      "execution_count": 37,
      "outputs": [
        {
          "output_type": "execute_result",
          "data": {
            "text/plain": [
              "0.1989795918367347"
            ]
          },
          "metadata": {},
          "execution_count": 37
        }
      ]
    },
    {
      "cell_type": "code",
      "source": [
        "y_valid[0:32]"
      ],
      "metadata": {
        "colab": {
          "base_uri": "https://localhost:8080/"
        },
        "id": "d1isc67UhEwh",
        "outputId": "9b4b042a-0c36-457f-8d4d-9f68ffec0b5b"
      },
      "execution_count": 38,
      "outputs": [
        {
          "output_type": "execute_result",
          "data": {
            "text/plain": [
              "tensor([3, 8, 6, 9, 6, 4, 5, 3, 8, 4, 5, 2, 3, 8, 4, 8, 1, 5, 0, 5, 9, 7, 4, 1,\n",
              "        0, 3, 0, 6, 2, 9, 9, 4])"
            ]
          },
          "metadata": {},
          "execution_count": 38
        }
      ]
    },
    {
      "cell_type": "code",
      "source": [
        "(dist, bitstream) = compress_nparr(model.l1.Q_w(num_bins - 2).detach().numpy(), num_bins - 1)"
      ],
      "metadata": {
        "colab": {
          "base_uri": "https://localhost:8080/",
          "height": 499
        },
        "id": "RndCWE33T1VS",
        "outputId": "ee42102d-ce53-4747-d998-84424b71d81f"
      },
      "execution_count": 39,
      "outputs": [
        {
          "output_type": "stream",
          "name": "stdout",
          "text": [
            "[   9   28   62  214  478 1178 2574 3592 2604 1179  421  143   43   16\n",
            "    3] 15\n",
            "[ 1  1  2  5 10 25 53 65 54 25  9  3  1  1  1] 15\n",
            "0 14\n"
          ]
        },
        {
          "output_type": "display_data",
          "data": {
            "text/plain": [
              "<Figure size 640x480 with 1 Axes>"
            ],
            "image/png": "[encoded data removed]"
          },
          "metadata": {}
        }
      ]
    },
    {
      "cell_type": "code",
      "source": [
        "print(exportCArray(dist))"
      ],
      "metadata": {
        "colab": {
          "base_uri": "https://localhost:8080/"
        },
        "id": "O4kh6Q7sut8m",
        "outputId": "34f117bc-767d-4069-a980-9f0296c427d8"
      },
      "execution_count": 40,
      "outputs": [
        {
          "output_type": "stream",
          "name": "stdout",
          "text": [
            "{0x1, 0x1, 0x2, 0x5, 0xa, 0x19, 0x35, 0x41, 0x36, 0x19, 0x9, 0x3, 0x1, 0x1, 0x1}\n"
          ]
        }
      ]
    },
    {
      "cell_type": "code",
      "source": [
        "len(bitstream)/1024"
      ],
      "metadata": {
        "colab": {
          "base_uri": "https://localhost:8080/"
        },
        "id": "fsEg_GZvUI-a",
        "outputId": "2c7eacb2-e3e8-43b0-b81e-2dd18a22a756"
      },
      "execution_count": 41,
      "outputs": [
        {
          "output_type": "execute_result",
          "data": {
            "text/plain": [
              "4.2060546875"
            ]
          },
          "metadata": {},
          "execution_count": 41
        }
      ]
    },
    {
      "cell_type": "code",
      "source": [
        "print(exportCArray(bitstream))"
      ],
      "metadata": {
        "colab": {
          "base_uri": "https://localhost:8080/"
        },
        "id": "hLjXLPjUlUZU",
        "outputId": "eb693e47-0d83-4dbf-c35d-68f68f980a4b"
      },
      "execution_count": 42,
      "outputs": [
        {
          "output_type": "stream",
          "name": "stdout",
          "text": [
            "{0x0, 0x1e, 0xc9, 0x4f, 0x46, 0x14, 0xed, 0xa3, 0x33, 0x89, 0xa4, 0x7d, 0xb0, 0x3e, 0x80, 0x97, 0x63, 0x52, 0x98, 0x5a, 0x77, 0x7d, 0x88, 0x49, 0x5b, 0xcf, 0x6b, 0x96, 0x3e, 0x70, 0x65, 0x39, 0x42, 0xbf, 0x50, 0xa4, 0xc5, 0x2e, 0x4d, 0xbc, 0x97, 0x72, 0x6a, 0xec, 0xc5, 0x39, 0xa3, 0xd2, 0xa3, 0x8a, 0x98, 0x8a, 0xb1, 0x96, 0x8e, 0x6d, 0xc8, 0x6f, 0xc1, 0xb7, 0xdc, 0x82, 0x86, 0x92, 0x7d, 0x7f, 0x8a, 0x82, 0x41, 0x6e, 0xbb, 0xae, 0x96, 0xe7, 0x8c, 0x7, 0x3d, 0x6a, 0x97, 0x37, 0x3b, 0x29, 0x23, 0x79, 0x40, 0x2f, 0x2c, 0x51, 0x66, 0xd6, 0xdd, 0x1e, 0x8e, 0x19, 0x32, 0xc, 0x23, 0xa9, 0x7e, 0x86, 0xca, 0x1e, 0x46, 0xaf, 0x63, 0x62, 0x88, 0x17, 0x51, 0xa5, 0x62, 0x4d, 0x69, 0xf, 0x1b, 0x17, 0x4d, 0x5c, 0x64, 0xc7, 0x54, 0x5c, 0x14, 0x79, 0x16, 0x68, 0xb5, 0xd0, 0x4d, 0xc2, 0x4f, 0x96, 0x64, 0xcd, 0xf, 0x3a, 0xf5, 0xf1, 0x13, 0xcf, 0x6f, 0xec, 0xb2, 0x6f, 0x16, 0x11, 0x85, 0x3, 0xc6, 0x55, 0x3d, 0x58, 0xe7, 0x55, 0xc9, 0x8d, 0x4d, 0x1d, 0xd8, 0x69, 0x15, 0x81, 0xd2, 0xbd, 0x2e, 0xaa, 0xdd, 0x57, 0x17, 0x4, 0x96, 0x7a, 0xf0, 0xa7, 0x66, 0xc4, 0x51, 0x21, 0xef, 0x11, 0x7c, 0x3e, 0x2e, 0x2f, 0xe6, 0x60, 0xa3, 0xb6, 0x3a, 0xf7, 0x47, 0xed, 0xeb, 0xb, 0x17, 0x7a, 0x5f, 0x2c, 0x69, 0x2a, 0x44, 0x82, 0x3c, 0xdf, 0x45, 0xdc, 0x25, 0xf1, 0x61, 0xf8, 0x65, 0x19, 0x95, 0x4e, 0x57, 0xab, 0xa8, 0x1e, 0x3c, 0xed, 0x8e, 0x5a, 0x60, 0x44, 0xbf, 0x43, 0x7a, 0xc8, 0x47, 0xcb, 0x33, 0x40, 0x2d, 0xab, 0x90, 0x32, 0x55, 0x96, 0x70, 0x38, 0xd0, 0x60, 0x68, 0x5a, 0x95, 0xd5, 0xbc, 0x7c, 0x71, 0x6c, 0x33, 0x77, 0x65, 0x3a, 0x76, 0xaf, 0x94, 0x88, 0xc7, 0x62, 0x48, 0x51, 0x4c, 0xa3, 0x52, 0x7e, 0x85, 0xa5, 0x81, 0xab, 0x44, 0xb5, 0xb3, 0xa9, 0x9e, 0x77, 0x84, 0xd2, 0x1c, 0x62, 0xa6, 0x30, 0x9a, 0x68, 0x77, 0x76, 0xb5, 0x46, 0x87, 0x79, 0x34, 0x7b, 0x66, 0x47, 0x67, 0x7c, 0xf3, 0x2c, 0x5e, 0x45, 0xa4, 0xc5, 0x31, 0x4f, 0x4, 0x7c, 0xc0, 0x6d, 0x45, 0x41, 0x77, 0xa2, 0xad, 0x10, 0x68, 0xb7, 0xf3, 0x6, 0xa7, 0x9a, 0x42, 0xab, 0xb6, 0x12, 0x8, 0x58, 0x29, 0x86, 0xe1, 0x3e, 0xdc, 0x15, 0x35, 0x71, 0x62, 0x94, 0x63, 0x13, 0xd6, 0xe2, 0x13, 0xf1, 0xa5, 0x16, 0x87, 0xf4, 0x32, 0x90, 0x14, 0x38, 0x6b, 0x70, 0x4f, 0xea, 0x67, 0x97, 0x12, 0xb1, 0x9d, 0xf4, 0xc, 0xe1, 0x54, 0x98, 0xda, 0xfa, 0xc7, 0x8f, 0xaa, 0x12, 0xb6, 0x6b, 0xbd, 0xa, 0x30, 0xef, 0xe7, 0xf3, 0xe0, 0x56, 0x36, 0xf8, 0xe9, 0x4d, 0xe1, 0x3d, 0x46, 0xc4, 0x85, 0xec, 0xcd, 0x9b, 0x4, 0x51, 0x2b, 0x9, 0x36, 0x2c, 0xdb, 0x24, 0x21, 0x7c, 0xf1, 0xf8, 0xde, 0x13, 0xd4, 0xab, 0x64, 0x72, 0x57, 0xa7, 0xc8, 0x23, 0x2c, 0x20, 0xfe, 0xa, 0xf2, 0x96, 0x74, 0xfc, 0xe6, 0xc4, 0xeb, 0xa5, 0xf0, 0xf2, 0xa, 0xfb, 0xb7, 0xd5, 0xd9, 0x6c, 0x6b, 0xe, 0xef, 0x6e, 0xfd, 0xfb, 0xe, 0xf8, 0x2, 0x23, 0x41, 0x33, 0x91, 0xb3, 0xad, 0xf8, 0xcf, 0xfe, 0xed, 0xc, 0x9c, 0x42, 0xf, 0xb, 0xdf, 0x87, 0x8a, 0x0, 0x8f, 0x13, 0xc6, 0xbf, 0xfa, 0x84, 0xf8, 0xd6, 0x57, 0x98, 0xf5, 0x9f, 0x66, 0xed, 0xca, 0x46, 0xe4, 0x46, 0x42, 0x49, 0x91, 0x7f, 0x99, 0x74, 0xa, 0x1c, 0x17, 0xc8, 0x6f, 0x5a, 0x64, 0xe, 0x22, 0x35, 0xaa, 0x68, 0x82, 0x54, 0xd5, 0x2, 0xb0, 0x2, 0xa6, 0xdd, 0x23, 0x48, 0xbc, 0xa9, 0x66, 0x62, 0xe9, 0x67, 0x9b, 0xe2, 0x2f, 0xf3, 0xbe, 0x24, 0x6f, 0x22, 0x94, 0x9a, 0xc0, 0x7, 0x5b, 0xc1, 0xdf, 0xf8, 0xad, 0x7, 0xf, 0xea, 0xbd, 0x6f, 0x35, 0x18, 0xf0, 0x46, 0xaf, 0x4f, 0xd0, 0xf4, 0x18, 0xda, 0xf0, 0x72, 0x67, 0x8c, 0x3d, 0xe1, 0x20, 0x35, 0xdf, 0x12, 0x2, 0x1e, 0x3e, 0x9d, 0x51, 0x14, 0x4d, 0xba, 0xfd, 0xba, 0x6f, 0xbe, 0xf0, 0x23, 0x8b, 0x47, 0x89, 0x10, 0x32, 0x8c, 0x29, 0xda, 0xf3, 0x1e, 0x1a, 0x9, 0xaf, 0xd, 0x9e, 0x16, 0x13, 0xbb, 0x3b, 0x4b, 0xaa, 0xf1, 0xb, 0x74, 0x1e, 0x8c, 0x7c, 0x3a, 0x3e, 0xb5, 0x2e, 0x85, 0xe3, 0x18, 0xcd, 0x82, 0x4b, 0xd2, 0x92, 0x8d, 0x89, 0xed, 0xa4, 0xaf, 0xc4, 0x66, 0xca, 0xda, 0x68, 0x6d, 0xe5, 0x3f, 0xb4, 0xa2, 0x72, 0x9c, 0xab, 0xbd, 0x19, 0xcd, 0x23, 0x1f, 0x89, 0x8d, 0x9a, 0xdb, 0x22, 0xe6, 0x28, 0xe1, 0xbb, 0x4e, 0x52, 0x7c, 0x6d, 0x1c, 0x57, 0xe2, 0x3e, 0x58, 0x79, 0xd, 0xce, 0x2d, 0x40, 0x3a, 0xbf, 0xf7, 0x4, 0xab, 0xa6, 0x7b, 0x21, 0xa3, 0x3d, 0x31, 0x4c, 0x10, 0xee, 0x11, 0xb9, 0x57, 0x99, 0xf, 0xf5, 0x69, 0x4a, 0xc2, 0x45, 0xdd, 0xd7, 0x89, 0x69, 0x27, 0xdf, 0xd0, 0xc8, 0xc4, 0xa7, 0x12, 0x3b, 0xe4, 0x1c, 0xf8, 0x9a, 0x50, 0x19, 0xee, 0x72, 0xa8, 0x35, 0x3, 0xe0, 0xf4, 0xb6, 0x6a, 0xe5, 0xc2, 0x51, 0x27, 0x72, 0xf0, 0xcb, 0x8d, 0x4e, 0x42, 0x1c, 0x64, 0xc3, 0x3c, 0xb0, 0x1, 0xeb, 0x58, 0xbb, 0xe7, 0xc5, 0xb4, 0xed, 0xd7, 0x6b, 0x22, 0x5c, 0xb4, 0x96, 0xdf, 0xca, 0x68, 0xfd, 0xd5, 0x9f, 0xdd, 0x1a, 0x11, 0x9e, 0x95, 0xe2, 0x2a, 0x74, 0x7a, 0xaf, 0x7b, 0xad, 0xc3, 0xaf, 0x1b, 0x20, 0xd7, 0xe6, 0x24, 0x4d, 0x56, 0xeb, 0xc6, 0x20, 0x14, 0x61, 0x95, 0xb8, 0xef, 0x6f, 0x6d, 0x22, 0xe4, 0xed, 0xc8, 0xb2, 0xc5, 0x76, 0x74, 0x86, 0xee, 0x8e, 0x6f, 0x78, 0xed, 0x6e, 0xcf, 0x4a, 0x55, 0x84, 0xf8, 0xb3, 0x1c, 0x4f, 0xca, 0x90, 0x4f, 0xf7, 0x59, 0xed, 0x29, 0xe, 0xb0, 0xeb, 0x73, 0x89, 0x2b, 0x32, 0x92, 0x8f, 0x24, 0xb1, 0xa8, 0x2d, 0xe8, 0x9f, 0x58, 0x1d, 0xc1, 0xb7, 0x41, 0x84, 0xe7, 0x5f, 0x97, 0x41, 0xf5, 0xa5, 0x82, 0x26, 0xc7, 0x4e, 0xaa, 0xb1, 0xa5, 0x33, 0x4e, 0x48, 0x80, 0x4a, 0xe3, 0x49, 0x64, 0x0, 0xbc, 0x4e, 0x62, 0x84, 0x37, 0x8c, 0x9f, 0x5b, 0xbb, 0x2d, 0xa8, 0x21, 0x38, 0x5e, 0xa7, 0x3a, 0x1b, 0x2a, 0x49, 0xb6, 0x9, 0x75, 0xa6, 0xa1, 0x9e, 0x38, 0x19, 0x1c, 0xb, 0x18, 0xe8, 0x94, 0xe4, 0xc1, 0x50, 0xeb, 0xef, 0x5, 0x75, 0xf9, 0x9, 0x22, 0x30, 0xc0, 0x3d, 0xe1, 0xd7, 0x86, 0xb7, 0xba, 0x5e, 0x7, 0xc5, 0xa8, 0x3, 0xe, 0xf1, 0xad, 0xf6, 0xc9, 0x9, 0xc9, 0xc5, 0xf5, 0xc6, 0x83, 0x93, 0x5a, 0xbd, 0xfd, 0x7c, 0xe0, 0x3d, 0x15, 0xd, 0x99, 0x84, 0xfb, 0x39, 0xa2, 0xf2, 0xb3, 0xf1, 0xf6, 0x59, 0xda, 0xf3, 0xe7, 0xf4, 0x1c, 0x15, 0x47, 0x37, 0x55, 0x6e, 0xdb, 0xe, 0x35, 0xa, 0x6c, 0x1c, 0x2d, 0xab, 0x1c, 0xe8, 0x28, 0xdb, 0x59, 0x53, 0x7e, 0x91, 0x61, 0xb3, 0x85, 0x8d, 0x59, 0x72, 0x13, 0x8c, 0x67, 0x4b, 0xa3, 0x31, 0x2c, 0xa3, 0x52, 0xd5, 0x10, 0x27, 0xbf, 0x4c, 0x9, 0x20, 0xbd, 0xd2, 0xa3, 0xba, 0xf9, 0xcd, 0x11, 0x23, 0x55, 0xbe, 0x3d, 0x77, 0x1a, 0x1a, 0x62, 0x6e, 0x97, 0xba, 0xb9, 0xda, 0xf, 0x2b, 0xcd, 0x82, 0x5e, 0xd, 0x93, 0x1b, 0x50, 0x9a, 0xa2, 0xcf, 0x20, 0x2d, 0xb9, 0xbf, 0x1f, 0x33, 0x97, 0xf3, 0xbb, 0x3f, 0x4e, 0xe5, 0x6f, 0xf3, 0x38, 0x50, 0x8, 0x4c, 0x50, 0xec, 0x99, 0x5f, 0xf0, 0x3a, 0xcf, 0x98, 0x3f, 0x37, 0x14, 0x77, 0x37, 0x91, 0xef, 0x1f, 0x66, 0x8d, 0x3a, 0x3e, 0x8b, 0xc7, 0xab, 0xcf, 0x62, 0xa, 0x48, 0x86, 0x9b, 0x38, 0x3b, 0xca, 0x3c, 0x20, 0x68, 0xf7, 0x2b, 0x5b, 0x89, 0xc9, 0x6b, 0xa2, 0xa1, 0x7a, 0x47, 0xb0, 0xa6, 0xcd, 0x2c, 0x2a, 0x8c, 0xc1, 0xce, 0x8a, 0xa4, 0x6d, 0xa6, 0xf0, 0xa9, 0x9f, 0xa1, 0x1, 0x96, 0x38, 0x91, 0x8a, 0x6c, 0x80, 0xc9, 0xb3, 0x92, 0x61, 0xb9, 0xf4, 0xbd, 0x5b, 0x5e, 0xbc, 0x9d, 0x81, 0xc6, 0xdc, 0xa5, 0x38, 0x65, 0x59, 0x7a, 0x8a, 0x9e, 0xd1, 0xc8, 0xdf, 0xf5, 0x6b, 0xc8, 0x8b, 0x15, 0x69, 0xd8, 0x6c, 0xe7, 0x65, 0x61, 0x71, 0x5, 0x49, 0x2d, 0x33, 0xc2, 0x66, 0xa6, 0x3c, 0x9d, 0x89, 0x68, 0x7f, 0x91, 0xa6, 0x1c, 0x31, 0x5, 0x8b, 0x86, 0x3c, 0x2, 0x2d, 0xa0, 0xaf, 0xd4, 0x1b, 0x42, 0xd2, 0x68, 0xe, 0x73, 0x44, 0x12, 0x54, 0x74, 0x63, 0x52, 0x9, 0xe7, 0xbb, 0x80, 0x81, 0xde, 0x15, 0x17, 0x2e, 0x8c, 0xb3, 0xe2, 0xb4, 0x42, 0x68, 0x8c, 0x3a, 0xb, 0x5e, 0x46, 0x2, 0x54, 0x61, 0x24, 0x7d, 0xa8, 0x85, 0x29, 0x46, 0x33, 0x7f, 0x61, 0x3e, 0x30, 0x57, 0x53, 0x6b, 0xca, 0xe6, 0xa0, 0x9, 0xea, 0x1b, 0xe7, 0xe5, 0xe0, 0xbb, 0x72, 0xa2, 0x72, 0xd8, 0xf6, 0x2e, 0x11, 0xf6, 0xc3, 0xe6, 0x48, 0xdd, 0x4b, 0xf3, 0xc2, 0x3b, 0x8a, 0xed, 0xdd, 0x9e, 0xad, 0x74, 0xf8, 0x16, 0x3d, 0xe4, 0xee, 0xe, 0x5c, 0x7, 0xba, 0xa2, 0xa9, 0x81, 0x45, 0x64, 0xfb, 0x56, 0x55, 0x8c, 0x2, 0x87, 0x1d, 0x7e, 0xd9, 0x2e, 0x4, 0x1d, 0xc6, 0x60, 0x71, 0x8b, 0x80, 0x37, 0x2b, 0x48, 0x8, 0x17, 0xc7, 0x95, 0x7d, 0xe7, 0x99, 0x55, 0xd, 0xdb, 0x51, 0x4, 0x82, 0x29, 0xf0, 0x5f, 0x5d, 0xb4, 0x66, 0x3e, 0xd1, 0xef, 0xd2, 0x4b, 0x76, 0x91, 0x9b, 0xb5, 0xcb, 0x71, 0x19, 0x29, 0x3e, 0x6a, 0x20, 0xa, 0xf, 0x8d, 0x8, 0x19, 0x18, 0x97, 0xd3, 0x23, 0x37, 0x85, 0x28, 0xa1, 0x9d, 0xa5, 0x8a, 0x78, 0x7c, 0xa7, 0x34, 0x32, 0x71, 0xb5, 0x45, 0x38, 0xc1, 0x4f, 0x77, 0x99, 0x89, 0x4a, 0x5e, 0x98, 0x50, 0x44, 0x23, 0x65, 0xd7, 0xde, 0x24, 0x2f, 0x22, 0x85, 0xf5, 0x1b, 0xd9, 0xda, 0x80, 0x6f, 0x19, 0x2c, 0xbc, 0x31, 0x54, 0x36, 0x43, 0x1a, 0x25, 0xcd, 0x8f, 0x19, 0x15, 0x47, 0xbd, 0x90, 0x3a, 0xc7, 0x8f, 0xfa, 0xa9, 0xda, 0x75, 0x6e, 0xd1, 0x77, 0xb9, 0xe1, 0x3a, 0xe4, 0xe6, 0x81, 0xce, 0xbd, 0x4f, 0x1b, 0x6b, 0x67, 0x1d, 0xf6, 0xb2, 0x9e, 0x7f, 0xbb, 0xb7, 0x99, 0xbf, 0xd7, 0x50, 0x81, 0xd7, 0xe4, 0xeb, 0xd6, 0x58, 0x5a, 0xae, 0xce, 0xa6, 0x1a, 0x6f, 0x83, 0x68, 0xca, 0xb2, 0x54, 0x60, 0x58, 0xf0, 0x51, 0xc2, 0x57, 0xa1, 0xde, 0x8a, 0x42, 0x75, 0xd3, 0xb6, 0xa0, 0x88, 0x7c, 0x83, 0x2c, 0x1c, 0xa8, 0x95, 0x62, 0x41, 0x3d, 0xa0, 0xbd, 0x51, 0xef, 0xbc, 0xa6, 0x63, 0xd7, 0xeb, 0xd1, 0x38, 0x8d, 0xdd, 0x8b, 0xdb, 0x89, 0x83, 0xb6, 0xe8, 0x1f, 0xdd, 0xa7, 0xc2, 0xc5, 0x38, 0xbc, 0xf2, 0x30, 0x80, 0x3b, 0xa7, 0x4e, 0x2, 0xd1, 0x82, 0x95, 0xd3, 0xe1, 0x7c, 0xf2, 0xf, 0xd5, 0xf0, 0x6e, 0xf8, 0x1, 0xfe, 0x8b, 0x3, 0xf4, 0xf6, 0xea, 0x14, 0xac, 0x4b, 0xd, 0x77, 0x4f, 0xf8, 0xfb, 0x10, 0x25, 0xf0, 0xfe, 0x50, 0xf8, 0x10, 0xe6, 0x80, 0x30, 0x67, 0xaf, 0x99, 0x99, 0x60, 0x26, 0x53, 0x26, 0x1f, 0xec, 0xb, 0xfc, 0x91, 0x5b, 0x2c, 0xf, 0xf3, 0x6, 0x52, 0xee, 0x91, 0x2c, 0x11, 0x75, 0x63, 0x7c, 0x66, 0x25, 0x66, 0xdc, 0x58, 0x6f, 0x42, 0x93, 0x18, 0xc9, 0xef, 0x80, 0x26, 0x64, 0x52, 0x5b, 0xb9, 0xab, 0x87, 0x9d, 0xd4, 0xea, 0xc1, 0x4, 0x5c, 0x49, 0xe6, 0xdf, 0xb, 0xbe, 0x56, 0xf3, 0xe1, 0x25, 0x5, 0x60, 0xa2, 0x3d, 0x28, 0xdb, 0x99, 0x62, 0x6b, 0x9f, 0xde, 0x9a, 0x63, 0x57, 0x79, 0x12, 0xee, 0x39, 0xcb, 0x17, 0x52, 0x59, 0xe1, 0x4c, 0xe5, 0x82, 0xd8, 0xd0, 0x86, 0xbf, 0xc, 0xac, 0x2b, 0xdf, 0x50, 0xb5, 0xd6, 0x13, 0x4b, 0x72, 0x27, 0x1d, 0x1f, 0xb8, 0xb9, 0xa, 0xf6, 0xac, 0x3a, 0x8b, 0x48, 0x43, 0xb1, 0xb1, 0x58, 0x27, 0xa3, 0x8b, 0x7a, 0x45, 0xbc, 0x8a, 0x8e, 0xa7, 0xc6, 0x88, 0x3f, 0x7a, 0x85, 0xf6, 0xc, 0x9c, 0x2, 0xf3, 0x21, 0x88, 0xc4, 0x4a, 0x46, 0x70, 0xf5, 0xb1, 0xca, 0x55, 0x5e, 0xd1, 0xa8, 0x87, 0xce, 0x68, 0x3f, 0xfa, 0x10, 0x24, 0x39, 0xae, 0x14, 0x18, 0x39, 0xc0, 0x5d, 0x50, 0xeb, 0x83, 0xcf, 0xdc, 0x2e, 0x15, 0xa7, 0x10, 0x26, 0xc6, 0x34, 0xf7, 0x84, 0xdb, 0xb7, 0x95, 0x44, 0x35, 0xdf, 0x16, 0xce, 0x74, 0x38, 0xc8, 0xe8, 0x4d, 0x8, 0xe, 0xc, 0xd1, 0x3c, 0x55, 0x2d, 0x1b, 0xef, 0x7e, 0xad, 0x7b, 0xd6, 0x8d, 0x96, 0x1a, 0x9b, 0xb2, 0xcd, 0x2e, 0x93, 0xd7, 0x1a, 0x7e, 0x15, 0x61, 0xa0, 0x30, 0xbd, 0xb7, 0x4b, 0x95, 0x32, 0xc8, 0x83, 0x2b, 0x17, 0xc, 0xe9, 0x8e, 0x97, 0x63, 0xa7, 0x31, 0xb1, 0xad, 0xdc, 0x86, 0x6c, 0xc4, 0xeb, 0x77, 0x7c, 0xbf, 0xd1, 0xe6, 0x7f, 0xef, 0x87, 0x1f, 0xbb, 0x8, 0xa5, 0x2d, 0xd8, 0x65, 0x93, 0x4, 0x48, 0x4a, 0x4b, 0x43, 0x30, 0xad, 0xd5, 0xcd, 0xd5, 0xe8, 0xd, 0x8b, 0x57, 0x3c, 0xb, 0xee, 0x63, 0xec, 0x5c, 0xc, 0x3, 0xc4, 0xcb, 0x59, 0x89, 0x22, 0xd3, 0xa2, 0x3b, 0xf8, 0x79, 0x2e, 0xf, 0x1b, 0x11, 0xfd, 0x24, 0xdf, 0x1f, 0xe0, 0xe6, 0x9, 0x14, 0xc6, 0xa8, 0x54, 0x4, 0xa, 0xca, 0xfa, 0x18, 0x99, 0xca, 0xfb, 0x5f, 0x20, 0xf2, 0xf1, 0x98, 0xe4, 0x18, 0x6, 0xfb, 0x2c, 0x44, 0xa, 0xf5, 0xfd, 0x74, 0xf8, 0xe1, 0xda, 0xf, 0x27, 0x6, 0x43, 0xf4, 0x54, 0x67, 0x11, 0xfd, 0x4b, 0xf3, 0xb5, 0x4a, 0x33, 0x61, 0xc3, 0xb6, 0xa2, 0x89, 0xac, 0x96, 0xa3, 0x2f, 0x1a, 0x76, 0x5b, 0x7f, 0xa7, 0x8c, 0x8e, 0x21, 0x9f, 0x2b, 0xd8, 0x5f, 0x31, 0xa8, 0x24, 0xcf, 0xe5, 0xa9, 0xbe, 0x79, 0x4e, 0xf4, 0xcf, 0xa, 0x24, 0xaf, 0xea, 0xca, 0x97, 0xb5, 0x62, 0xa8, 0xc0, 0xc1, 0x3b, 0x1a, 0x9f, 0x21, 0xe7, 0x8b, 0x50, 0xa5, 0x47, 0x6a, 0x5c, 0x5d, 0x30, 0x6f, 0x2c, 0x3f, 0xc4, 0xaa, 0x14, 0x9d, 0x61, 0xd, 0xdc, 0x9a, 0xc7, 0x4a, 0xb2, 0xa, 0xa1, 0x6a, 0xfb, 0xd2, 0x20, 0xdd, 0x98, 0x2c, 0xa8, 0x98, 0xf0, 0xec, 0xe2, 0x65, 0x13, 0x94, 0x49, 0x84, 0x93, 0xf, 0xde, 0x21, 0x3f, 0xa4, 0xfe, 0xa5, 0x37, 0xae, 0x65, 0x4c, 0xde, 0x9f, 0x56, 0xf5, 0xce, 0xc6, 0x65, 0x71, 0xf, 0x72, 0x5f, 0xc1, 0x1b, 0x75, 0xac, 0xff, 0xb8, 0xa2, 0xf0, 0xad, 0x2e, 0xde, 0xa3, 0xce, 0xbd, 0xc4, 0x95, 0x4f, 0xbf, 0x87, 0x36, 0x41, 0x3a, 0xa1, 0x91, 0x33, 0x31, 0xe0, 0x35, 0x35, 0x76, 0xb, 0xf3, 0xd9, 0xf0, 0x0, 0x52, 0x6, 0x71, 0xe1, 0xb, 0x31, 0x9d, 0xaa, 0xbb, 0xbd, 0x69, 0x4c, 0x6e, 0x3e, 0xda, 0xb0, 0x7d, 0x7e, 0xbe, 0xb7, 0x7, 0x38, 0x9, 0x21, 0xbc, 0xd8, 0x98, 0xc2, 0xb9, 0xf, 0xc2, 0x7f, 0xb, 0x28, 0x48, 0xfb, 0x5b, 0xa4, 0xa7, 0x19, 0x8d, 0xe6, 0x72, 0x7e, 0xd6, 0x54, 0xd9, 0x97, 0x96, 0x5d, 0x51, 0x69, 0xd1, 0x1d, 0xa2, 0xf8, 0x3e, 0xa8, 0x26, 0xb6, 0x79, 0x44, 0xf8, 0x83, 0xcf, 0x57, 0xdf, 0x3f, 0x93, 0x2c, 0x9a, 0x1b, 0x73, 0x80, 0xe3, 0xc4, 0x5d, 0x3f, 0x5e, 0x70, 0xa3, 0xfc, 0x26, 0xf6, 0x57, 0x33, 0x8f, 0x2b, 0xbc, 0xc8, 0xa7, 0x7, 0x69, 0x14, 0xfa, 0x78, 0xad, 0x5d, 0xc7, 0xeb, 0x10, 0xcc, 0xb3, 0xc3, 0x3a, 0xaf, 0xe0, 0xb7, 0x20, 0x90, 0xd, 0xc3, 0xe4, 0xf7, 0x2c, 0xa3, 0x71, 0xa, 0x4, 0x4, 0x27, 0xb8, 0xf, 0x93, 0xf6, 0x54, 0x5, 0xcd, 0x32, 0x28, 0x78, 0x7e, 0x8c, 0x59, 0xfd, 0x64, 0x15, 0xfb, 0xa, 0x7, 0xdc, 0x18, 0x3e, 0x62, 0x4e, 0x22, 0xe1, 0xec, 0x34, 0x18, 0x7a, 0x8b, 0xd0, 0x7f, 0x71, 0x6e, 0x25, 0x7c, 0x6, 0xe7, 0x30, 0x5d, 0x1b, 0xd8, 0xe3, 0xf8, 0x62, 0x12, 0x50, 0xc2, 0x62, 0x7f, 0xb4, 0x4d, 0x96, 0x32, 0xd4, 0xe2, 0x68, 0x70, 0x52, 0x6a, 0x2d, 0xd4, 0x98, 0xa2, 0xb8, 0x71, 0x46, 0x83, 0xc5, 0xec, 0xb0, 0x14, 0x26, 0x26, 0x56, 0x52, 0x67, 0x7a, 0x77, 0xd4, 0x62, 0x5a, 0x3f, 0xa4, 0xd3, 0x39, 0xe8, 0xe6, 0xe1, 0xc9, 0xb3, 0x53, 0x89, 0x12, 0x43, 0xc, 0x26, 0xcd, 0xd5, 0xc7, 0x7d, 0xc3, 0xcb, 0xbc, 0x62, 0xfc, 0xa7, 0x54, 0x61, 0xd9, 0x95, 0xec, 0xc2, 0xb7, 0x34, 0x7c, 0x91, 0xa0, 0xe6, 0xc7, 0x38, 0x68, 0x35, 0xb1, 0xeb, 0xc5, 0xcb, 0x33, 0xa2, 0x96, 0x64, 0x4e, 0x31, 0xda, 0xd6, 0xd7, 0xe4, 0x3c, 0xc7, 0xc7, 0xae, 0x82, 0xbe, 0xd3, 0xe5, 0xaa, 0x8b, 0x39, 0x30, 0x35, 0xc8, 0xa2, 0x7c, 0xc, 0xcc, 0xd4, 0x88, 0x8e, 0x8e, 0x5d, 0xcc, 0x67, 0xc3, 0x94, 0x6e, 0x1, 0x39, 0xa5, 0xea, 0xd, 0x76, 0x73, 0xab, 0x9a, 0x4b, 0x55, 0x7d, 0x2a, 0x22, 0x76, 0x86, 0x81, 0xaf, 0xaf, 0x8a, 0x23, 0xdd, 0x45, 0x53, 0x73, 0xfd, 0x36, 0x76, 0xaf, 0x1e, 0x96, 0x93, 0x81, 0x15, 0xdf, 0xa3, 0xb4, 0xd7, 0xca, 0x64, 0x8e, 0x5b, 0x7f, 0xc0, 0x72, 0xe0, 0xd5, 0x8f, 0xc8, 0x6a, 0x90, 0xe4, 0x9b, 0x4a, 0x92, 0x61, 0x6a, 0x14, 0x8c, 0xad, 0x33, 0x2f, 0xb5, 0xb0, 0x71, 0x94, 0xec, 0x79, 0xdc, 0x9f, 0xf0, 0xb4, 0x84, 0x7f, 0x97, 0x30, 0x2f, 0x8a, 0x6d, 0xf1, 0x68, 0x60, 0xc4, 0xb0, 0x40, 0xd2, 0x36, 0xd4, 0x5e, 0xb7, 0xb4, 0x3a, 0x5a, 0x62, 0x9, 0x27, 0x81, 0x92, 0x4, 0x72, 0x6c, 0x50, 0x89, 0xb9, 0xcd, 0xd3, 0x42, 0xdb, 0x51, 0x93, 0x75, 0x72, 0xf7, 0xa9, 0xd8, 0x3d, 0x4, 0x27, 0xd0, 0x4f, 0xf6, 0x4d, 0x35, 0x68, 0xa9, 0x63, 0xdf, 0x4b, 0xa4, 0x73, 0x11, 0x7b, 0x68, 0xe0, 0xa6, 0x34, 0x1, 0x3f, 0xa, 0x69, 0x8b, 0x44, 0x77, 0xd0, 0xd4, 0x19, 0x70, 0xf5, 0x96, 0xc, 0xed, 0x55, 0xfc, 0x6a, 0x8d, 0x1e, 0xf4, 0xcc, 0x7e, 0xa6, 0xb9, 0xfd, 0xe8, 0x7, 0x1e, 0x4f, 0xdc, 0xaa, 0xfa, 0xd3, 0xcb, 0x66, 0x3c, 0xd5, 0xfc, 0xfa, 0x27, 0xd6, 0xfc, 0x27, 0x48, 0x31, 0x6a, 0x43, 0xb2, 0x59, 0x5b, 0xc3, 0xe4, 0x3a, 0x29, 0x9e, 0xc0, 0x30, 0x40, 0x2c, 0xd5, 0xcc, 0x8f, 0x71, 0x8f, 0x98, 0x17, 0x65, 0x84, 0x64, 0xf9, 0xd3, 0xef, 0xcc, 0xe1, 0xe4, 0xae, 0xb4, 0xf9, 0x98, 0x77, 0x4e, 0x21, 0xc9, 0x5a, 0xb0, 0x3d, 0xfa, 0xe5, 0x1e, 0x20, 0xa, 0x73, 0x46, 0x38, 0x3e, 0x49, 0x86, 0x5, 0x1b, 0x85, 0xd8, 0x20, 0xba, 0x4f, 0xcb, 0xb0, 0x26, 0x76, 0x53, 0xa4, 0xda, 0x95, 0x62, 0x4b, 0x26, 0x6e, 0x7a, 0x1a, 0x25, 0xb6, 0x70, 0x82, 0x20, 0x56, 0xc6, 0xd4, 0x2e, 0x7f, 0x29, 0xc8, 0x8f, 0xd, 0xd9, 0x89, 0x70, 0x98, 0x24, 0x9e, 0x6a, 0x34, 0x2e, 0xf7, 0x91, 0xa1, 0x15, 0xf, 0x65, 0x13, 0x72, 0x4f, 0x78, 0xd5, 0xd0, 0x1, 0xa4, 0xee, 0x68, 0xe, 0xaf, 0x51, 0x58, 0x38, 0xa0, 0x2d, 0xa0, 0xf, 0x2f, 0xad, 0xac, 0x7d, 0xfd, 0x57, 0xba, 0x8a, 0x6f, 0x1, 0xa4, 0xbb, 0x8c, 0xba, 0x41, 0xe0, 0xc5, 0xe2, 0x5c, 0x62, 0x7c, 0x15, 0xf5, 0x7c, 0x23, 0x64, 0x7a, 0x5e, 0x59, 0xe8, 0xab, 0x78, 0x3d, 0xfb, 0x72, 0x61, 0x23, 0xc8, 0x9, 0xb6, 0xd1, 0x77, 0xd6, 0x10, 0x7a, 0x49, 0x85, 0x54, 0x20, 0xbc, 0xee, 0x96, 0x70, 0xaa, 0xbf, 0x8a, 0xc2, 0x90, 0x36, 0x89, 0xf3, 0x5d, 0x9c, 0x51, 0x8e, 0x94, 0x5f, 0xad, 0x21, 0x9a, 0x19, 0x6d, 0x76, 0x78, 0x36, 0xd4, 0xe6, 0x4d, 0x2a, 0x75, 0xa9, 0x69, 0x6d, 0x25, 0x63, 0x40, 0x32, 0x79, 0x9a, 0x3e, 0xc4, 0xd5, 0x8e, 0x54, 0x59, 0xaa, 0xa1, 0xcf, 0x6, 0xda, 0xe1, 0x77, 0x67, 0xcb, 0x84, 0x6d, 0x11, 0xf2, 0x7f, 0x36, 0x30, 0x4, 0x6f, 0x47, 0x4f, 0xe3, 0x89, 0xe7, 0xd4, 0x5d, 0xa0, 0xc4, 0x10, 0x57, 0x58, 0xd3, 0x5b, 0x79, 0x26, 0xe0, 0xda, 0x10, 0x86, 0x5, 0xd3, 0x79, 0xc5, 0x63, 0x52, 0x1a, 0xa5, 0x6, 0x51, 0x7, 0xa8, 0xf0, 0x4c, 0x67, 0xf0, 0xac, 0xbe, 0x8f, 0x6d, 0xb8, 0x2d, 0xea, 0x76, 0xf7, 0xc0, 0x12, 0xfe, 0xed, 0x90, 0x16, 0xe3, 0xf4, 0x7, 0x9e, 0x93, 0x5f, 0xdb, 0x1a, 0xf7, 0xb4, 0x4d, 0x58, 0x38, 0xfe, 0xa7, 0xf8, 0xb6, 0x57, 0x51, 0x22, 0x18, 0xef, 0xa5, 0xf2, 0x3f, 0xe5, 0x39, 0x12, 0x55, 0x82, 0x88, 0xdf, 0x96, 0x1b, 0xa8, 0x89, 0xe0, 0xd0, 0xf9, 0x53, 0xf7, 0x5, 0x94, 0xaf, 0x39, 0xce, 0xac, 0x6c, 0xd4, 0xef, 0xc2, 0xba, 0x2a, 0x40, 0xb, 0x29, 0x29, 0x9b, 0x6, 0xa6, 0x13, 0x18, 0x37, 0xc7, 0x40, 0x4d, 0x3e, 0xf3, 0xbd, 0x8a, 0x96, 0x9a, 0x3a, 0x9d, 0xe0, 0x49, 0x5, 0x53, 0x39, 0x79, 0x44, 0x62, 0x9e, 0x94, 0x4b, 0x4a, 0x13, 0x2b, 0x82, 0x5b, 0x76, 0x6b, 0x97, 0x3a, 0x3c, 0x39, 0x8a, 0x3f, 0x47, 0xf0, 0x7a, 0x1e, 0xdf, 0x77, 0x8c, 0xa9, 0x4a, 0x45, 0xb3, 0xaa, 0x12, 0xfe, 0x2c, 0x81, 0x5b, 0x60, 0xd, 0x31, 0xf8, 0x64, 0x83, 0x3b, 0xa8, 0x28, 0x3, 0x3c, 0x9b, 0x7, 0x2c, 0x63, 0x6d, 0x65, 0xf5, 0xd9, 0x81, 0xe1, 0xa2, 0xb2, 0xa3, 0x1, 0x47, 0xa9, 0xa1, 0xaa, 0x29, 0x84, 0xa, 0x43, 0x2e, 0xb4, 0x24, 0xae, 0xdc, 0x81, 0xf3, 0xec, 0xae, 0x79, 0xbd, 0x14, 0x7d, 0x7, 0x5e, 0x47, 0x70, 0x99, 0x73, 0x64, 0x1e, 0x82, 0xa8, 0x15, 0xa2, 0x3c, 0x8f, 0x30, 0x9, 0xe, 0x79, 0xa8, 0x5e, 0x7a, 0xbb, 0xc4, 0x8c, 0x94, 0x65, 0x49, 0x41, 0xe, 0x5b, 0x8a, 0x44, 0x15, 0x34, 0x75, 0x2b, 0xc4, 0x89, 0x92, 0x65, 0x33, 0xf0, 0xad, 0x7f, 0x12, 0x91, 0xa0, 0x26, 0x96, 0x62, 0xc5, 0xf, 0x52, 0x6b, 0x3a, 0xd5, 0x7e, 0x43, 0x77, 0x9d, 0x1d, 0xa7, 0x6f, 0xbd, 0x4a, 0xc2, 0xd2, 0xf4, 0xcf, 0xeb, 0xf, 0x26, 0x33, 0x84, 0x2f, 0xa8, 0x27, 0x2f, 0x98, 0x9a, 0xcd, 0xcb, 0x22, 0x80, 0x88, 0xee, 0xe6, 0x8f, 0x6c, 0x79, 0x63, 0x3e, 0x5a, 0x56, 0xb1, 0x2d, 0xa0, 0x34, 0xb3, 0xdf, 0xcc, 0x28, 0x9c, 0x6d, 0xa7, 0x4, 0x4f, 0x42, 0x78, 0xf9, 0xd7, 0x48, 0x3d, 0x4a, 0x1, 0x18, 0x86, 0xaf, 0x6d, 0xfa, 0xa2, 0xc, 0x1f, 0x9e, 0x28, 0x4, 0xa0, 0x2, 0xc7, 0xfd, 0x54, 0x9c, 0x2f, 0xe9, 0x9, 0xb3, 0x6b, 0xb2, 0x40, 0xee, 0xc1, 0xea, 0xa8, 0x88, 0x4c, 0xc5, 0x9b, 0x66, 0x4a, 0x18, 0xdf, 0x17, 0xd5, 0xba, 0x70, 0x34, 0xbe, 0x3d, 0xb9, 0x8a, 0x69, 0x9d, 0x2e, 0x86, 0x53, 0x16, 0x8d, 0x73, 0xe9, 0xe1, 0x3b, 0xdd, 0x77, 0x58, 0x80, 0x46, 0x13, 0xc9, 0xb, 0xac, 0x9c, 0x6, 0xd3, 0x2e, 0xd2, 0x12, 0xdf, 0xea, 0x32, 0x75, 0xe0, 0xf, 0x12, 0xf9, 0x91, 0x89, 0x46, 0x2c, 0xde, 0x9d, 0x87, 0xbb, 0xec, 0x50, 0xe0, 0x76, 0xb2, 0x7c, 0x8d, 0x6f, 0xc6, 0x4f, 0xbd, 0x68, 0x6c, 0xc5, 0x75, 0xd1, 0xb4, 0x47, 0x42, 0x3e, 0xdc, 0xb6, 0x61, 0xf3, 0x2c, 0xa, 0x1c, 0xec, 0xca, 0x8, 0x13, 0x33, 0x2c, 0xa6, 0x3d, 0x8f, 0x1d, 0xab, 0x65, 0x9c, 0xa9, 0x11, 0x80, 0x6e, 0xfa, 0x6a, 0x38, 0x94, 0x5, 0x84, 0xcb, 0x93, 0xc5, 0xfb, 0xd9, 0x44, 0x6c, 0xab, 0x35, 0xab, 0xbd, 0x26, 0x77, 0x47, 0x35, 0x96, 0x59, 0xc8, 0x16, 0x61, 0x6d, 0xf3, 0x43, 0xac, 0x75, 0x5d, 0xc8, 0xae, 0x70, 0x30, 0x9e, 0x7, 0x85, 0x37, 0x70, 0xcf, 0xa5, 0xaa, 0xfb, 0x3f, 0x81, 0x15, 0xd0, 0x98, 0xe6, 0x31, 0x6f, 0xd4, 0x8f, 0xc3, 0xbd, 0xcc, 0x26, 0x37, 0x70, 0x79, 0xbb, 0xaf, 0xe2, 0x71, 0x9, 0x7a, 0xd9, 0xea, 0x79, 0xb6, 0xa0, 0x34, 0xc3, 0x81, 0x32, 0x98, 0x99, 0x2c, 0x77, 0x16, 0x3a, 0x91, 0xb1, 0x84, 0x5c, 0xf4, 0x42, 0x72, 0xe1, 0xed, 0x94, 0x98, 0x8c, 0x51, 0x8b, 0xa0, 0x4d, 0xca, 0x95, 0x6d, 0x4, 0x1b, 0xe2, 0x9f, 0x84, 0xdb, 0x8e, 0x9b, 0xc9, 0xf0, 0x38, 0xee, 0x54, 0xc1, 0x33, 0x6a, 0xe8, 0x45, 0x18, 0x7a, 0x57, 0x22, 0x68, 0x38, 0xba, 0x62, 0x58, 0xa0, 0x95, 0xe4, 0x70, 0x6c, 0x5a, 0xac, 0x68, 0x76, 0x5d, 0x95, 0x4e, 0x8a, 0x20, 0xa9, 0x64, 0x73, 0x30, 0x4f, 0xdb, 0xf, 0x19, 0xc7, 0x9b, 0x7b, 0x4d, 0x69, 0xec, 0x11, 0xcb, 0x50, 0x3f, 0x54, 0x38, 0x67, 0xe3, 0x97, 0x11, 0xef, 0x3d, 0x68, 0x17, 0x8f, 0x71, 0x9d, 0xa1, 0x26, 0x76, 0x7a, 0xa2, 0x5a, 0x23, 0xa6, 0x8, 0x27, 0x40, 0xd, 0xfd, 0xdc, 0x83, 0x6c, 0xb0, 0x63, 0x3a, 0xf5, 0xec, 0x10, 0x11, 0xf6, 0xe6, 0x29, 0xc1, 0x18, 0x3a, 0x6a, 0xad, 0xf9, 0x38, 0xf5, 0x24, 0x22, 0xd9, 0xa, 0x30, 0xb8, 0xcb, 0x10, 0x37, 0x3d, 0x8a, 0xd7, 0xb0, 0x91, 0xab, 0x37, 0xb4, 0x4d, 0xae, 0x6e, 0xb0, 0x22, 0xe4, 0x4e, 0x7a, 0x45, 0x85, 0xe3, 0x1b, 0xa7, 0x26, 0xbb, 0x53, 0x63, 0x48, 0x86, 0xf6, 0x1b, 0x6, 0x22, 0xf2, 0xd7, 0xd7, 0x47, 0xdc, 0x88, 0xaa, 0xc5, 0x96, 0x8f, 0x63, 0x97, 0x9f, 0x1f, 0xbd, 0x51, 0xfb, 0x14, 0xdd, 0x8f, 0x9e, 0x34, 0x55, 0x17, 0xef, 0x70, 0x22, 0xad, 0xee, 0xf1, 0x6f, 0x4f, 0xb7, 0x24, 0xc2, 0xf0, 0xe1, 0xde, 0xb4, 0xc1, 0x33, 0xbc, 0x7d, 0x8d, 0xcb, 0xb3, 0x3d, 0x87, 0xb8, 0x97, 0x4b, 0x56, 0xa9, 0x31, 0xa3, 0xd9, 0x41, 0xf1, 0x83, 0x24, 0x65, 0x9f, 0x61, 0x82, 0x9f, 0x30, 0x5e, 0x93, 0x9b, 0x3b, 0x90, 0xc4, 0x6d, 0x6d, 0x9d, 0x99, 0x90, 0xeb, 0xc6, 0x2e, 0xb1, 0x60, 0xc7, 0xaa, 0x4a, 0x8e, 0x61, 0x37, 0x97, 0x83, 0x98, 0x1f, 0x2c, 0x1a, 0x82, 0x5b, 0x2f, 0x6f, 0x9d, 0x66, 0x29, 0x65, 0x7a, 0x73, 0x78, 0x3c, 0x8f, 0xb0, 0xb1, 0xaa, 0x2b, 0x75, 0xf, 0x18, 0x72, 0xa7, 0x58, 0x8d, 0x42, 0xa1, 0xc7, 0x70, 0x6b, 0x78, 0xd7, 0x17, 0xbc, 0xac, 0x64, 0xf9, 0x57, 0x48, 0x54, 0x87, 0x6c, 0x45, 0x67, 0xd5, 0xd3, 0x79, 0x2c, 0x5d, 0x97, 0xb6, 0x9b, 0xbd, 0x54, 0x24, 0xd3, 0xf0, 0x83, 0xbc, 0xe0, 0x28, 0x79, 0xc6, 0xa8, 0xc1, 0x31, 0xe7, 0x3e, 0xac, 0xb0, 0xa7, 0xa3, 0xe4, 0x9f, 0x22, 0x88, 0x22, 0x3c, 0xa0, 0xa2, 0x9, 0xed, 0xa9, 0xa6, 0x15, 0xa4, 0xe7, 0xbc, 0xf3, 0x5e, 0xaf, 0xe8, 0xba, 0x94, 0x5f, 0x3e, 0x3b, 0xa4, 0x1d, 0x8, 0x8b, 0xc6, 0x8e, 0x27, 0xf4, 0x26, 0xda, 0xce, 0x78, 0x5, 0x80, 0x85, 0xef, 0x22, 0xf4, 0x7b, 0x67, 0xbf, 0xe, 0x4b, 0x42, 0x58, 0x3a, 0xf8, 0xe2, 0x93, 0xc, 0xdb, 0x89, 0x1c, 0xb0, 0xde, 0x8c, 0xa0, 0x13, 0x47, 0x94, 0x33, 0xfd, 0x7d, 0xe0, 0xf3, 0xf0, 0x5b, 0x42, 0x4, 0xbe, 0x25, 0x1e, 0xef, 0x30, 0x9f, 0xb4, 0x9b, 0xb3, 0xe7, 0x3b, 0xf, 0xee, 0xb1, 0x97, 0xc2, 0x28, 0x20, 0x4b, 0xe9, 0x5a, 0x65, 0xc6, 0x78, 0xce, 0xb4, 0x89, 0x6a, 0x67, 0xac, 0x92, 0x59, 0x37, 0x98, 0x5c, 0x9d, 0x91, 0x28, 0x86, 0x90, 0x6f, 0x3a, 0x7b, 0x98, 0x41, 0x7f, 0x43, 0xbc, 0x4a, 0xec, 0x60, 0x3d, 0x82, 0x27, 0x3b, 0xee, 0x5a, 0x29, 0x32, 0xd5, 0xa6, 0x2d, 0x4d, 0x3c, 0x1e, 0x12, 0x4c, 0xbd, 0x4a, 0xf1, 0x6f, 0xfa, 0x53, 0x11, 0x47, 0xa, 0xe3, 0xe8, 0x8c, 0x9c, 0xf6, 0xc6, 0xae, 0x10, 0x4c, 0xa7, 0x8d, 0xea, 0xa1, 0x58, 0xfa, 0x14, 0xea, 0xce, 0x57, 0xf1, 0xf6, 0x64, 0x35, 0x27, 0xf8, 0xc, 0x6d, 0xdf, 0x20, 0x17, 0x40, 0xee, 0x83, 0x8a, 0x7e, 0xf4, 0xde, 0x4a, 0x5a, 0x96, 0x55, 0xf9, 0x58, 0x91, 0xea, 0x7e, 0x3c, 0xc3, 0x1e, 0xe9, 0x4e, 0x14, 0x19, 0x78, 0xa4, 0x54, 0x6f, 0xcc, 0xc7, 0x70, 0x8c, 0xa5, 0xd6, 0x27, 0x3d, 0x91, 0x50, 0xad, 0x73, 0xb2, 0x79, 0x4e, 0x70, 0x85, 0x77, 0x11, 0xac, 0xec, 0x1e, 0x5b, 0xd5, 0x58, 0x3c, 0xc9, 0x29, 0x88, 0x41, 0x74, 0x6d, 0x6c, 0xf8, 0x1f, 0x61, 0xc3, 0xa2, 0x17, 0xc0, 0xba, 0xd6, 0x57, 0x63, 0xbf, 0x9e, 0x31, 0x8e, 0xcd, 0x6b, 0xc8, 0x3d, 0x1e, 0x61, 0x70, 0x69, 0x6b, 0x62, 0x30, 0xaf, 0x7e, 0x83, 0xe1, 0x4f, 0x71, 0x19, 0xa7, 0x85, 0xd7, 0x2f, 0x4f, 0x3f, 0xcf, 0xea, 0x6f, 0x85, 0xc0, 0x90, 0x7, 0xc9, 0xea, 0x3d, 0x7f, 0x79, 0x4c, 0xb0, 0x70, 0xd7, 0x6, 0x7, 0xd0, 0xe6, 0xb7, 0xc1, 0xf3, 0xa4, 0x41, 0xbd, 0xa, 0xc7, 0xb9, 0x97, 0x36, 0xa4, 0x7b, 0x15, 0x8a, 0x55, 0xea, 0x55, 0xd3, 0xb6, 0x5d, 0x22, 0xf3, 0x37, 0x49, 0x26, 0x54, 0x43, 0x51, 0x42, 0xa1, 0x80, 0x31, 0xb1, 0x67, 0x9b, 0xe9, 0x93, 0x28, 0x70, 0xaf, 0x1d, 0x42, 0xb8, 0x2a, 0x23, 0xcb, 0xe1, 0xf2, 0x9, 0x46, 0xbb, 0x1f, 0xe9, 0xf, 0xc2, 0x33, 0x74, 0x3b, 0xcc, 0xb0, 0x4f, 0xce, 0x7d, 0x8e, 0x4b, 0xb6, 0x93, 0x7, 0x25, 0x1d, 0x3b, 0x11, 0xd9, 0xd4, 0x10, 0x91, 0x8b, 0xce, 0x8c, 0xc0, 0x8b, 0x60, 0x68, 0x62, 0xad, 0xb9, 0xcf, 0x88, 0x5c, 0x50, 0xa1, 0xc3, 0xca, 0x3a, 0x53, 0x7c, 0x93, 0xb7, 0x43, 0x5e, 0x84, 0x89, 0x62, 0x5d, 0x82, 0x6d, 0x71, 0x6f, 0xcb, 0x8b, 0xa9, 0x91, 0x57, 0x95, 0x60, 0x73, 0x2d, 0x44, 0x7d, 0x96, 0x52, 0xbe, 0x82, 0x77, 0x62, 0xb4, 0x6d, 0x9, 0xdf, 0x8d, 0xf, 0xf7, 0x67, 0x3e, 0xb3, 0xab, 0x1f, 0x16, 0xf6, 0xf2, 0xf5, 0x4a, 0x6, 0xfa, 0xe1, 0x8c, 0xf0, 0x68, 0xd7, 0xf4, 0xeb, 0x3b, 0x55, 0xc2, 0x23, 0xd8, 0x9, 0xfe, 0x7e, 0x72, 0xec, 0x32, 0x63, 0xf2, 0x13, 0xda, 0xcf, 0xfa, 0xf, 0xde, 0xfb, 0xfa, 0xfb, 0xf4, 0x73, 0x1d, 0xd9, 0xe9, 0xf0, 0x27, 0x2c, 0xd5, 0xd9, 0xc, 0xbc, 0xee, 0x47, 0xc, 0xe4, 0x8, 0x27, 0xf6, 0x69, 0xfa, 0x97, 0x12, 0x3, 0x15, 0x25, 0xfa, 0xc8, 0xd2, 0xd3, 0x25, 0x53, 0x52, 0x1c, 0xbc, 0x72, 0xf9, 0xd, 0x49, 0xd9, 0x55, 0xee, 0xbf, 0xfc, 0xfd, 0xfa, 0x73, 0xf6, 0x8a, 0x25, 0xe4, 0xdd, 0xde, 0x7e, 0x5, 0x9d, 0x4f, 0x1b, 0xd, 0x1c, 0x7a, 0xc5, 0x94, 0x78, 0x6d, 0xb6, 0xfb, 0xd8, 0xb4, 0xca, 0xfa, 0x53, 0xfd, 0x7, 0x6c, 0x3, 0x8d, 0xfb, 0xfd, 0x2f, 0xd, 0x25, 0xe3, 0x3a, 0x8c, 0xec, 0x50, 0x27, 0x5f, 0xe0, 0xa3, 0xdc, 0xf1, 0x42, 0xf4, 0x2e, 0xf5, 0x4f, 0xfa, 0x63, 0x23, 0x1a, 0xe7, 0xc, 0xf2, 0xee, 0xf6, 0xf7, 0xb6, 0x56, 0xf5, 0xc9, 0x85, 0x8c, 0x46, 0xf0, 0xa2, 0x18, 0x3e, 0x51, 0x1e, 0xf9, 0x2c, 0x54, 0xd, 0x81, 0xb9, 0xf4, 0xf3, 0x2, 0xde, 0x87, 0x92, 0xf1, 0x15, 0x62, 0x8, 0x50, 0x50, 0x94, 0xb4, 0x66, 0x42, 0x6d, 0x1a, 0xc9, 0x68, 0xee, 0xfb, 0x39, 0x7c, 0xf3, 0xa7, 0xf1, 0x2f, 0x69, 0x9f, 0xe7, 0xa9, 0xc7, 0x26, 0x6f, 0x24, 0x6, 0x26, 0xd, 0x94, 0xf, 0xaf, 0x30, 0xba, 0x3e, 0xb, 0x25, 0x2e, 0xc5, 0x82, 0x8c, 0x28, 0xfd, 0x21, 0x6b, 0x2f, 0xf, 0x26, 0xb2, 0x97, 0x8c, 0x6c, 0x2a, 0x3f, 0x6, 0xa7, 0xc, 0x57, 0x5e, 0xef, 0x71, 0xc5, 0xf5, 0x3d, 0xe7, 0xfb, 0x65, 0xfd, 0xfa, 0x44, 0x66, 0xa, 0xd, 0x71, 0xe4, 0x22, 0x5a, 0x13, 0x62, 0xd3, 0xb1, 0x4f, 0xe, 0xb3, 0xb9, 0x75, 0x42, 0x4e, 0x9c, 0xbd, 0xd5, 0x80, 0xd7, 0x6f, 0x66, 0x24, 0x6b, 0x73, 0x9f, 0x96, 0x61, 0x7d, 0x67, 0xa1, 0x70, 0x6d, 0x7c, 0x43, 0x9c, 0x86, 0xb5, 0x6a, 0x95, 0x39, 0x3f, 0x96, 0xcb, 0x9a}\n"
          ]
        }
      ]
    },
    {
      "cell_type": "code",
      "source": [
        "bitsPerWeight = sum(h(dist/sum(dist)))\n",
        "KBs = bitsPerWeight * (14*14*hidden_dim) / 8 / 1024\n",
        "print(\"Bits: \", bitsPerWeight, \"KBs: \", KBs)\n",
        "print(\"Compression gain:\", bitsPerWeight / 8)"
      ],
      "metadata": {
        "colab": {
          "base_uri": "https://localhost:8080/"
        },
        "id": "a34XXEEVv2aX",
        "outputId": "1c9c3618-113a-477d-9d47-ecb6131c4ee4"
      },
      "execution_count": 43,
      "outputs": [
        {
          "output_type": "stream",
          "name": "stdout",
          "text": [
            "Bits:  2.851157966864385 KBs:  4.36583563676109\n",
            "Compression gain: 0.35639474585804815\n"
          ]
        }
      ]
    },
    {
      "cell_type": "code",
      "source": [
        "model.l1.Q_b(num_bins - 2).detach().numpy()"
      ],
      "metadata": {
        "colab": {
          "base_uri": "https://localhost:8080/"
        },
        "id": "UV19PlpYt8Q7",
        "outputId": "fc28c575-b7fe-45bc-99fe-400483f725f8"
      },
      "execution_count": 44,
      "outputs": [
        {
          "output_type": "execute_result",
          "data": {
            "text/plain": [
              "array([ 5, -2,  2,  3, -3,  3,  4,  7,  1,  6, -2, -2, -2, -3,  7, -1,  5,\n",
              "        6, -4,  3, -1, -1,  4, -7,  2, -3, -2,  5, -1,  1,  5,  2,  1, -5,\n",
              "       -2,  1, -2,  3, -1, -1,  0, -1, -3,  4,  5,  0,  0, -2,  1,  3,  0,\n",
              "        3,  0,  5,  1, -2,  5,  3, -1,  3,  5,  2,  3,  2], dtype=int8)"
            ]
          },
          "metadata": {},
          "execution_count": 44
        }
      ]
    },
    {
      "cell_type": "code",
      "source": [
        "counts, bins = np.histogram(model.l1.bias.detach().numpy(), bins=num_bins-1)\n",
        "pyplot.stairs(counts, bins)\n",
        "sum(h(counts/sum(counts))) * hidden_dim / 8"
      ],
      "metadata": {
        "colab": {
          "base_uri": "https://localhost:8080/",
          "height": 447
        },
        "id": "SAfD2ssrxD8u",
        "outputId": "f8f1ed27-20a8-4e52-8d12-a7179784f117"
      },
      "execution_count": 45,
      "outputs": [
        {
          "output_type": "execute_result",
          "data": {
            "text/plain": [
              "29.310503960328617"
            ]
          },
          "metadata": {},
          "execution_count": 45
        },
        {
          "output_type": "display_data",
          "data": {
            "text/plain": [
              "<Figure size 640x480 with 1 Axes>"
            ],
            "image/png": "[encoded data removed]"
          },
          "metadata": {}
        }
      ]
    },
    {
      "cell_type": "code",
      "source": [
        "(dist, bitstream) = compress_nparr(model.l2.Q_w(num_bins - 2).detach().numpy(), num_bins-1)"
      ],
      "metadata": {
        "colab": {
          "base_uri": "https://localhost:8080/",
          "height": 482
        },
        "id": "yKsJ-5cluQQC",
        "outputId": "a2719263-7f31-4376-b073-6a7863c4fb0a"
      },
      "execution_count": 46,
      "outputs": [
        {
          "output_type": "stream",
          "name": "stdout",
          "text": [
            "[  8  11  21  34  60  69  69   0 109 118  85  37  13   4   2] 15\n",
            "[ 4  5  9 14 24 28 28  1 43 42 34 15  6  2  1] 15\n",
            "0 13\n"
          ]
        },
        {
          "output_type": "display_data",
          "data": {
            "text/plain": [
              "<Figure size 640x480 with 1 Axes>"
            ],
            "image/png": "[encoded data removed]"
          },
          "metadata": {}
        }
      ]
    },
    {
      "cell_type": "code",
      "source": [
        "print(exportCArray(dist))"
      ],
      "metadata": {
        "colab": {
          "base_uri": "https://localhost:8080/"
        },
        "id": "oxE-7BTFu_4y",
        "outputId": "35a7e5ef-3019-4ef4-d82d-e75c694d7071"
      },
      "execution_count": 47,
      "outputs": [
        {
          "output_type": "stream",
          "name": "stdout",
          "text": [
            "{0x4, 0x5, 0x9, 0xe, 0x18, 0x1c, 0x1c, 0x1, 0x2b, 0x2a, 0x22, 0xf, 0x6, 0x2, 0x1}\n"
          ]
        }
      ]
    },
    {
      "cell_type": "code",
      "source": [
        "len(bitstream)/1024"
      ],
      "metadata": {
        "colab": {
          "base_uri": "https://localhost:8080/"
        },
        "id": "cO58Sm2CudcB",
        "outputId": "fba56eea-7549-46c1-bee2-cb61a8b2e69c"
      },
      "execution_count": 48,
      "outputs": [
        {
          "output_type": "execute_result",
          "data": {
            "text/plain": [
              "0.318359375"
            ]
          },
          "metadata": {},
          "execution_count": 48
        }
      ]
    },
    {
      "cell_type": "code",
      "source": [
        "print(exportCArray(bitstream))"
      ],
      "metadata": {
        "colab": {
          "base_uri": "https://localhost:8080/"
        },
        "id": "byUfT5TIuig2",
        "outputId": "acdca600-589b-4960-c76a-0e65b3cae3ed"
      },
      "execution_count": 49,
      "outputs": [
        {
          "output_type": "stream",
          "name": "stdout",
          "text": [
            "{0x0, 0x2c, 0x1a, 0x72, 0x66, 0xc5, 0x6e, 0x70, 0x8e, 0x40, 0xbe, 0x39, 0x70, 0x70, 0x70, 0xa, 0xe6, 0x8d, 0x70, 0x70, 0xa4, 0x70, 0x70, 0xd, 0x49, 0x9c, 0x68, 0xe8, 0x3, 0x29, 0xf1, 0xfa, 0x22, 0x4f, 0x11, 0x9, 0x70, 0x73, 0x87, 0x42, 0x2d, 0x71, 0xd6, 0x38, 0x70, 0x4c, 0xd9, 0x1e, 0x91, 0x91, 0x80, 0xb0, 0x4f, 0x92, 0x2, 0x4c, 0x21, 0x80, 0x11, 0x53, 0x56, 0x81, 0x70, 0x67, 0x1c, 0x70, 0xb1, 0x55, 0x5e, 0xa6, 0x5, 0x70, 0x70, 0x1c, 0x4f, 0xec, 0xaa, 0x62, 0x91, 0x70, 0xc5, 0xa0, 0x98, 0x70, 0x46, 0x5a, 0xcb, 0x82, 0x6e, 0x70, 0x92, 0x65, 0x94, 0x51, 0x86, 0x70, 0x20, 0x89, 0x70, 0x30, 0xb0, 0x12, 0x70, 0xac, 0x1c, 0x65, 0x70, 0x5e, 0x92, 0xae, 0x89, 0x7f, 0x69, 0x70, 0xd4, 0x8b, 0xe6, 0xad, 0x5, 0x9c, 0x3e, 0x71, 0x3c, 0x21, 0x55, 0x60, 0xe2, 0x15, 0x70, 0x50, 0x4b, 0x28, 0xa5, 0x68, 0x70, 0x9b, 0x70, 0x70, 0x98, 0x69, 0x52, 0x6e, 0x8f, 0x7b, 0x70, 0x70, 0x3f, 0x94, 0x99, 0x3c, 0x98, 0x70, 0x80, 0x9e, 0x19, 0xd3, 0x16, 0x70, 0x70, 0x17, 0x1c, 0x82, 0x70, 0x70, 0x37, 0x6, 0x28, 0x91, 0x3d, 0x81, 0x9, 0x60, 0x70, 0x1c, 0x70, 0x3a, 0x71, 0x86, 0x72, 0x77, 0x72, 0x49, 0x89, 0xa6, 0x6c, 0x29, 0xf1, 0x70, 0xd1, 0x50, 0x44, 0x5, 0xb7, 0x70, 0xaa, 0x9c, 0x9, 0xf0, 0xf, 0x7f, 0x70, 0x6a, 0xaa, 0xa2, 0xe0, 0x18, 0x91, 0xc6, 0x9b, 0x51, 0x63, 0x7e, 0x5f, 0x70, 0x70, 0x9c, 0x27, 0x70, 0x5b, 0x9, 0x70, 0xb3, 0xfe, 0x28, 0x23, 0xed, 0x3, 0x70, 0x5f, 0x70, 0x56, 0x3d, 0xe, 0xb0, 0x99, 0x9a, 0x26, 0x2f, 0xb2, 0xb6, 0x19, 0x20, 0x49, 0xd7, 0x70, 0x49, 0x70, 0x4c, 0x70, 0x70, 0x91, 0x43, 0x68, 0x85, 0xaa, 0x7, 0x32, 0x70, 0x70, 0x4b, 0x80, 0x97, 0x4e, 0x20, 0x85, 0x92, 0x2b, 0x71, 0x70, 0x6e, 0x8c, 0x70, 0x70, 0x70, 0x70, 0xaa, 0x90, 0x58, 0x9d, 0x58, 0xc0, 0x12, 0x24, 0xfe, 0x4c, 0xf7, 0x49, 0xa, 0x70, 0x65, 0xb, 0xa3, 0x70, 0x77, 0x9d, 0xd5, 0x34, 0x70, 0x1a, 0x1, 0x70, 0xa6, 0x63, 0x2c, 0x23, 0x6a, 0x5f, 0x70, 0xa5, 0x70, 0xd4, 0x94, 0x4, 0x71, 0x3c, 0x5b, 0x80, 0x5a, 0x70, 0x50, 0x70, 0xbb, 0x1f, 0x66, 0x5e, 0x8e}\n"
          ]
        }
      ]
    },
    {
      "cell_type": "code",
      "source": [
        "counts, bins = np.histogram(model.l2.weights.detach().numpy(), bins=num_bins-1)\n",
        "pyplot.stairs(counts, bins)\n",
        "sum(h(counts/sum(counts))) * (hidden_dim*10) / 8"
      ],
      "metadata": {
        "colab": {
          "base_uri": "https://localhost:8080/",
          "height": 447
        },
        "id": "lXrbe12YxxdK",
        "outputId": "767266ed-3178-4651-dbea-1781a4453fd8"
      },
      "execution_count": 50,
      "outputs": [
        {
          "output_type": "execute_result",
          "data": {
            "text/plain": [
              "272.3995138010716"
            ]
          },
          "metadata": {},
          "execution_count": 50
        },
        {
          "output_type": "display_data",
          "data": {
            "text/plain": [
              "<Figure size 640x480 with 1 Axes>"
            ],
            "image/png": "[encoded data removed]"
          },
          "metadata": {}
        }
      ]
    },
    {
      "cell_type": "code",
      "source": [
        "model.l2.Q_b(num_bins - 2).detach().numpy()"
      ],
      "metadata": {
        "colab": {
          "base_uri": "https://localhost:8080/"
        },
        "id": "GBPktXmevEFO",
        "outputId": "ee65744c-f73d-43c2-f8ea-4b21912545d0"
      },
      "execution_count": 51,
      "outputs": [
        {
          "output_type": "execute_result",
          "data": {
            "text/plain": [
              "array([-3, -6,  2,  1,  0,  7,  1,  4, -1, -4], dtype=int8)"
            ]
          },
          "metadata": {},
          "execution_count": 51
        }
      ]
    },
    {
      "cell_type": "code",
      "source": [
        "counts, bins = np.histogram(model.l2.bias.detach().numpy(), bins=num_bins)\n",
        "pyplot.stairs(counts, bins)\n",
        "sum(h(counts/sum(counts))) * 10 / 8"
      ],
      "metadata": {
        "colab": {
          "base_uri": "https://localhost:8080/",
          "height": 482
        },
        "id": "F7sLl-1NxuKA",
        "outputId": "d753ebc5-3f47-434e-d735-786f9a7e130c"
      },
      "execution_count": 52,
      "outputs": [
        {
          "output_type": "stream",
          "name": "stderr",
          "text": [
            "<ipython-input-12-b1ed7aafea1d>:14: RuntimeWarning: divide by zero encountered in log2\n",
            "  bits = np.log2(x)\n"
          ]
        },
        {
          "output_type": "execute_result",
          "data": {
            "text/plain": [
              "3.652410118609203"
            ]
          },
          "metadata": {},
          "execution_count": 52
        },
        {
          "output_type": "display_data",
          "data": {
            "text/plain": [
              "<Figure size 640x480 with 1 Axes>"
            ],
            "image/png": "[encoded data removed]"
          },
          "metadata": {}
        }
      ]
    },
    {
      "cell_type": "code",
      "source": [],
      "metadata": {
        "id": "VgMILESJx1U_"
      },
      "execution_count": 52,
      "outputs": []
    }
  ]
}