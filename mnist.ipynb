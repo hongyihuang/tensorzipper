{
 "cells": [
  {
   "cell_type": "code",
   "execution_count": 6,
   "metadata": {},
   "outputs": [],
   "source": [
    "from tqdm import tqdm\n",
    "import torch\n",
    "from torch import nn, optim\n",
    "import torch.nn.functional as F\n",
    "import math\n",
    "from matplotlib import pyplot\n",
    "import numpy as np\n",
    "from numpy import inf\n",
    "\n",
    "from torch.utils.data import TensorDataset\n",
    "from torch.utils.data import DataLoader"
   ]
  },
  {
   "cell_type": "code",
   "execution_count": 7,
   "metadata": {},
   "outputs": [],
   "source": [
    "from pathlib import Path\n",
    "import requests\n",
    "import pickle\n",
    "import struct\n",
    "import gzip\n",
    "import io\n",
    "import time"
   ]
  },
  {
   "cell_type": "code",
   "execution_count": 18,
   "metadata": {},
   "outputs": [],
   "source": [
    "from pysrc import zipper\n",
    "from pysrc import torchQuant\n",
    "from pysrc.nanoTorch import *"
   ]
  },
  {
   "cell_type": "code",
   "execution_count": 8,
   "metadata": {},
   "outputs": [],
   "source": [
    "DATA_PATH = Path(\"data\")\n",
    "PATH = DATA_PATH / \"mnist\"\n",
    "\n",
    "PATH.mkdir(parents=True, exist_ok=True)\n",
    "\n",
    "URL = \"https://github.com/pytorch/tutorials/raw/main/_static/\"\n",
    "FILENAME = \"mnist.pkl.gz\"\n",
    "\n",
    "if not (PATH / FILENAME).exists():\n",
    "        content = requests.get(URL + FILENAME).content\n",
    "        (PATH / FILENAME).open(\"wb\").write(content)\n",
    "\n",
    "with gzip.open((PATH / FILENAME).as_posix(), \"rb\") as f:\n",
    "        ((x_train, y_train), (x_valid, y_valid), _) = pickle.load(f, encoding=\"latin-1\")\n",
    "\n",
    "x_train, y_train, x_valid, y_valid = map(torch.tensor, (x_train, y_train, x_valid, y_valid))\n",
    "\n",
    "m = nn.AvgPool2d(2, stride=2)\n",
    "x_train = m(x_train.reshape((50000, 28, 28))).reshape((50000, 14 * 14))\n",
    "x_valid = m(x_valid.reshape((10000, 28, 28))).reshape((10000, 14 * 14))"
   ]
  },
  {
   "cell_type": "code",
   "execution_count": 9,
   "metadata": {},
   "outputs": [
    {
     "name": "stdout",
     "output_type": "stream",
     "text": [
      "tensor([[0., 0., 0.,  ..., 0., 0., 0.],\n",
      "        [0., 0., 0.,  ..., 0., 0., 0.],\n",
      "        [0., 0., 0.,  ..., 0., 0., 0.],\n",
      "        ...,\n",
      "        [0., 0., 0.,  ..., 0., 0., 0.],\n",
      "        [0., 0., 0.,  ..., 0., 0., 0.],\n",
      "        [0., 0., 0.,  ..., 0., 0., 0.]]) tensor([5, 0, 4,  ..., 8, 4, 8])\n",
      "torch.Size([50000, 196])\n",
      "tensor(0) tensor(9)\n",
      "torch.Size([50000, 196])\n",
      "torch.Size([10000, 196])\n"
     ]
    },
    {
     "data": {
      "image/png": "[encoded data removed]",
      "text/plain": [
       "<Figure size 640x480 with 1 Axes>"
      ]
     },
     "metadata": {},
     "output_type": "display_data"
    }
   ],
   "source": [
    "bs = 64  # batch size\n",
    "\n",
    "n, c = x_train.shape\n",
    "print(x_train, y_train)\n",
    "print(x_train.shape)\n",
    "print(y_train.min(), y_train.max())\n",
    "\n",
    "pyplot.imshow(x_train[0].reshape((round(math.sqrt(c)), round(math.sqrt(c)))), cmap=\"gray\")\n",
    "print(x_train.shape)\n",
    "print(x_valid.shape)"
   ]
  },
  {
   "cell_type": "code",
   "execution_count": 13,
   "metadata": {},
   "outputs": [],
   "source": [
    "x_train = torchQuant.Q_int8(x_train, torch.max(torch.abs(x_train))/(16-1), 0)\n",
    "x_valid = torchQuant.Q_int8(x_valid, torch.max(torch.abs(x_valid))/(16-1), 0)"
   ]
  },
  {
   "cell_type": "code",
   "execution_count": 14,
   "metadata": {},
   "outputs": [
    {
     "name": "stdout",
     "output_type": "stream",
     "text": [
      "tensor([[0., 0., 0.,  ..., 0., 0., 0.],\n",
      "        [0., 0., 0.,  ..., 0., 0., 0.],\n",
      "        [0., 0., 0.,  ..., 0., 0., 0.],\n",
      "        ...,\n",
      "        [0., 0., 0.,  ..., 0., 0., 0.],\n",
      "        [0., 0., 0.,  ..., 0., 0., 0.],\n",
      "        [0., 0., 0.,  ..., 0., 0., 0.]]) tensor([5, 0, 4,  ..., 8, 4, 8])\n"
     ]
    },
    {
     "data": {
      "image/png": "[encoded data removed]",
      "text/plain": [
       "<Figure size 640x480 with 1 Axes>"
      ]
     },
     "metadata": {},
     "output_type": "display_data"
    }
   ],
   "source": [
    "pyplot.imshow(x_train[0].reshape((14, 14)), cmap=\"gray\")\n",
    "print(x_train, y_train)"
   ]
  },
  {
   "cell_type": "code",
   "execution_count": 15,
   "metadata": {},
   "outputs": [],
   "source": [
    "train_ds = TensorDataset(x_train, y_train)\n",
    "train_dl = DataLoader(train_ds, batch_size=bs, shuffle=True)\n",
    "\n",
    "valid_ds = TensorDataset(x_valid, y_valid)\n",
    "valid_dl = DataLoader(valid_ds, batch_size=bs * 2)"
   ]
  },
  {
   "cell_type": "code",
   "execution_count": 19,
   "metadata": {},
   "outputs": [],
   "source": [
    "class MNIST_Model_Q(nn.Module):\n",
    "  def __init__(self, h1):\n",
    "    super().__init__()\n",
    "    self.l1 = torchQuant.FC_Q(c, h1)\n",
    "    self.l2 = torchQuant.FC_Q(h1, 10)\n",
    "    #self.l3 = FC_Q(10, 10)\n",
    "\n",
    "  def forward(self, xb, train = True, L1_w = 256, L1_x = 256, L2_w = 256, L2_x = 256):\n",
    "    act = torch.nn.ReLU6()\n",
    "    out_act = torch.nn.Softmax(dim=1)\n",
    "    L1 = act(self.l1(xb, train, L1_w, L1_x))\n",
    "    L2 = self.l2(L1, train, L2_w, L2_x)\n",
    "    '''\n",
    "    if verbose:\n",
    "      print(torch.transpose(Q_int8(L1, self.l2.s_x(L2_bits), 0).type(torch.uint8), 0, 1))\n",
    "      print(torch.transpose(L2, 0, 1))\n",
    "    '''\n",
    "    return out_act(L2)\n",
    "\n",
    "  def compile(self, input, output, L1_bits = 8, L2_bits = 8):\n",
    "    begin = op(OP_BEGIN, input.to(torch.int8))\n",
    "    next = op(OP_MATMUL, self.l1.s_w(self.w_bits).to(torch.int8), begin)\n",
    "    next = op(OP_MATRIX_ADD, input.to(torch.int8), next)\n",
    "    next = op(OP_DEQUANTIZE, input.to(torch.int8), next)\n",
    "\n",
    "    next = op(OP_MATRIX_MAX, input.to(torch.int8), next)\n",
    "\n",
    "    next = op(OP_QUANTIZE, torch.tensor(1, dtype=torch.float32), next)\n",
    "    next = op(OP_MATMUL, input.to(torch.int8), next)\n",
    "    next = op(OP_MATRIX_ADD, input.to(torch.int8), next)\n",
    "    next = op(OP_DEQUANTIZE, input.to(torch.int8), next)\n",
    "\n",
    "    op(OP_END, output.to(torch.int8), next)\n",
    "\n",
    "    return begin.emit()"
   ]
  },
  {
   "cell_type": "code",
   "execution_count": 20,
   "metadata": {},
   "outputs": [
    {
     "name": "stdout",
     "output_type": "stream",
     "text": [
      "tensor(2.2878, grad_fn=<NllLossBackward0>)\n"
     ]
    }
   ],
   "source": [
    "lr = 0.001  # learning rate\n",
    "epochs = 20  # how many epochs to train for\n",
    "loss_func = F.cross_entropy\n",
    "hidden_dim = 64\n",
    "\n",
    "def get_model():\n",
    "    model = MNIST_Model_Q(hidden_dim)\n",
    "    return model, optim.Adam(model.parameters(), lr=lr)\n",
    "\n",
    "model, opt = get_model()\n",
    "print(loss_func(model(x_valid[0:bs]), y_valid[0:bs]))"
   ]
  },
  {
   "cell_type": "code",
   "execution_count": 21,
   "metadata": {},
   "outputs": [
    {
     "name": "stdout",
     "output_type": "stream",
     "text": [
      "0 1.5341457502365112\n",
      "5 1.5000014377593993\n",
      "10 1.494249535369873\n",
      "15 1.4940118537902831\n"
     ]
    }
   ],
   "source": [
    "# Create fit() and get_data()\n",
    "def loss_batch(model, loss_func, xb, yb, opt=None):\n",
    "    loss = loss_func(model(xb), yb)\n",
    "\n",
    "    if opt is not None:\n",
    "        loss.backward()\n",
    "        opt.step()\n",
    "        opt.zero_grad()\n",
    "\n",
    "    return loss.item(), len(xb)\n",
    "\n",
    "def fit(epochs, model, loss_func, opt, train_dl, valid_dl):\n",
    "    for epoch in range(epochs):\n",
    "        model.train()\n",
    "        for xb, yb in train_dl:\n",
    "            loss_batch(model, loss_func, xb, yb, opt)\n",
    "        if (epoch % 5 == 0):\n",
    "            model.eval()\n",
    "            with torch.no_grad():\n",
    "                losses, nums = zip(\n",
    "                    *[loss_batch(model, loss_func, xb, yb) for xb, yb in valid_dl]\n",
    "                )\n",
    "            val_loss = np.sum(np.multiply(losses, nums)) / np.sum(nums)\n",
    "            print(epoch, val_loss)\n",
    "\n",
    "def get_data(train_ds, valid_ds, bs):\n",
    "    return (\n",
    "        DataLoader(train_ds, batch_size=bs, shuffle=True),\n",
    "        DataLoader(valid_ds, batch_size=bs * 2),\n",
    "    )\n",
    "\n",
    "train_dl, valid_dl = get_data(train_ds, valid_ds, bs)\n",
    "model, opt = get_model()\n",
    "fit(epochs, model, loss_func, opt, train_dl, valid_dl)"
   ]
  },
  {
   "cell_type": "code",
   "execution_count": 22,
   "metadata": {},
   "outputs": [],
   "source": [
    "def accuracy(out, yb):\n",
    "    preds = torch.argmax(out, dim=1)\n",
    "    return (preds == yb).float().mean().item()\n",
    "\n",
    "def correct_index(out, yb):\n",
    "    preds = torch.argmax(out, dim=1)\n",
    "    return torch.nonzero((preds == yb), as_tuple = True)"
   ]
  },
  {
   "cell_type": "code",
   "execution_count": 23,
   "metadata": {},
   "outputs": [
    {
     "name": "stdout",
     "output_type": "stream",
     "text": [
      "Unquantized accuracy 0.9688000082969666 %\n",
      "Quantized accuracy int8 0.8809999823570251 %\n",
      "Quantized accuracy int8 0.9294999837875366 %\n"
     ]
    }
   ],
   "source": [
    "L1_bits = 6 # 5 for 28*28, 9 for 14*14\n",
    "L2_bits = 8\n",
    "print(\"Unquantized accuracy\", accuracy(model(x_valid), y_valid), \"%\")\n",
    "print(\"Quantized accuracy int8\", accuracy(model(x_valid, train = False,\n",
    "                                                L1_w = 16, L1_x = 2,\n",
    "                                                L2_w = 12, L2_x = 4),\n",
    "                                          y_valid), \"%\")\n",
    "print(\"Quantized accuracy int8\", accuracy(model(x_valid, train = False,\n",
    "                                                L1_w = 14, L1_x = 10,\n",
    "                                                L2_w = 8, L2_x = 7),\n",
    "                                          y_valid), \"%\")"
   ]
  },
  {
   "cell_type": "code",
   "execution_count": null,
   "metadata": {},
   "outputs": [],
   "source": []
  }
 ],
 "metadata": {
  "kernelspec": {
   "display_name": "tzip",
   "language": "python",
   "name": "python3"
  },
  "language_info": {
   "codemirror_mode": {
    "name": "ipython",
    "version": 3
   },
   "file_extension": ".py",
   "mimetype": "text/x-python",
   "name": "python",
   "nbconvert_exporter": "python",
   "pygments_lexer": "ipython3",
   "version": "3.11.4"
  },
  "orig_nbformat": 4
 },
 "nbformat": 4,
 "nbformat_minor": 2
}
